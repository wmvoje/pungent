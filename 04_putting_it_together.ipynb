{
 "cells": [
  {
   "cell_type": "markdown",
   "metadata": {},
   "source": [
    "# Goal \n",
    "\n",
    "**Inputs:**\n",
    "\n",
    "1. Take an input context text \n",
    "2. Take input sentence\n",
    "\n",
    "**Backend:**\n",
    "\n",
    "1. Convert input(1) to tokens \n",
    "2. wikpedia_topic_mode(tokens) -> likely_topics\n",
    "3. wikpedia_topic_mode(likely_topics) -> pun_possible_words\n",
    "4. pun.insert_pun( input(2), pun_possible_words ) -> new sentence\n",
    "\n",
    "**Output:**\n",
    "\n",
    "1. Print new sentence\n",
    "\n"
   ]
  },
  {
   "cell_type": "code",
   "execution_count": 1,
   "metadata": {},
   "outputs": [],
   "source": [
    "# imports \n",
    "import pun\n",
    "import pickle\n",
    "from gensim.models.ldamodel import LdaModel as Lda\n",
    "from gensim import corpora\n",
    "from gensim.models import doc2vec\n",
    "from gensim.utils import simple_preprocess"
   ]
  },
  {
   "cell_type": "code",
   "execution_count": 2,
   "metadata": {},
   "outputs": [],
   "source": [
    "# Load the model\n",
    "\n",
    "wiki_topicmodel = Lda.load('models/180924_wikipedia_model.stemmed.individually_binned.200.gensim.')\n",
    "\n",
    "# loading the stemmed_dict\n",
    "\n",
    "with open('180922_stemmed_dict.p', 'rb') as tounpick:\n",
    "    stemmed_dict = pickle.load(tounpick)\n",
    "\n",
    "# Loading the doc2vec\n",
    "\n",
    "wiki_doc2vec = doc2vec.Doc2Vec.load('models/simple_wiki_chunked_doc2vec')\n",
    "\n",
    "# loading the doc2vec corpus \n",
    "\n",
    "with open('models/simple_wiki_chunked_corpus.p', 'rb') as tounpcik:\n",
    "    wiki_doc2vec_corpus = pickle.load(tounpcik)"
   ]
  },
  {
   "cell_type": "markdown",
   "metadata": {},
   "source": [
    "# Dealing with words from topic model"
   ]
  },
  {
   "cell_type": "code",
   "execution_count": 3,
   "metadata": {},
   "outputs": [],
   "source": [
    "def get_words_from_top_topics(topic_list, model, min_topic_prob=0.1, min_word_prob=0.05):\n",
    "    \"\"\"\n",
    "    First finding all of the words\n",
    "    \"\"\"\n",
    "    \n",
    "    list_of_words = []\n",
    "    \n",
    "    topic_list.sort(key=lambda tup: tup[1], reverse=True)\n",
    "    \n",
    "    for topic, topic_prob in topic_list:\n",
    "        \n",
    "        if topic_prob < min_topic_prob:\n",
    "            break\n",
    "        \n",
    "        for word_id, word_prob in model.get_topic_terms(topic, 100):\n",
    "            if word_prob < min_word_prob:\n",
    "                break\n",
    "            list_of_words.append(model.id2word[word_id])\n",
    "    \n",
    "    return list_of_words"
   ]
  },
  {
   "cell_type": "code",
   "execution_count": 4,
   "metadata": {},
   "outputs": [],
   "source": [
    "def get_words_from_top_topic(topic_list, model, min_word_prob=0.05):\n",
    "    \"\"\"\n",
    "    First finding all of the words\n",
    "    \"\"\"\n",
    "    \n",
    "    list_of_words = []\n",
    "    topic_list.sort(key=lambda tup: tup[1], reverse=True)\n",
    "    \n",
    "    topic, topic_prob = topic_list[0]\n",
    "        \n",
    "    for word_id, word_prob in model.get_topic_terms(topic, 100):\n",
    "        if word_prob < min_word_prob:\n",
    "            break\n",
    "        if model.id2word[word_id] in stemmed_dict:\n",
    "            for word in stemmed_dict[model.id2word[word_id]]:\n",
    "                list_of_words.append(word)\n",
    "        else:\n",
    "            list_of_words.append(model.id2word[word_id])\n",
    "\n",
    "    \n",
    "    return list_of_words, topic_prob"
   ]
  },
  {
   "cell_type": "code",
   "execution_count": 5,
   "metadata": {},
   "outputs": [],
   "source": [
    "# Define the context\n",
    "\n",
    "context = 'purr'\n",
    "context = \"Climbing is the activity of using one's hands, feet, or any other part of the body to ascend a steep object. It is done for locomotion, recreation and competition, in trades that rely on it, and in emergency rescue and military operations. It is done indoors and out, on natural and man-made structures.\"\n",
    "# context = \"The domestic cat (Felis silvestris catus or Felis catus)[1][4] is a small, typically furry, carnivorous mammal. They are often called house cats[5] when kept as indoor pets or simply cats when there is no need to distinguish them from other felids and felines. They are often valued by humans for companionship and for their ability to hunt vermin. There are more than seventy cat breeds recognized by various cat registries.\"\n",
    "\n",
    "# Tokenize context \n",
    "\n",
    "context_tokens = pun.tokenize(context)\n",
    "\n",
    "# Convert to bow\n",
    "\n",
    "bag_of_words = wiki_topicmodel.id2word.doc2bow(context_tokens)"
   ]
  },
  {
   "cell_type": "code",
   "execution_count": 6,
   "metadata": {},
   "outputs": [],
   "source": [
    "def sentence_to_topicmodel_words(sentence, model):\n",
    "    context_tokens = pun.tokenize(sentence)\n",
    "    bag_of_words = model.id2word.doc2bow(context_tokens)\n",
    "    document_topics = model.get_document_topics(bag_of_words) \n",
    "    return get_words_from_top_topic(document_topics, model)"
   ]
  },
  {
   "cell_type": "code",
   "execution_count": 7,
   "metadata": {},
   "outputs": [
    {
     "data": {
      "text/plain": [
       "(['reporter',\n",
       "  'reporters',\n",
       "  'news',\n",
       "  'host',\n",
       "  'active',\n",
       "  'activator',\n",
       "  'activate',\n",
       "  'activism',\n",
       "  'activators',\n",
       "  'actively',\n",
       "  'activity',\n",
       "  'activities',\n",
       "  'activation'],\n",
       " 0.111388884)"
      ]
     },
     "execution_count": 7,
     "metadata": {},
     "output_type": "execute_result"
    }
   ],
   "source": [
    "sentence_to_topicmodel_words(context, wiki_topicmodel)"
   ]
  },
  {
   "cell_type": "markdown",
   "metadata": {},
   "source": [
    "# Dealing with doc2vec information"
   ]
  },
  {
   "cell_type": "code",
   "execution_count": 8,
   "metadata": {},
   "outputs": [],
   "source": [
    "def sentence_to_doc2vec(text, model):\n",
    "    \"\"\"\n",
    "    Iterator which spits out words that are found in \n",
    "    the most 'topical' textual elements\n",
    "    \"\"\"\n",
    "    # parse the sentence \n",
    "    text = simple_preprocess(text)\n",
    "    # Find the respective doc2vec vector\n",
    "    text_vector = model.infer_vector(text)\n",
    "    # find the most similar text pieces\n",
    "    most_similar_documents_with_score = model.docvecs.most_similar([text_vector])\n",
    "    \n",
    "    for document_id, cosine_sim_score in most_similar_documents_with_score:\n",
    "        \n",
    "        yield (set(pun.tokenize(wiki_doc2vec_corpus[document_id], stem=False, initial_word_split=False)), cosine_sim_score)\n",
    "        \n",
    "    "
   ]
  },
  {
   "cell_type": "code",
   "execution_count": 9,
   "metadata": {},
   "outputs": [],
   "source": [
    "output = sentence_to_doc2vec(\"Climbing is the activity of using one's hands, feet, or any other part of the body to ascend a steep object. It is done for locomotion, recreation and competition, in trades that rely on it, and in emergency rescue and military operations. It is done indoors and out, on natural and man-made structures.\",\n",
    "                             wiki_doc2vec)"
   ]
  },
  {
   "cell_type": "code",
   "execution_count": 10,
   "metadata": {},
   "outputs": [
    {
     "name": "stderr",
     "output_type": "stream",
     "text": [
      "/home/wmvoje/anaconda3/lib/python3.6/site-packages/gensim/matutils.py:737: FutureWarning: Conversion of the second argument of issubdtype from `int` to `np.signedinteger` is deprecated. In future, it will be treated as `np.int64 == np.dtype(int).type`.\n",
      "  if np.issubdtype(vec.dtype, np.int):\n"
     ]
    },
    {
     "data": {
      "text/plain": [
       "({'boulder',\n",
       "  'case',\n",
       "  'climb',\n",
       "  'climber',\n",
       "  'drop',\n",
       "  'gym',\n",
       "  'harness',\n",
       "  'heights',\n",
       "  'injuries',\n",
       "  'practice',\n",
       "  'protect',\n",
       "  'rock',\n",
       "  'rope',\n",
       "  'suffer',\n",
       "  'type'},\n",
       " 0.7038991451263428)"
      ]
     },
     "execution_count": 10,
     "metadata": {},
     "output_type": "execute_result"
    }
   ],
   "source": [
    "next(output)"
   ]
  },
  {
   "cell_type": "markdown",
   "metadata": {},
   "source": [
    "# Builiding how it is all connected"
   ]
  },
  {
   "cell_type": "code",
   "execution_count": 11,
   "metadata": {},
   "outputs": [],
   "source": [
    "def generate_possible_pun_substitutions(context, input_sentence, w2v_number=4):\n",
    "    \"\"\"\n",
    "    Takes context and input sentence \n",
    "    \n",
    "    returns list of possible substitutions with scores and the topic \n",
    "    words consdiered\n",
    "    \"\"\"\n",
    "    \n",
    "    # First process context\n",
    "    doc2vec_word_generator = sentence_to_doc2vec(context, wiki_doc2vec)\n",
    "    topic_words, topic_score = sentence_to_topicmodel_words(context, wiki_topicmodel)\n",
    "\n",
    "    # Then try to generate sentences using these metrics\n",
    "    output = []\n",
    "    topic_words_considered = []\n",
    "    \n",
    "    # consider word2vec words\n",
    "    for i in range(w2v_number):\n",
    "        words, w2v_score = next(doc2vec_word_generator)\n",
    "\n",
    "        topic_words_considered.extend([[word, 'word2vec', i+1, w2v_score] for word in words])\n",
    "\n",
    "        sub_tuples = pun.enumerate_PD_pun_subs(input_sentence, words)\n",
    "        # word, sub_index, phonetic_distance\n",
    "\n",
    "        for word, sub_index, phon_dist in sub_tuples:\n",
    "            output.append([word, sub_index, phon_dist, 'word2vec', i+1, w2v_score, phon_dist/w2v_score])\n",
    "\n",
    "    # Now do topic words\n",
    "    sub_tuples = pun.enumerate_PD_pun_subs(input_sentence, topic_words)\n",
    "    for word, sub_index, phon_dist in sub_tuples:\n",
    "\n",
    "        topic_words_considered.append([word, 'topicModel', 1, topic_score])\n",
    "\n",
    "        output.append([word, sub_index, phon_dist, 'topicModel', 1, topic_score, phon_dist/topic_score])\n",
    "\n",
    "    output.sort(key=lambda x: x[6])\n",
    "    \n",
    "    return output, topic_words_considered\n"
   ]
  },
  {
   "cell_type": "code",
   "execution_count": 21,
   "metadata": {},
   "outputs": [],
   "source": [
    "# context = \"Climbing is the activity of using one's hands, feet, or any other part of the body to ascend a steep object. It is done for locomotion, recreation and competition, in trades that rely on it, and in emergency rescue and military operations. It is done indoors and out, on natural and man-made structures.\"\n",
    "context = \"Prince of the United Kingdom of Great Britain and Northern Ireland is a royal title normally granted to sons and grandsons of reigning and past British monarchs. It is also held by the Duke of Edinburgh, husband and consort of Queen Elizabeth II. The title is granted by the reigning monarch, who is the fount of all honours, through the issuing of letters patent as an expression of the royal will.\"\n",
    "\n",
    "input_sentence = \"join us at our gym we hope to see you there\""
   ]
  },
  {
   "cell_type": "code",
   "execution_count": 22,
   "metadata": {},
   "outputs": [
    {
     "name": "stderr",
     "output_type": "stream",
     "text": [
      "/home/wmvoje/anaconda3/lib/python3.6/site-packages/gensim/matutils.py:737: FutureWarning: Conversion of the second argument of issubdtype from `int` to `np.signedinteger` is deprecated. In future, it will be treated as `np.int64 == np.dtype(int).type`.\n",
      "  if np.issubdtype(vec.dtype, np.int):\n"
     ]
    }
   ],
   "source": [
    "ranked_substitutions, topic_words_considered = generate_possible_pun_substitutions(context, input_sentence)"
   ]
  },
  {
   "cell_type": "code",
   "execution_count": 23,
   "metadata": {},
   "outputs": [
    {
     "name": "stdout",
     "output_type": "stream",
     "text": [
      "join us at flower gym we hope to see you there\n",
      "join us at our gym we hope to see use there\n",
      "join us at our gym we hope to see you wear\n",
      "join us at our gym we hope to sir you there\n",
      "join us at our gym way hope to see you there\n",
      "join us at our gym see hope to see you there\n",
      "join house at our gym we hope to see you there\n",
      "join us coat our gym we hope to see you there\n",
      "join us at house gym we hope to see you there\n",
      "join use at our gym we hope to see you there\n"
     ]
    }
   ],
   "source": [
    "for thing in [pun.substitute_pun(input_sentence, x[:3]) for x in ranked_substitutions[:10]]:\n",
    "    print(thing)"
   ]
  },
  {
   "cell_type": "code",
   "execution_count": 20,
   "metadata": {},
   "outputs": [
    {
     "data": {
      "text/plain": [
       "[['rope', 6, 2, 'word2vec', 1, 0.6688772439956665, 2.990085277909316],\n",
       " ['tube', 7, 2, 'word2vec', 2, 0.6532958149909973, 3.0614002938738567],\n",
       " ['tow', 7, 2, 'word2vec', 4, 0.6273124814033508, 3.1882037410220687],\n",
       " ['ski', 8, 2, 'word2vec', 4, 0.6273124814033508, 3.1882037410220687],\n",
       " ['use', 9, 2, 'word2vec', 4, 0.6273124814033508, 3.1882037410220687],\n",
       " ['case', 1, 3, 'word2vec', 1, 0.6688772439956665, 4.485127916863974],\n",
       " ['run', 1, 3, 'word2vec', 2, 0.6532958149909973, 4.5921004408107855],\n",
       " ['shoot', 2, 3, 'word2vec', 2, 0.6532958149909973, 4.5921004408107855],\n",
       " ['swim', 4, 3, 'word2vec', 2, 0.6532958149909973, 4.5921004408107855],\n",
       " ['lung', 1, 3, 'word2vec', 3, 0.6473333239555359, 4.634397595458973],\n",
       " ['path', 2, 3, 'word2vec', 3, 0.6473333239555359, 4.634397595458973],\n",
       " ['matter', 2, 3, 'word2vec', 3, 0.6473333239555359, 4.634397595458973],\n",
       " ['stay', 7, 3, 'word2vec', 3, 0.6473333239555359, 4.634397595458973],\n",
       " ['race', 1, 3, 'word2vec', 4, 0.6273124814033508, 4.782305611533103],\n",
       " ['use', 1, 3, 'word2vec', 4, 0.6273124814033508, 4.782305611533103],\n",
       " ['boat', 2, 3, 'word2vec', 4, 0.6273124814033508, 4.782305611533103],\n",
       " ['jet', 2, 3, 'word2vec', 4, 0.6273124814033508, 4.782305611533103],\n",
       " ['catch', 2, 3, 'word2vec', 4, 0.6273124814033508, 4.782305611533103],\n",
       " ['feet', 2, 3, 'word2vec', 4, 0.6273124814033508, 4.782305611533103],\n",
       " ['tow', 2, 3, 'word2vec', 4, 0.6273124814033508, 4.782305611533103],\n",
       " ['ski', 5, 3, 'word2vec', 4, 0.6273124814033508, 4.782305611533103],\n",
       " ['gym', 0, 4, 'word2vec', 1, 0.6688772439956665, 5.980170555818632],\n",
       " ['heights', 1, 4, 'word2vec', 1, 0.6688772439956665, 5.980170555818632],\n",
       " ['suffer', 3, 4, 'word2vec', 1, 0.6688772439956665, 5.980170555818632],\n",
       " ['type', 6, 4, 'word2vec', 1, 0.6688772439956665, 5.980170555818632],\n",
       " ['type', 7, 4, 'word2vec', 1, 0.6688772439956665, 5.980170555818632],\n",
       " ['heights', 7, 4, 'word2vec', 1, 0.6688772439956665, 5.980170555818632],\n",
       " ['case', 8, 4, 'word2vec', 1, 0.6688772439956665, 5.980170555818632],\n",
       " ['fin', 0, 4, 'word2vec', 2, 0.6532958149909973, 6.122800587747713],\n",
       " ['run', 0, 4, 'word2vec', 2, 0.6532958149909973, 6.122800587747713],\n",
       " ['cross', 1, 4, 'word2vec', 2, 0.6532958149909973, 6.122800587747713],\n",
       " ['course', 1, 4, 'word2vec', 2, 0.6532958149909973, 6.122800587747713],\n",
       " ['show', 1, 4, 'word2vec', 2, 0.6532958149909973, 6.122800587747713],\n",
       " ['fence', 1, 4, 'word2vec', 2, 0.6532958149909973, 6.122800587747713],\n",
       " ['show', 2, 4, 'word2vec', 2, 0.6532958149909973, 6.122800587747713],\n",
       " ['show', 3, 4, 'word2vec', 2, 0.6532958149909973, 6.122800587747713],\n",
       " ['water', 3, 4, 'word2vec', 2, 0.6532958149909973, 6.122800587747713],\n",
       " ['team', 4, 4, 'word2vec', 2, 0.6532958149909973, 6.122800587747713],\n",
       " ['jump', 4, 4, 'word2vec', 2, 0.6532958149909973, 6.122800587747713],\n",
       " ['fin', 4, 4, 'word2vec', 2, 0.6532958149909973, 6.122800587747713],\n",
       " ['team', 5, 4, 'word2vec', 2, 0.6532958149909973, 6.122800587747713],\n",
       " ['show', 5, 4, 'word2vec', 2, 0.6532958149909973, 6.122800587747713],\n",
       " ['beach', 5, 4, 'word2vec', 2, 0.6532958149909973, 6.122800587747713],\n",
       " ['goal', 6, 4, 'word2vec', 2, 0.6532958149909973, 6.122800587747713],\n",
       " ['show', 6, 4, 'word2vec', 2, 0.6532958149909973, 6.122800587747713],\n",
       " ['team', 7, 4, 'word2vec', 2, 0.6532958149909973, 6.122800587747713],\n",
       " ['shoot', 7, 4, 'word2vec', 2, 0.6532958149909973, 6.122800587747713],\n",
       " ['show', 7, 4, 'word2vec', 2, 0.6532958149909973, 6.122800587747713],\n",
       " ['water', 7, 4, 'word2vec', 2, 0.6532958149909973, 6.122800587747713],\n",
       " ['mask', 8, 4, 'word2vec', 2, 0.6532958149909973, 6.122800587747713],\n",
       " ['team', 8, 4, 'word2vec', 2, 0.6532958149909973, 6.122800587747713],\n",
       " ['show', 8, 4, 'word2vec', 2, 0.6532958149909973, 6.122800587747713],\n",
       " ['beach', 8, 4, 'word2vec', 2, 0.6532958149909973, 6.122800587747713],\n",
       " ['surf', 8, 4, 'word2vec', 2, 0.6532958149909973, 6.122800587747713],\n",
       " ['tube', 9, 4, 'word2vec', 2, 0.6532958149909973, 6.122800587747713],\n",
       " ['shoot', 9, 4, 'word2vec', 2, 0.6532958149909973, 6.122800587747713],\n",
       " ['show', 9, 4, 'word2vec', 2, 0.6532958149909973, 6.122800587747713],\n",
       " ['know', 0, 4, 'word2vec', 3, 0.6473333239555359, 6.179196793945297],\n",
       " ['jog', 0, 4, 'word2vec', 3, 0.6473333239555359, 6.179196793945297],\n",
       " ['enjoy', 0, 4, 'word2vec', 3, 0.6473333239555359, 6.179196793945297],\n",
       " ['bone', 0, 4, 'word2vec', 3, 0.6473333239555359, 6.179196793945297],\n",
       " ['know', 1, 4, 'word2vec', 3, 0.6473333239555359, 6.179196793945297],\n",
       " ['age', 1, 4, 'word2vec', 3, 0.6473333239555359, 6.179196793945297],\n",
       " ['stay', 2, 4, 'word2vec', 3, 0.6473333239555359, 6.179196793945297],\n",
       " ['track', 2, 4, 'word2vec', 3, 0.6473333239555359, 6.179196793945297],\n",
       " ['know', 2, 4, 'word2vec', 3, 0.6473333239555359, 6.179196793945297],\n",
       " ['heart', 2, 4, 'word2vec', 3, 0.6473333239555359, 6.179196793945297],\n",
       " ['age', 2, 4, 'word2vec', 3, 0.6473333239555359, 6.179196793945297],\n",
       " ['know', 3, 4, 'word2vec', 3, 0.6473333239555359, 6.179196793945297],\n",
       " ['matter', 3, 4, 'word2vec', 3, 0.6473333239555359, 6.179196793945297],\n",
       " ['age', 3, 4, 'word2vec', 3, 0.6473333239555359, 6.179196793945297],\n",
       " ['jog', 4, 4, 'word2vec', 3, 0.6473333239555359, 6.179196793945297],\n",
       " ['know', 5, 4, 'word2vec', 3, 0.6473333239555359, 6.179196793945297],\n",
       " ['age', 5, 4, 'word2vec', 3, 0.6473333239555359, 6.179196793945297],\n",
       " ['feel', 5, 4, 'word2vec', 3, 0.6473333239555359, 6.179196793945297],\n",
       " ['beach', 5, 4, 'word2vec', 3, 0.6473333239555359, 6.179196793945297],\n",
       " ['help', 6, 4, 'word2vec', 3, 0.6473333239555359, 6.179196793945297],\n",
       " ['know', 6, 4, 'word2vec', 3, 0.6473333239555359, 6.179196793945297],\n",
       " ['bone', 6, 4, 'word2vec', 3, 0.6473333239555359, 6.179196793945297],\n",
       " ['know', 7, 4, 'word2vec', 3, 0.6473333239555359, 6.179196793945297],\n",
       " ['matter', 7, 4, 'word2vec', 3, 0.6473333239555359, 6.179196793945297],\n",
       " ['age', 7, 4, 'word2vec', 3, 0.6473333239555359, 6.179196793945297],\n",
       " ['stay', 8, 4, 'word2vec', 3, 0.6473333239555359, 6.179196793945297],\n",
       " ['know', 8, 4, 'word2vec', 3, 0.6473333239555359, 6.179196793945297],\n",
       " ['age', 8, 4, 'word2vec', 3, 0.6473333239555359, 6.179196793945297],\n",
       " ['feel', 8, 4, 'word2vec', 3, 0.6473333239555359, 6.179196793945297],\n",
       " ['beach', 8, 4, 'word2vec', 3, 0.6473333239555359, 6.179196793945297],\n",
       " ['know', 9, 4, 'word2vec', 3, 0.6473333239555359, 6.179196793945297],\n",
       " ['age', 9, 4, 'word2vec', 3, 0.6473333239555359, 6.179196793945297],\n",
       " ['jet', 0, 4, 'word2vec', 4, 0.6273124814033508, 6.376407482044137],\n",
       " ['mean', 0, 4, 'word2vec', 4, 0.6273124814033508, 6.376407482044137],\n",
       " ['lie', 1, 4, 'word2vec', 4, 0.6273124814033508, 6.376407482044137],\n",
       " ['row', 1, 4, 'word2vec', 4, 0.6273124814033508, 6.376407482044137],\n",
       " ['tow', 1, 4, 'word2vec', 4, 0.6273124814033508, 6.376407482044137],\n",
       " ['skate', 2, 4, 'word2vec', 4, 0.6273124814033508, 6.376407482044137],\n",
       " ['lie', 2, 4, 'word2vec', 4, 0.6273124814033508, 6.376407482044137],\n",
       " ['attach', 2, 4, 'word2vec', 4, 0.6273124814033508, 6.376407482044137],\n",
       " ['row', 2, 4, 'word2vec', 4, 0.6273124814033508, 6.376407482044137],\n",
       " ['lie', 3, 4, 'word2vec', 4, 0.6273124814033508, 6.376407482044137],\n",
       " ['row', 3, 4, 'word2vec', 4, 0.6273124814033508, 6.376407482044137],\n",
       " ['water', 3, 4, 'word2vec', 4, 0.6273124814033508, 6.376407482044137],\n",
       " ['motor', 3, 4, 'word2vec', 4, 0.6273124814033508, 6.376407482044137],\n",
       " ['tow', 3, 4, 'word2vec', 4, 0.6273124814033508, 6.376407482044137],\n",
       " ['jet', 4, 4, 'word2vec', 4, 0.6273124814033508, 6.376407482044137],\n",
       " ['team', 4, 4, 'word2vec', 4, 0.6273124814033508, 6.376407482044137],\n",
       " ['fish', 4, 4, 'word2vec', 4, 0.6273124814033508, 6.376407482044137],\n",
       " ['lie', 5, 4, 'word2vec', 4, 0.6273124814033508, 6.376407482044137],\n",
       " ['mean', 5, 4, 'word2vec', 4, 0.6273124814033508, 6.376407482044137],\n",
       " ['team', 5, 4, 'word2vec', 4, 0.6273124814033508, 6.376407482044137],\n",
       " ['row', 5, 4, 'word2vec', 4, 0.6273124814033508, 6.376407482044137],\n",
       " ['wave', 5, 4, 'word2vec', 4, 0.6273124814033508, 6.376407482044137],\n",
       " ['wake', 5, 4, 'word2vec', 4, 0.6273124814033508, 6.376407482044137],\n",
       " ['feet', 5, 4, 'word2vec', 4, 0.6273124814033508, 6.376407482044137],\n",
       " ['tow', 5, 4, 'word2vec', 4, 0.6273124814033508, 6.376407482044137],\n",
       " ['boat', 6, 4, 'word2vec', 4, 0.6273124814033508, 6.376407482044137],\n",
       " ['row', 6, 4, 'word2vec', 4, 0.6273124814033508, 6.376407482044137],\n",
       " ['tow', 6, 4, 'word2vec', 4, 0.6273124814033508, 6.376407482044137],\n",
       " ['boat', 7, 4, 'word2vec', 4, 0.6273124814033508, 6.376407482044137],\n",
       " ['jet', 7, 4, 'word2vec', 4, 0.6273124814033508, 6.376407482044137],\n",
       " ['lie', 7, 4, 'word2vec', 4, 0.6273124814033508, 6.376407482044137],\n",
       " ['team', 7, 4, 'word2vec', 4, 0.6273124814033508, 6.376407482044137],\n",
       " ['row', 7, 4, 'word2vec', 4, 0.6273124814033508, 6.376407482044137],\n",
       " ['use', 7, 4, 'word2vec', 4, 0.6273124814033508, 6.376407482044137],\n",
       " ['canoe', 7, 4, 'word2vec', 4, 0.6273124814033508, 6.376407482044137],\n",
       " ['feet', 7, 4, 'word2vec', 4, 0.6273124814033508, 6.376407482044137],\n",
       " ['water', 7, 4, 'word2vec', 4, 0.6273124814033508, 6.376407482044137],\n",
       " ['motor', 7, 4, 'word2vec', 4, 0.6273124814033508, 6.376407482044137],\n",
       " ['sail', 8, 4, 'word2vec', 4, 0.6273124814033508, 6.376407482044137],\n",
       " ['race', 8, 4, 'word2vec', 4, 0.6273124814033508, 6.376407482044137],\n",
       " ['lie', 8, 4, 'word2vec', 4, 0.6273124814033508, 6.376407482044137],\n",
       " ['mean', 8, 4, 'word2vec', 4, 0.6273124814033508, 6.376407482044137],\n",
       " ['team', 8, 4, 'word2vec', 4, 0.6273124814033508, 6.376407482044137],\n",
       " ['row', 8, 4, 'word2vec', 4, 0.6273124814033508, 6.376407482044137],\n",
       " ['use', 8, 4, 'word2vec', 4, 0.6273124814033508, 6.376407482044137],\n",
       " ['feet', 8, 4, 'word2vec', 4, 0.6273124814033508, 6.376407482044137],\n",
       " ['surf', 8, 4, 'word2vec', 4, 0.6273124814033508, 6.376407482044137],\n",
       " ['tow', 8, 4, 'word2vec', 4, 0.6273124814033508, 6.376407482044137],\n",
       " ['lie', 9, 4, 'word2vec', 4, 0.6273124814033508, 6.376407482044137],\n",
       " ['row', 9, 4, 'word2vec', 4, 0.6273124814033508, 6.376407482044137],\n",
       " ['canoe', 9, 4, 'word2vec', 4, 0.6273124814033508, 6.376407482044137],\n",
       " ['tow', 9, 4, 'word2vec', 4, 0.6273124814033508, 6.376407482044137],\n",
       " ['jet', 10, 4, 'word2vec', 4, 0.6273124814033508, 6.376407482044137],\n",
       " ['row', 10, 4, 'word2vec', 4, 0.6273124814033508, 6.376407482044137],\n",
       " ['host', 2, 4, 'topicModel', 1, 0.11138889, 35.91022345676667],\n",
       " ['host', 6, 4, 'topicModel', 1, 0.11138889, 35.91022345676667],\n",
       " ['news', 7, 4, 'topicModel', 1, 0.11138889, 35.91022345676667],\n",
       " ['host', 8, 4, 'topicModel', 1, 0.11138889, 35.91022345676667],\n",
       " ['news', 9, 4, 'topicModel', 1, 0.11138889, 35.91022345676667]]"
      ]
     },
     "execution_count": 20,
     "metadata": {},
     "output_type": "execute_result"
    }
   ],
   "source": [
    "ranked_substitutions"
   ]
  },
  {
   "cell_type": "code",
   "execution_count": 24,
   "metadata": {},
   "outputs": [
    {
     "data": {
      "text/plain": [
       "[['coat', 'word2vec', 1, 0.7339661121368408],\n",
       " ['arm', 'word2vec', 1, 0.7339661121368408],\n",
       " ['issue', 'word2vec', 1, 0.7339661121368408],\n",
       " ['marshal', 'word2vec', 1, 0.7339661121368408],\n",
       " ['elect', 'word2vec', 1, 0.7339661121368408],\n",
       " ['processions', 'word2vec', 1, 0.7339661121368408],\n",
       " ['peer', 'word2vec', 1, 0.7339661121368408],\n",
       " ['charge', 'word2vec', 1, 0.7339661121368408],\n",
       " ['earl', 'word2vec', 1, 0.7339661121368408],\n",
       " ['college', 'word2vec', 1, 0.7339661121368408],\n",
       " ['give', 'word2vec', 1, 0.7339661121368408],\n",
       " ['duke', 'word2vec', 1, 0.7339661121368408],\n",
       " ['house', 'word2vec', 1, 0.7339661121368408],\n",
       " ['hereditary', 'word2vec', 1, 0.7339661121368408],\n",
       " ['member', 'word2vec', 1, 0.7339661121368408],\n",
       " ['lord', 'word2vec', 1, 0.7339661121368408],\n",
       " ['royal', 'word2vec', 1, 0.7339661121368408],\n",
       " ['ceremonies', 'word2vec', 1, 0.7339661121368408],\n",
       " ['household', 'word2vec', 1, 0.7339661121368408],\n",
       " ['permission', 'word2vec', 1, 0.7339661121368408],\n",
       " ['prize', 'word2vec', 2, 0.7277676463127136],\n",
       " ['crown', 'word2vec', 2, 0.7277676463127136],\n",
       " ['winners', 'word2vec', 2, 0.7277676463127136],\n",
       " ['children', 'word2vec', 2, 0.7277676463127136],\n",
       " ['contest', 'word2vec', 2, 0.7277676463127136],\n",
       " ['type', 'word2vec', 2, 0.7277676463127136],\n",
       " ['chain', 'word2vec', 2, 0.7277676463127136],\n",
       " ['headdress', 'word2vec', 2, 0.7277676463127136],\n",
       " ['win', 'word2vec', 2, 0.7277676463127136],\n",
       " ['pageant', 'word2vec', 2, 0.7277676463127136],\n",
       " ['monarchy', 'word2vec', 2, 0.7277676463127136],\n",
       " ['head', 'word2vec', 2, 0.7277676463127136],\n",
       " ['couple', 'word2vec', 2, 0.7277676463127136],\n",
       " ['choose', 'word2vec', 2, 0.7277676463127136],\n",
       " ['award', 'word2vec', 2, 0.7277676463127136],\n",
       " ['receive', 'word2vec', 2, 0.7277676463127136],\n",
       " ['call', 'word2vec', 2, 0.7277676463127136],\n",
       " ['wear', 'word2vec', 2, 0.7277676463127136],\n",
       " ['symbol', 'word2vec', 2, 0.7277676463127136],\n",
       " ['example', 'word2vec', 2, 0.7277676463127136],\n",
       " ['flower', 'word2vec', 2, 0.7277676463127136],\n",
       " ['king', 'word2vec', 2, 0.7277676463127136],\n",
       " ['girl', 'word2vec', 2, 0.7277676463127136],\n",
       " ['daisy', 'word2vec', 2, 0.7277676463127136],\n",
       " ['part', 'word2vec', 2, 0.7277676463127136],\n",
       " ['beauty', 'word2vec', 2, 0.7277676463127136],\n",
       " ['use', 'word2vec', 2, 0.7277676463127136],\n",
       " ['dance', 'word2vec', 2, 0.7277676463127136],\n",
       " ['monarch', 'word2vec', 2, 0.7277676463127136],\n",
       " ['nothing', 'word2vec', 2, 0.7277676463127136],\n",
       " ['queen', 'word2vec', 2, 0.7277676463127136],\n",
       " ['occasion', 'word2vec', 2, 0.7277676463127136],\n",
       " ['kingdom', 'word2vec', 3, 0.721872866153717],\n",
       " ['rank', 'word2vec', 3, 0.721872866153717],\n",
       " ['chivalry', 'word2vec', 3, 0.721872866153717],\n",
       " ['bachelor', 'word2vec', 3, 0.721872866153717],\n",
       " ['title', 'word2vec', 3, 0.721872866153717],\n",
       " ['baronet', 'word2vec', 3, 0.721872866153717],\n",
       " ['man', 'word2vec', 3, 0.721872866153717],\n",
       " ['order', 'word2vec', 3, 0.721872866153717],\n",
       " ['pass', 'word2vec', 3, 0.721872866153717],\n",
       " ['knight', 'word2vec', 3, 0.721872866153717],\n",
       " ['children', 'word2vec', 3, 0.721872866153717],\n",
       " ['baronets', 'word2vec', 3, 0.721872866153717],\n",
       " ['barons', 'word2vec', 3, 0.721872866153717],\n",
       " ['members', 'word2vec', 3, 0.721872866153717],\n",
       " ['sir', 'word2vec', 3, 0.721872866153717],\n",
       " ['die', 'word2vec', 4, 0.72035813331604],\n",
       " ['brother', 'word2vec', 4, 0.72035813331604],\n",
       " ['crown', 'word2vec', 4, 0.72035813331604],\n",
       " ['inheritance', 'word2vec', 4, 0.72035813331604],\n",
       " ['nowadays', 'word2vec', 4, 0.72035813331604],\n",
       " ['family', 'word2vec', 4, 0.72035813331604],\n",
       " ['methods', 'word2vec', 4, 0.72035813331604],\n",
       " ['pass', 'word2vec', 4, 0.72035813331604],\n",
       " ['question', 'word2vec', 4, 0.72035813331604],\n",
       " ['children', 'word2vec', 4, 0.72035813331604],\n",
       " ['member', 'word2vec', 4, 0.72035813331604],\n",
       " ['system', 'word2vec', 4, 0.72035813331604],\n",
       " ['know', 'word2vec', 4, 0.72035813331604],\n",
       " ['beforehand', 'word2vec', 4, 0.72035813331604],\n",
       " ['throne', 'word2vec', 4, 0.72035813331604],\n",
       " ['monarchy', 'word2vec', 4, 0.72035813331604],\n",
       " ['order', 'word2vec', 4, 0.72035813331604],\n",
       " ['oldest', 'word2vec', 4, 0.72035813331604],\n",
       " ['past', 'word2vec', 4, 0.72035813331604],\n",
       " ['loyalty', 'word2vec', 4, 0.72035813331604],\n",
       " ['cousin', 'word2vec', 4, 0.72035813331604],\n",
       " ['way', 'word2vec', 4, 0.72035813331604],\n",
       " ['see', 'word2vec', 4, 0.72035813331604],\n",
       " ['child', 'word2vec', 4, 0.72035813331604],\n",
       " ['king', 'word2vec', 4, 0.72035813331604],\n",
       " ['succession', 'word2vec', 4, 0.72035813331604],\n",
       " ['monarchs', 'word2vec', 4, 0.72035813331604],\n",
       " ['quit', 'word2vec', 4, 0.72035813331604],\n",
       " ['monarch', 'word2vec', 4, 0.72035813331604],\n",
       " ['sister', 'word2vec', 4, 0.72035813331604],\n",
       " ['arrange', 'word2vec', 4, 0.72035813331604],\n",
       " ['idea', 'word2vec', 4, 0.72035813331604],\n",
       " ['base', 'word2vec', 4, 0.72035813331604],\n",
       " ['law', 'word2vec', 4, 0.72035813331604],\n",
       " ['create', 'word2vec', 4, 0.72035813331604],\n",
       " ['time', 'word2vec', 4, 0.72035813331604],\n",
       " ['command', 'word2vec', 4, 0.72035813331604],\n",
       " ['monarchies', 'word2vec', 4, 0.72035813331604],\n",
       " ['primogeniture', 'word2vec', 4, 0.72035813331604],\n",
       " ['white', 'topicModel', 1, 0.18715447],\n",
       " ['marie', 'topicModel', 1, 0.18715447],\n",
       " ['marie', 'topicModel', 1, 0.18715447],\n",
       " ['louis', 'topicModel', 1, 0.18715447],\n",
       " ['marie', 'topicModel', 1, 0.18715447],\n",
       " ['white', 'topicModel', 1, 0.18715447],\n",
       " ['white', 'topicModel', 1, 0.18715447],\n",
       " ['mary', 'topicModel', 1, 0.18715447]]"
      ]
     },
     "execution_count": 24,
     "metadata": {},
     "output_type": "execute_result"
    }
   ],
   "source": [
    "topic_words_considered"
   ]
  },
  {
   "cell_type": "code",
   "execution_count": null,
   "metadata": {},
   "outputs": [],
   "source": []
  },
  {
   "cell_type": "code",
   "execution_count": 16,
   "metadata": {
    "scrolled": false
   },
   "outputs": [],
   "source": [
    "list_of_words = [word[0] for word in topic_words_considered]"
   ]
  },
  {
   "cell_type": "code",
   "execution_count": 25,
   "metadata": {},
   "outputs": [
    {
     "data": {
      "text/plain": [
       "[('choose', 'NN')]"
      ]
     },
     "execution_count": 25,
     "metadata": {},
     "output_type": "execute_result"
    }
   ],
   "source": [
    "pun.pos_tag(['choose'])"
   ]
  },
  {
   "cell_type": "markdown",
   "metadata": {},
   "source": [
    "1. right topic \n",
    "2. Does it sound similar \n",
    "\n",
    "implement live validation *********\n",
    "\n",
    "Conversational corpus \n",
    "\n",
    "multi-arm banding \n",
    "\n",
    "\n"
   ]
  }
 ],
 "metadata": {
  "kernelspec": {
   "display_name": "Python 3",
   "language": "python",
   "name": "python3"
  },
  "language_info": {
   "codemirror_mode": {
    "name": "ipython",
    "version": 3
   },
   "file_extension": ".py",
   "mimetype": "text/x-python",
   "name": "python",
   "nbconvert_exporter": "python",
   "pygments_lexer": "ipython3",
   "version": "3.6.5"
  }
 },
 "nbformat": 4,
 "nbformat_minor": 2
}
