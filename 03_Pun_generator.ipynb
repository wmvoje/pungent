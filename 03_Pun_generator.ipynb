{
 "cells": [
  {
   "cell_type": "code",
   "execution_count": 1,
   "metadata": {},
   "outputs": [],
   "source": [
    "import cmudict\n",
    "import nltk\n",
    "phone_dict = nltk.corpus.cmudict.dict()\n"
   ]
  },
  {
   "cell_type": "markdown",
   "metadata": {},
   "source": [
    "# Pun generator"
   ]
  },
  {
   "cell_type": "markdown",
   "metadata": {},
   "source": [
    "## Extracting and comparing phones"
   ]
  },
  {
   "cell_type": "code",
   "execution_count": 2,
   "metadata": {},
   "outputs": [],
   "source": [
    "# extracting phones from words and sentences\n",
    "\n",
    "# consider using metaphonedoble instead of this library\n",
    "\n",
    "def word_to_phoneme(word):\n",
    "    return phone_dict[word][0]\n",
    "\n",
    "def sentence_to_word_of_phoneme(sentence):\n",
    "    \"\"\"takes string sentence and returns\n",
    "    list of lists of composing phones\"\"\"\n",
    "    return [word_to_phoneme(word) for \n",
    "            word in sentence.lower().split()]\n",
    "\n",
    "def subfinder_bool(mylist, pattern):\n",
    "    \"\"\"if a subpattern is in a list return \n",
    "    a bool\"\"\"\n",
    "    matches = []\n",
    "    for i in range(len(mylist)):\n",
    "        if mylist[i] == pattern[0] and mylist[i:i+len(pattern)] == pattern:\n",
    "            matches.append(pattern)\n",
    "            return True\n",
    "    return False"
   ]
  },
  {
   "cell_type": "code",
   "execution_count": 3,
   "metadata": {},
   "outputs": [],
   "source": [
    "# phone comparisions\n",
    "\n",
    "def edit_distance(w1, w2):\n",
    "    \"\"\"Code taken from \n",
    "    https://github.com/maxwell-schwartz/PUNchlineGenerator\n",
    "    \n",
    "    Levenshtein distance\n",
    "    \"\"\"\n",
    "    \n",
    "    cost = []\n",
    "    \n",
    "    # These may be useful for later work:\n",
    "    #vowels = ['A', 'E', 'I', 'O', 'U']\n",
    "    #voiced = ['B', 'D', 'G', 'J', 'L', 'M', 'N', 'R', 'V', 'W', 'Y', 'Z']\n",
    "    #unvoiced = ['C', 'F', 'H', 'K', 'P', 'S', 'T']\n",
    "    \n",
    "    for i in range(len(w1)+1):\n",
    "        x = []\n",
    "        for j in range(len(w2)+1):\n",
    "            x.append(0)\n",
    "        cost.append(x)\n",
    "    \n",
    "    for i in range(len(w1)+1):\n",
    "        cost[i][0] = i\n",
    "    for j in range(len(w2)+1):\n",
    "        cost[0][j] = j\n",
    "        \n",
    "    # baseline costs\n",
    "    del_cost = 2\n",
    "    add_cost = 2\n",
    "    sub_cost = 1\n",
    "    \n",
    "    for i in range(1, len(w1)+1):\n",
    "        for j in range(1, len(w2)+1):\n",
    "            if w1[i-1] == w2[j-1]:\n",
    "                sub_cost = 0\n",
    "            else:\n",
    "                sub_cost = 2\n",
    "            # get the totals\n",
    "            del_total = cost[i-1][j] + del_cost\n",
    "            add_total = cost[i][j-1] + add_cost\n",
    "            sub_total = cost[i-1][j-1] + sub_cost\n",
    "            # choose the lowest cost from the options\n",
    "            options = [del_total, add_total, sub_total]\n",
    "            options.sort()\n",
    "            cost[i][j] = options[0]\n",
    "\n",
    "    return cost[-1][-1]"
   ]
  },
  {
   "cell_type": "code",
   "execution_count": 4,
   "metadata": {},
   "outputs": [],
   "source": [
    "def debug_distance(word1, word2):\n",
    "    print(phonetic_distance(word1, word2))\n",
    "    print(word_to_phones(word1))\n",
    "    print(word_to_phones(word2))"
   ]
  },
  {
   "cell_type": "code",
   "execution_count": 5,
   "metadata": {},
   "outputs": [],
   "source": [
    "def phonetic_distance(word1, word2):\n",
    "    \"\"\"compares two words and returns phonetic\n",
    "    distance\"\"\"\n",
    "    phoneme1 = word_to_phoneme(word1.lower())\n",
    "    phoneme2 = word_to_phoneme(word2.lower())\n",
    "    return edit_distance(phoneme1, phoneme2)"
   ]
  },
  {
   "cell_type": "code",
   "execution_count": 6,
   "metadata": {},
   "outputs": [],
   "source": [
    "def insert_pun(sentence, possible_words, max_distance=5, max_return=10):\n",
    "    \"\"\"\n",
    "    function to generate a num\n",
    "    \"\"\"\n",
    "#     best_distance = max_distance\n",
    "#     best_index = None\n",
    "#     best_word = None\n",
    "    sentence_words = list(sentence.split())\n",
    "    for word_index, word in enumerate(sentence_words):\n",
    "        for pos_word in possible_words:\n",
    "            if pos_word in word:\n",
    "                # This substituion would be meaningless\n",
    "                continue\n",
    "            dist = phonetic_distance(word, pos_word)\n",
    "#             \n",
    "            if dist <= best_distance:\n",
    "                # Decrease the distance \n",
    "                best_distance += -1\n",
    "                best_index = word_index\n",
    "                best_word = pos_word\n",
    "\n",
    "    if best_word is None:\n",
    "        return 'no substitution found \\n' + sentence\n",
    "    \n",
    "    sentence_words[best_index] = best_word\n",
    "    \n",
    "    return ' '.join(word for word in sentence_words)\n",
    "        "
   ]
  },
  {
   "cell_type": "code",
   "execution_count": 7,
   "metadata": {},
   "outputs": [
    {
     "data": {
      "text/plain": [
       "'I peel sick'"
      ]
     },
     "execution_count": 7,
     "metadata": {},
     "output_type": "execute_result"
    }
   ],
   "source": [
    "insert_pun('I feel sick', \n",
    "           \n",
    "            ['music', 'peel', 'thyme', \n",
    "             'mime', 'inside', 'remind', \n",
    "             'mess', 'nest'],\n",
    "             max_distance=2)"
   ]
  },
  {
   "cell_type": "markdown",
   "metadata": {},
   "source": []
  }
 ],
 "metadata": {
  "kernelspec": {
   "display_name": "Python 3",
   "language": "python",
   "name": "python3"
  },
  "language_info": {
   "codemirror_mode": {
    "name": "ipython",
    "version": 3
   },
   "file_extension": ".py",
   "mimetype": "text/x-python",
   "name": "python",
   "nbconvert_exporter": "python",
   "pygments_lexer": "ipython3",
   "version": "3.6.5"
  }
 },
 "nbformat": 4,
 "nbformat_minor": 2
}
