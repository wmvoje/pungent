{
 "cells": [
  {
   "cell_type": "markdown",
   "metadata": {},
   "source": [
    "# doc2vec modeling of wikipedia\n",
    "\n",
    "This noteboook results in a doc2vec model of simple english wikipedia"
   ]
  },
  {
   "cell_type": "markdown",
   "metadata": {},
   "source": [
    "## dependencies"
   ]
  },
  {
   "cell_type": "code",
   "execution_count": 1,
   "metadata": {},
   "outputs": [],
   "source": [
    "import gensim \n",
    "import pandas as pd\n",
    "import langdetect"
   ]
  },
  {
   "cell_type": "markdown",
   "metadata": {},
   "source": [
    "## Loading processed wiki-data"
   ]
  },
  {
   "cell_type": "code",
   "execution_count": 2,
   "metadata": {},
   "outputs": [
    {
     "data": {
      "text/plain": [
       "152895"
      ]
     },
     "execution_count": 2,
     "metadata": {},
     "output_type": "execute_result"
    }
   ],
   "source": [
    "wiki_data = pd.read_csv('data/wikipedia/cleaned_wiki_data_full_text_chunks.csv')\n",
    "len(wiki_data)"
   ]
  },
  {
   "cell_type": "markdown",
   "metadata": {},
   "source": [
    "##  Removing short documents, duplicates, and non-english documents"
   ]
  },
  {
   "cell_type": "code",
   "execution_count": 5,
   "metadata": {},
   "outputs": [],
   "source": [
    "# Filtering out all fo the short documents\n",
    "\n",
    "wiki_data = wiki_data[wiki_data.text.apply(lambda x: len(x) > 500)]\n",
    "\n",
    "\n",
    "# Removing articles that use dominantly non-english words\n",
    "is_enlish = wiki_data.text.apply(lambda x: langdetect.detect(x) == 'en')\n",
    "wiki_data = wiki_data[is_enlish]"
   ]
  },
  {
   "cell_type": "code",
   "execution_count": 12,
   "metadata": {},
   "outputs": [
    {
     "data": {
      "text/plain": [
       "67667"
      ]
     },
     "execution_count": 12,
     "metadata": {},
     "output_type": "execute_result"
    }
   ],
   "source": [
    "# Removing duplicates\n",
    "\n",
    "removed_duplicates = wiki_data.text.drop_duplicates()\n",
    "len(removed_duplicates)"
   ]
  },
  {
   "cell_type": "markdown",
   "metadata": {},
   "source": [
    "## Converting corpus into simple tokens"
   ]
  },
  {
   "cell_type": "code",
   "execution_count": 10,
   "metadata": {},
   "outputs": [],
   "source": [
    "def read_corpus(list_of_docs, tokens_only=False):\n",
    "    for i, line in enumerate(list_of_docs):\n",
    "        if tokens_only:\n",
    "            yield gensim.utils.simple_preprocess(line)\n",
    "        else:\n",
    "            # For training data, add tags\n",
    "            yield gensim.models.doc2vec.TaggedDocument(gensim.utils.simple_preprocess(line), [i])"
   ]
  },
  {
   "cell_type": "code",
   "execution_count": 13,
   "metadata": {},
   "outputs": [],
   "source": [
    "train_corpus = list(read_corpus(removed_duplicates))\n",
    "test_corpus = list(read_corpus(removed_duplicates, tokens_only=True))"
   ]
  },
  {
   "cell_type": "markdown",
   "metadata": {},
   "source": [
    "# Training doc2vec model\n",
    "\n",
    "## Without skip grams"
   ]
  },
  {
   "cell_type": "code",
   "execution_count": 29,
   "metadata": {},
   "outputs": [
    {
     "name": "stdout",
     "output_type": "stream",
     "text": [
      "300\n",
      "300 done\n"
     ]
    }
   ],
   "source": [
    "for vector_size in [300]:\n",
    "    model = gensim.models.doc2vec.Doc2Vec(vector_size=vector_size, min_count=10, epochs=50, workers=4)\n",
    "    print(vector_size)\n",
    "    model.build_vocab(train_corpus)\n",
    "    model.train(train_corpus, total_examples=model.corpus_count, epochs=model.epochs)\n",
    "    print(vector_size, 'done')\n",
    "    model.save('models/simple_wiki_chunked_word_limited_doc2vec_' + str(vector_size) + '_vector_10_min_word_epoch_' + str(50))"
   ]
  },
  {
   "cell_type": "code",
   "execution_count": 30,
   "metadata": {},
   "outputs": [
    {
     "name": "stdout",
     "output_type": "stream",
     "text": [
      "100\n",
      "150\n",
      "200\n",
      "250\n",
      "300\n",
      "350\n",
      "400\n",
      "450\n",
      "500\n",
      "550\n",
      "600\n",
      "650\n",
      "700\n",
      "750\n",
      "800\n",
      "850\n",
      "900\n",
      "950\n",
      "1000\n"
     ]
    }
   ],
   "source": [
    "epochs = 50\n",
    "\n",
    "while epochs < 1000:\n",
    "    epochs += 50\n",
    "    model.train(train_corpus, total_examples=model.corpus_count, epochs=50)\n",
    "    model.save('models/simple_wiki_chunked_word_limited_english_doc2vec_' + str(vector_size) + '_vector_10_min_word_epoch_' + str(epochs))\n",
    "    print(epochs)"
   ]
  },
  {
   "cell_type": "markdown",
   "metadata": {},
   "source": [
    "## With Skip grams"
   ]
  },
  {
   "cell_type": "code",
   "execution_count": null,
   "metadata": {},
   "outputs": [],
   "source": [
    "for vector_size in [300]:\n",
    "    model = gensim.models.doc2vec.Doc2Vec(vector_size=vector_size, min_count=10, epochs=50, workers=4, dbow_words=1)\n",
    "    print(vector_size)\n",
    "    model.build_vocab(train_corpus)\n",
    "    model.train(train_corpus, total_examples=model.corpus_count, epochs=model.epochs)\n",
    "    print(vector_size, 'done')\n",
    "    model.save('models/SWC_onlyENG_doc2vec_skip_gram' + str(vector_size) + '_vector_10_min_word_epoch_' + str(50))"
   ]
  },
  {
   "cell_type": "code",
   "execution_count": null,
   "metadata": {},
   "outputs": [],
   "source": [
    "epochs = 50\n",
    "\n",
    "while epochs < 1000:\n",
    "    epochs += 50\n",
    "    model.train(train_corpus, total_examples=model.corpus_count, epochs=epochs)\n",
    "    model.save('models/SWC_onlyENG_doc2vec_skip_gram' + str(vector_size) + '_vector_10_min_word_epoch_' + str(epochs))\n",
    "    print(epochs)"
   ]
  },
  {
   "cell_type": "markdown",
   "metadata": {},
   "source": [
    "# Looking at the consistency of these things"
   ]
  },
  {
   "cell_type": "code",
   "execution_count": 9,
   "metadata": {},
   "outputs": [],
   "source": [
    "topics = ['The domestic cat is a small, typically furry, carnivorous mammal. They are often called house cats[5] when kept as indoor pets or simply cats when there is no need to distinguish them from other felids and felines. They are often valued by humans for companionship and for their ability to hunt vermin. There are more than seventy cat breeds recognized by various cat registries.',\n",
    "          \"Association football, more commonly known as football or soccer,[a] is a team sport played between two teams of eleven players with a spherical ball. It is played by 250 million players in over 200 countries and dependencies, making it the world's most popular sport.[5][6][7][8] The game is played on a rectangular field with a goal at each end. The object of the game is to score by moving the ball beyond the goal line into the opposing goal.\",\n",
    "         \"Amazon.com Inc said on Tuesday it would raise its minimum wage to $15 per hour for U.S. employees from next month, giving ground to critics of poor pay and working conditions at the world’s second most valuable company.\",\n",
    "         \" France said on Tuesday there was no doubt Iran’s intelligence ministry was behind a June plot to attack an exiled opposition group’s rally outside Paris and it seized assets belonging to Tehran’s intelligence services and two Iranian nationals.\"]"
   ]
  },
  {
   "cell_type": "code",
   "execution_count": 10,
   "metadata": {},
   "outputs": [],
   "source": [
    "from gensim.utils import simple_preprocess"
   ]
  },
  {
   "cell_type": "code",
   "execution_count": 11,
   "metadata": {},
   "outputs": [],
   "source": [
    "epochs = 1000\n",
    "vector_size = 300\n",
    "\n",
    "model = gensim.models.Doc2Vec.load('models/simple_wiki_chunked_word_limited_english_doc2vec_' + str(vector_size) + '_vector_10_min_word_epoch_' + str(epochs))\n"
   ]
  },
  {
   "cell_type": "code",
   "execution_count": 13,
   "metadata": {},
   "outputs": [
    {
     "name": "stderr",
     "output_type": "stream",
     "text": [
      "/home/wmvoje/anaconda3/lib/python3.6/site-packages/gensim/matutils.py:737: FutureWarning: Conversion of the second argument of issubdtype from `int` to `np.signedinteger` is deprecated. In future, it will be treated as `np.int64 == np.dtype(int).type`.\n",
      "  if np.issubdtype(vec.dtype, np.int):\n"
     ]
    },
    {
     "data": {
      "text/plain": [
       "[(1003, 0.34445491433143616),\n",
       " (43430, 0.3391963541507721),\n",
       " (28072, 0.33067113161087036),\n",
       " (64547, 0.32810425758361816),\n",
       " (24836, 0.3272174000740051),\n",
       " (33116, 0.32587265968322754),\n",
       " (8916, 0.32214438915252686),\n",
       " (57545, 0.32103708386421204),\n",
       " (8917, 0.32016515731811523),\n",
       " (41391, 0.31908485293388367)]"
      ]
     },
     "execution_count": 13,
     "metadata": {},
     "output_type": "execute_result"
    }
   ],
   "source": [
    "vector = model.infer_vector(simple_preprocess(topics[0]), epochs=1000)\n",
    "model.docvecs.most_similar([vector])"
   ]
  },
  {
   "cell_type": "code",
   "execution_count": 16,
   "metadata": {},
   "outputs": [
    {
     "data": {
      "text/plain": [
       "['the',\n",
       " 'town',\n",
       " 'grew',\n",
       " 'from',\n",
       " 'farm',\n",
       " 'owned',\n",
       " 'by',\n",
       " 'ex',\n",
       " 'convict',\n",
       " 'hotel',\n",
       " 'inn',\n",
       " 'keeper',\n",
       " 'timothy',\n",
       " 'beard',\n",
       " 'it',\n",
       " 'was',\n",
       " 'on',\n",
       " 'the',\n",
       " 'banks',\n",
       " 'of',\n",
       " 'the',\n",
       " 'molonglo',\n",
       " 'river',\n",
       " 'the',\n",
       " 'original',\n",
       " 'name',\n",
       " 'was',\n",
       " 'quinbean',\n",
       " 'which',\n",
       " 'means',\n",
       " 'clear',\n",
       " 'waters',\n",
       " 'queanbeyan',\n",
       " 'became',\n",
       " 'township',\n",
       " 'in',\n",
       " 'there',\n",
       " 'were',\n",
       " 'about',\n",
       " 'people',\n",
       " 'living',\n",
       " 'there',\n",
       " 'some',\n",
       " 'of',\n",
       " 'the',\n",
       " 'important',\n",
       " 'historic',\n",
       " 'buildings',\n",
       " 'still',\n",
       " 'standing',\n",
       " 'were',\n",
       " 'built',\n",
       " 'in',\n",
       " 'the',\n",
       " 'early',\n",
       " 'days',\n",
       " 'traces',\n",
       " 'of',\n",
       " 'gold',\n",
       " 'were',\n",
       " 'found',\n",
       " 'in',\n",
       " 'there',\n",
       " 'were',\n",
       " 'also',\n",
       " 'some',\n",
       " 'lead',\n",
       " 'and',\n",
       " 'silver',\n",
       " 'mines',\n",
       " 'settlers',\n",
       " 'were',\n",
       " 'often',\n",
       " 'wikt',\n",
       " 'rob',\n",
       " 'robbed',\n",
       " 'by',\n",
       " 'bushranger',\n",
       " 'including',\n",
       " 'john',\n",
       " 'tennant',\n",
       " 'jacky',\n",
       " 'jacky',\n",
       " 'frank',\n",
       " 'gardiner',\n",
       " 'and',\n",
       " 'ben',\n",
       " 'hall',\n",
       " 'in',\n",
       " 'the',\n",
       " 'government',\n",
       " 'built',\n",
       " 'post',\n",
       " 'office',\n",
       " 'at',\n",
       " 'queanbeyan',\n",
       " 'the',\n",
       " 'sydney',\n",
       " 'gazette',\n",
       " 'and',\n",
       " 'new',\n",
       " 'south',\n",
       " 'wales',\n",
       " 'advertiser',\n",
       " 'tuesday',\n",
       " 'march',\n",
       " 'the',\n",
       " 'first',\n",
       " 'bank',\n",
       " 'was',\n",
       " 'opened',\n",
       " 'in',\n",
       " 'queanbeyan',\n",
       " 'on',\n",
       " 'september',\n",
       " 'this',\n",
       " 'was',\n",
       " 'the',\n",
       " 'commercial',\n",
       " 'banking',\n",
       " 'company',\n",
       " 'of',\n",
       " 'sydney',\n",
       " 'limited',\n",
       " 'which',\n",
       " 'is',\n",
       " 'now',\n",
       " 'part',\n",
       " 'of',\n",
       " 'the',\n",
       " 'national',\n",
       " 'australia',\n",
       " 'bank',\n",
       " 'the',\n",
       " 'golden',\n",
       " 'age',\n",
       " 'now',\n",
       " 'called',\n",
       " 'the',\n",
       " 'queanbeyan',\n",
       " 'age',\n",
       " 'was',\n",
       " 'queanbeyan',\n",
       " 'first',\n",
       " 'newspaper',\n",
       " 'started',\n",
       " 'in',\n",
       " 'by',\n",
       " 'john',\n",
       " 'gale',\n",
       " 'john',\n",
       " 'gale',\n",
       " 'in',\n",
       " 'john',\n",
       " 'james',\n",
       " 'wright',\n",
       " 'the',\n",
       " 'first',\n",
       " 'mayor',\n",
       " 'of',\n",
       " 'queanbeyan',\n",
       " 'built',\n",
       " 'house',\n",
       " 'on',\n",
       " 'the',\n",
       " 'banks',\n",
       " 'of',\n",
       " 'the',\n",
       " 'queanbeyan',\n",
       " 'river',\n",
       " 'in',\n",
       " 'house',\n",
       " 'became',\n",
       " 'the',\n",
       " 'queanbeyan',\n",
       " 'art',\n",
       " 'centre',\n",
       " 'the',\n",
       " 'railway',\n",
       " 'reached',\n",
       " 'queanbeyan',\n",
       " 'railway',\n",
       " 'station',\n",
       " 'new',\n",
       " 'south',\n",
       " 'wales',\n",
       " 'queanbeyan',\n",
       " 'railway',\n",
       " 'station',\n",
       " 'in',\n",
       " 'and',\n",
       " 'it',\n",
       " 'became',\n",
       " 'the',\n",
       " 'junction',\n",
       " 'for',\n",
       " 'the',\n",
       " 'lines',\n",
       " 'going',\n",
       " 'to',\n",
       " 'canberra',\n",
       " 'and',\n",
       " 'bombala',\n",
       " 'there',\n",
       " 'are',\n",
       " 'now',\n",
       " 'two',\n",
       " 'trains',\n",
       " 'day',\n",
       " 'the',\n",
       " 'countrylink',\n",
       " 'xplorer',\n",
       " 'service',\n",
       " 'between',\n",
       " 'canberra',\n",
       " 'and',\n",
       " 'sydney',\n",
       " 'queanbeyan',\n",
       " 'became',\n",
       " 'an',\n",
       " 'important',\n",
       " 'country',\n",
       " 'town',\n",
       " 'with',\n",
       " 'hotels',\n",
       " 'and',\n",
       " 'six',\n",
       " 'flour',\n",
       " 'mills',\n",
       " 'powered',\n",
       " 'by',\n",
       " 'wind',\n",
       " 'water',\n",
       " 'horse',\n",
       " 'and',\n",
       " 'steam',\n",
       " 'canberra',\n",
       " 'was',\n",
       " 'started',\n",
       " 'as',\n",
       " 'the',\n",
       " 'national',\n",
       " 'capital',\n",
       " 'in',\n",
       " 'there',\n",
       " 'were',\n",
       " 'no',\n",
       " 'hotels',\n",
       " 'so',\n",
       " 'people',\n",
       " 'crossed',\n",
       " 'the',\n",
       " 'border',\n",
       " 'to',\n",
       " 'get',\n",
       " 'drink',\n",
       " 'at',\n",
       " 'queanbeyan',\n",
       " 'hotels',\n",
       " 'when',\n",
       " 'the',\n",
       " 'parliament',\n",
       " 'moved',\n",
       " 'to',\n",
       " 'canberra',\n",
       " 'from',\n",
       " 'melbourne',\n",
       " 'in',\n",
       " 'canberra',\n",
       " 'got',\n",
       " 'it',\n",
       " 'first',\n",
       " 'hotel',\n",
       " 'queanbeyan',\n",
       " 'became',\n",
       " 'city',\n",
       " 'on',\n",
       " 'july',\n",
       " 'from',\n",
       " 'to',\n",
       " 'the',\n",
       " 'canberra',\n",
       " 'raiders',\n",
       " 'rugby',\n",
       " 'league',\n",
       " 'team',\n",
       " 'played',\n",
       " 'their',\n",
       " 'home',\n",
       " 'games',\n",
       " 'in',\n",
       " 'queanbeyan',\n",
       " 'at',\n",
       " 'seiffert',\n",
       " 'oval']"
      ]
     },
     "execution_count": 16,
     "metadata": {},
     "output_type": "execute_result"
    }
   ],
   "source": [
    "test_corpus[28072]"
   ]
  },
  {
   "cell_type": "code",
   "execution_count": 51,
   "metadata": {},
   "outputs": [
    {
     "data": {
      "text/plain": [
       "'models/simple_wiki_chunked_word_limited_english_doc2vec_300_vector_10_min_word_epoch_1000'"
      ]
     },
     "execution_count": 51,
     "metadata": {},
     "output_type": "execute_result"
    }
   ],
   "source": [
    "'models/simple_wiki_chunked_word_limited_english_doc2vec_' + str(vector_size) + '_vector_10_min_word_epoch_' + str(epochs)"
   ]
  },
  {
   "cell_type": "code",
   "execution_count": 3,
   "metadata": {},
   "outputs": [],
   "source": [
    "import pickle as p\n",
    "\n",
    "# with open('models/simple_wiki_chunked_corpus_english_only_10_count_cutoff.p', 'wb') as topick:\n",
    "#     p.dump(test_corpus, topick)\n",
    "\n",
    "with open('models/simple_wiki_chunked_corpus_english_only_10_count_cutoff.p', 'rb') as unpick:\n",
    "    test_corpus = p.load(unpick)"
   ]
  },
  {
   "cell_type": "markdown",
   "metadata": {},
   "source": [
    "# Testing number of epochs to use when inferring vector"
   ]
  },
  {
   "cell_type": "code",
   "execution_count": 240,
   "metadata": {},
   "outputs": [],
   "source": [
    "from itertools import combinations\n",
    "from sklearn.metrics.pairwise import cosine_similarity\n",
    "import seaborn as sns\n",
    "%matplotlib inline"
   ]
  },
  {
   "cell_type": "code",
   "execution_count": 248,
   "metadata": {},
   "outputs": [],
   "source": [
    "import pandas as pd"
   ]
  },
  {
   "cell_type": "code",
   "execution_count": 287,
   "metadata": {},
   "outputs": [],
   "source": [
    "cosine_data_frame = pd.DataFrame(columns=['vector_size', 'document', 'epochs', 'cosine'])"
   ]
  },
  {
   "cell_type": "code",
   "execution_count": 294,
   "metadata": {},
   "outputs": [],
   "source": [
    "vector_sizes = [50, 100, 150, 200, 250]\n",
    "vector_sizes.extend([25, 75, 125, 175, 225])\n",
    "\n",
    "dataframe_index = 0\n",
    "for vector_size in vector_sizes:\n",
    "    \n",
    "    model = gensim.models.Doc2Vec.load('models/simple_wiki_chunked_doc2vec_'+str(vector_size)+'_vector_10_min_word')\n",
    "    for epochs in [200]:\n",
    "        for topic_index, topic in enumerate([topics[0]]):\n",
    "            list_of_arrays = []\n",
    "            for i in range(10):\n",
    "                list_of_arrays.append(model.infer_vector(simple_preprocess(topic), epochs=epochs))\n",
    "            for vec1, vec2 in combinations(list_of_arrays, 2):\n",
    "#                 cosine_numbers.append(cosine_similarity([vec1], [vec2]))\n",
    "                cosine_data_frame.loc[dataframe_index] = [vector_size, topic_index, epochs, cosine_similarity([vec1], [vec2])]\n",
    "                dataframe_index += 1"
   ]
  },
  {
   "cell_type": "code",
   "execution_count": 295,
   "metadata": {},
   "outputs": [],
   "source": [
    "cosine_data_frame.cosine = cosine_data_frame.cosine.apply(lambda x: float(x))"
   ]
  },
  {
   "cell_type": "code",
   "execution_count": 296,
   "metadata": {},
   "outputs": [
    {
     "data": {
      "text/plain": [
       "<matplotlib.axes._subplots.AxesSubplot at 0x7f89359a9a90>"
      ]
     },
     "execution_count": 296,
     "metadata": {},
     "output_type": "execute_result"
    },
    {
     "data": {
      "image/png": "[encoded data removed]",
      "text/plain": [
       "<Figure size 432x288 with 1 Axes>"
      ]
     },
     "metadata": {},
     "output_type": "display_data"
    }
   ],
   "source": [
    "sns.boxplot(x='vector_size', hue='epochs', y='cosine', data=cosine_data_frame)"
   ]
  },
  {
   "cell_type": "markdown",
   "metadata": {},
   "source": [
    "# "
   ]
  }
 ],
 "metadata": {
  "kernelspec": {
   "display_name": "Python 3",
   "language": "python",
   "name": "python3"
  },
  "language_info": {
   "codemirror_mode": {
    "name": "ipython",
    "version": 3
   },
   "file_extension": ".py",
   "mimetype": "text/x-python",
   "name": "python",
   "nbconvert_exporter": "python",
   "pygments_lexer": "ipython3",
   "version": "3.6.5"
  }
 },
 "nbformat": 4,
 "nbformat_minor": 2
}
