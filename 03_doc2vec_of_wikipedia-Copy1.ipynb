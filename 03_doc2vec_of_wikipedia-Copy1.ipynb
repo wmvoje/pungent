{
 "cells": [
  {
   "cell_type": "code",
   "execution_count": 1,
   "metadata": {},
   "outputs": [],
   "source": [
    "import gensim "
   ]
  },
  {
   "cell_type": "code",
   "execution_count": 2,
   "metadata": {},
   "outputs": [],
   "source": [
    "import pandas as pd"
   ]
  },
  {
   "cell_type": "code",
   "execution_count": 3,
   "metadata": {},
   "outputs": [],
   "source": [
    "wiki_data = pd.read_csv('data/wikipedia/cleaned_wiki_data_full_text_chunks.csv')"
   ]
  },
  {
   "cell_type": "code",
   "execution_count": 4,
   "metadata": {},
   "outputs": [
    {
     "data": {
      "text/plain": [
       "152895"
      ]
     },
     "execution_count": 4,
     "metadata": {},
     "output_type": "execute_result"
    }
   ],
   "source": [
    "len(wiki_data)"
   ]
  },
  {
   "cell_type": "code",
   "execution_count": 5,
   "metadata": {},
   "outputs": [],
   "source": [
    "wiki_data = wiki_data[wiki_data.text.apply(lambda x: len(x) > 500)]"
   ]
  },
  {
   "cell_type": "code",
   "execution_count": 6,
   "metadata": {},
   "outputs": [],
   "source": [
    "import langdetect"
   ]
  },
  {
   "cell_type": "code",
   "execution_count": 7,
   "metadata": {},
   "outputs": [
    {
     "data": {
      "text/plain": [
       "True"
      ]
     },
     "execution_count": 7,
     "metadata": {},
     "output_type": "execute_result"
    }
   ],
   "source": [
    "langdetect.detect(wiki_data.text[1]) == 'en'"
   ]
  },
  {
   "cell_type": "code",
   "execution_count": 8,
   "metadata": {},
   "outputs": [],
   "source": [
    "is_enlish = wiki_data.text.apply(lambda x: langdetect.detect(x) == 'en')"
   ]
  },
  {
   "cell_type": "code",
   "execution_count": 9,
   "metadata": {},
   "outputs": [],
   "source": [
    "wiki_data = wiki_data[is_enlish]"
   ]
  },
  {
   "cell_type": "code",
   "execution_count": 10,
   "metadata": {},
   "outputs": [],
   "source": [
    "def read_corpus(list_of_docs, tokens_only=False):\n",
    "    for i, line in enumerate(list_of_docs):\n",
    "        if tokens_only:\n",
    "            yield gensim.utils.simple_preprocess(line)\n",
    "        else:\n",
    "            # For training data, add tags\n",
    "            yield gensim.models.doc2vec.TaggedDocument(gensim.utils.simple_preprocess(line), [i])"
   ]
  },
  {
   "cell_type": "code",
   "execution_count": 11,
   "metadata": {},
   "outputs": [],
   "source": [
    "removed_duplicates = wiki_data.text.drop_duplicates()"
   ]
  },
  {
   "cell_type": "code",
   "execution_count": 12,
   "metadata": {},
   "outputs": [
    {
     "data": {
      "text/plain": [
       "67667"
      ]
     },
     "execution_count": 12,
     "metadata": {},
     "output_type": "execute_result"
    }
   ],
   "source": [
    "len(removed_duplicates)"
   ]
  },
  {
   "cell_type": "code",
   "execution_count": 13,
   "metadata": {},
   "outputs": [],
   "source": [
    "train_corpus = list(read_corpus(removed_duplicates))\n",
    "test_corpus = list(read_corpus(removed_duplicates, tokens_only=True))"
   ]
  },
  {
   "cell_type": "code",
   "execution_count": 29,
   "metadata": {},
   "outputs": [
    {
     "name": "stdout",
     "output_type": "stream",
     "text": [
      "300\n",
      "300 done\n"
     ]
    }
   ],
   "source": [
    "for vector_size in [300]:\n",
    "    model = gensim.models.doc2vec.Doc2Vec(vector_size=vector_size, min_count=10, epochs=50, workers=4)\n",
    "    print(vector_size)\n",
    "    model.build_vocab(train_corpus)\n",
    "    model.train(train_corpus, total_examples=model.corpus_count, epochs=model.epochs)\n",
    "    print(vector_size, 'done')\n",
    "    model.save('models/simple_wiki_chunked_word_limited_doc2vec_' + str(vector_size) + '_vector_10_min_word_epoch_' + str(50))"
   ]
  },
  {
   "cell_type": "code",
   "execution_count": 30,
   "metadata": {},
   "outputs": [
    {
     "name": "stdout",
     "output_type": "stream",
     "text": [
      "100\n",
      "150\n",
      "200\n",
      "250\n",
      "300\n",
      "350\n",
      "400\n",
      "450\n",
      "500\n",
      "550\n",
      "600\n",
      "650\n",
      "700\n",
      "750\n",
      "800\n",
      "850\n",
      "900\n",
      "950\n",
      "1000\n"
     ]
    }
   ],
   "source": [
    "epochs = 50\n",
    "\n",
    "while epochs < 1000:\n",
    "    epochs += 50\n",
    "    model.train(train_corpus, total_examples=model.corpus_count, epochs=50)\n",
    "    model.save('models/simple_wiki_chunked_word_limited_english_doc2vec_' + str(vector_size) + '_vector_10_min_word_epoch_' + str(epochs))\n",
    "    print(epochs)"
   ]
  },
  {
   "cell_type": "markdown",
   "metadata": {},
   "source": [
    "# Looking at the consistency of these things"
   ]
  },
  {
   "cell_type": "code",
   "execution_count": 9,
   "metadata": {},
   "outputs": [],
   "source": [
    "topics = ['The domestic cat is a small, typically furry, carnivorous mammal. They are often called house cats[5] when kept as indoor pets or simply cats when there is no need to distinguish them from other felids and felines. They are often valued by humans for companionship and for their ability to hunt vermin. There are more than seventy cat breeds recognized by various cat registries.',\n",
    "          \"Association football, more commonly known as football or soccer,[a] is a team sport played between two teams of eleven players with a spherical ball. It is played by 250 million players in over 200 countries and dependencies, making it the world's most popular sport.[5][6][7][8] The game is played on a rectangular field with a goal at each end. The object of the game is to score by moving the ball beyond the goal line into the opposing goal.\",\n",
    "         \"Amazon.com Inc said on Tuesday it would raise its minimum wage to $15 per hour for U.S. employees from next month, giving ground to critics of poor pay and working conditions at the world’s second most valuable company.\",\n",
    "         \" France said on Tuesday there was no doubt Iran’s intelligence ministry was behind a June plot to attack an exiled opposition group’s rally outside Paris and it seized assets belonging to Tehran’s intelligence services and two Iranian nationals.\"]"
   ]
  },
  {
   "cell_type": "code",
   "execution_count": 10,
   "metadata": {},
   "outputs": [],
   "source": [
    "from gensim.utils import simple_preprocess"
   ]
  },
  {
   "cell_type": "code",
   "execution_count": 11,
   "metadata": {},
   "outputs": [],
   "source": [
    "epochs = 1000\n",
    "vector_size = 300\n",
    "\n",
    "model = gensim.models.Doc2Vec.load('models/simple_wiki_chunked_word_limited_english_doc2vec_' + str(vector_size) + '_vector_10_min_word_epoch_' + str(epochs))\n"
   ]
  },
  {
   "cell_type": "code",
   "execution_count": 13,
   "metadata": {},
   "outputs": [
    {
     "name": "stderr",
     "output_type": "stream",
     "text": [
      "/home/wmvoje/anaconda3/lib/python3.6/site-packages/gensim/matutils.py:737: FutureWarning: Conversion of the second argument of issubdtype from `int` to `np.signedinteger` is deprecated. In future, it will be treated as `np.int64 == np.dtype(int).type`.\n",
      "  if np.issubdtype(vec.dtype, np.int):\n"
     ]
    },
    {
     "data": {
      "text/plain": [
       "[(1003, 0.34445491433143616),\n",
       " (43430, 0.3391963541507721),\n",
       " (28072, 0.33067113161087036),\n",
       " (64547, 0.32810425758361816),\n",
       " (24836, 0.3272174000740051),\n",
       " (33116, 0.32587265968322754),\n",
       " (8916, 0.32214438915252686),\n",
       " (57545, 0.32103708386421204),\n",
       " (8917, 0.32016515731811523),\n",
       " (41391, 0.31908485293388367)]"
      ]
     },
     "execution_count": 13,
     "metadata": {},
     "output_type": "execute_result"
    }
   ],
   "source": [
    "vector = model.infer_vector(simple_preprocess(topics[0]), epochs=1000)\n",
    "model.docvecs.most_similar([vector])"
   ]
  },
  {
   "cell_type": "code",
   "execution_count": 16,
   "metadata": {},
   "outputs": [
    {
     "data": {
      "text/plain": [
       "['the',\n",
       " 'town',\n",
       " 'grew',\n",
       " 'from',\n",
       " 'farm',\n",
       " 'owned',\n",
       " 'by',\n",
       " 'ex',\n",
       " 'convict',\n",
       " 'hotel',\n",
       " 'inn',\n",
       " 'keeper',\n",
       " 'timothy',\n",
       " 'beard',\n",
       " 'it',\n",
       " 'was',\n",
       " 'on',\n",
       " 'the',\n",
       " 'banks',\n",
       " 'of',\n",
       " 'the',\n",
       " 'molonglo',\n",
       " 'river',\n",
       " 'the',\n",
       " 'original',\n",
       " 'name',\n",
       " 'was',\n",
       " 'quinbean',\n",
       " 'which',\n",
       " 'means',\n",
       " 'clear',\n",
       " 'waters',\n",
       " 'queanbeyan',\n",
       " 'became',\n",
       " 'township',\n",
       " 'in',\n",
       " 'there',\n",
       " 'were',\n",
       " 'about',\n",
       " 'people',\n",
       " 'living',\n",
       " 'there',\n",
       " 'some',\n",
       " 'of',\n",
       " 'the',\n",
       " 'important',\n",
       " 'historic',\n",
       " 'buildings',\n",
       " 'still',\n",
       " 'standing',\n",
       " 'were',\n",
       " 'built',\n",
       " 'in',\n",
       " 'the',\n",
       " 'early',\n",
       " 'days',\n",
       " 'traces',\n",
       " 'of',\n",
       " 'gold',\n",
       " 'were',\n",
       " 'found',\n",
       " 'in',\n",
       " 'there',\n",
       " 'were',\n",
       " 'also',\n",
       " 'some',\n",
       " 'lead',\n",
       " 'and',\n",
       " 'silver',\n",
       " 'mines',\n",
       " 'settlers',\n",
       " 'were',\n",
       " 'often',\n",
       " 'wikt',\n",
       " 'rob',\n",
       " 'robbed',\n",
       " 'by',\n",
       " 'bushranger',\n",
       " 'including',\n",
       " 'john',\n",
       " 'tennant',\n",
       " 'jacky',\n",
       " 'jacky',\n",
       " 'frank',\n",
       " 'gardiner',\n",
       " 'and',\n",
       " 'ben',\n",
       " 'hall',\n",
       " 'in',\n",
       " 'the',\n",
       " 'government',\n",
       " 'built',\n",
       " 'post',\n",
       " 'office',\n",
       " 'at',\n",
       " 'queanbeyan',\n",
       " 'the',\n",
       " 'sydney',\n",
       " 'gazette',\n",
       " 'and',\n",
       " 'new',\n",
       " 'south',\n",
       " 'wales',\n",
       " 'advertiser',\n",
       " 'tuesday',\n",
       " 'march',\n",
       " 'the',\n",
       " 'first',\n",
       " 'bank',\n",
       " 'was',\n",
       " 'opened',\n",
       " 'in',\n",
       " 'queanbeyan',\n",
       " 'on',\n",
       " 'september',\n",
       " 'this',\n",
       " 'was',\n",
       " 'the',\n",
       " 'commercial',\n",
       " 'banking',\n",
       " 'company',\n",
       " 'of',\n",
       " 'sydney',\n",
       " 'limited',\n",
       " 'which',\n",
       " 'is',\n",
       " 'now',\n",
       " 'part',\n",
       " 'of',\n",
       " 'the',\n",
       " 'national',\n",
       " 'australia',\n",
       " 'bank',\n",
       " 'the',\n",
       " 'golden',\n",
       " 'age',\n",
       " 'now',\n",
       " 'called',\n",
       " 'the',\n",
       " 'queanbeyan',\n",
       " 'age',\n",
       " 'was',\n",
       " 'queanbeyan',\n",
       " 'first',\n",
       " 'newspaper',\n",
       " 'started',\n",
       " 'in',\n",
       " 'by',\n",
       " 'john',\n",
       " 'gale',\n",
       " 'john',\n",
       " 'gale',\n",
       " 'in',\n",
       " 'john',\n",
       " 'james',\n",
       " 'wright',\n",
       " 'the',\n",
       " 'first',\n",
       " 'mayor',\n",
       " 'of',\n",
       " 'queanbeyan',\n",
       " 'built',\n",
       " 'house',\n",
       " 'on',\n",
       " 'the',\n",
       " 'banks',\n",
       " 'of',\n",
       " 'the',\n",
       " 'queanbeyan',\n",
       " 'river',\n",
       " 'in',\n",
       " 'house',\n",
       " 'became',\n",
       " 'the',\n",
       " 'queanbeyan',\n",
       " 'art',\n",
       " 'centre',\n",
       " 'the',\n",
       " 'railway',\n",
       " 'reached',\n",
       " 'queanbeyan',\n",
       " 'railway',\n",
       " 'station',\n",
       " 'new',\n",
       " 'south',\n",
       " 'wales',\n",
       " 'queanbeyan',\n",
       " 'railway',\n",
       " 'station',\n",
       " 'in',\n",
       " 'and',\n",
       " 'it',\n",
       " 'became',\n",
       " 'the',\n",
       " 'junction',\n",
       " 'for',\n",
       " 'the',\n",
       " 'lines',\n",
       " 'going',\n",
       " 'to',\n",
       " 'canberra',\n",
       " 'and',\n",
       " 'bombala',\n",
       " 'there',\n",
       " 'are',\n",
       " 'now',\n",
       " 'two',\n",
       " 'trains',\n",
       " 'day',\n",
       " 'the',\n",
       " 'countrylink',\n",
       " 'xplorer',\n",
       " 'service',\n",
       " 'between',\n",
       " 'canberra',\n",
       " 'and',\n",
       " 'sydney',\n",
       " 'queanbeyan',\n",
       " 'became',\n",
       " 'an',\n",
       " 'important',\n",
       " 'country',\n",
       " 'town',\n",
       " 'with',\n",
       " 'hotels',\n",
       " 'and',\n",
       " 'six',\n",
       " 'flour',\n",
       " 'mills',\n",
       " 'powered',\n",
       " 'by',\n",
       " 'wind',\n",
       " 'water',\n",
       " 'horse',\n",
       " 'and',\n",
       " 'steam',\n",
       " 'canberra',\n",
       " 'was',\n",
       " 'started',\n",
       " 'as',\n",
       " 'the',\n",
       " 'national',\n",
       " 'capital',\n",
       " 'in',\n",
       " 'there',\n",
       " 'were',\n",
       " 'no',\n",
       " 'hotels',\n",
       " 'so',\n",
       " 'people',\n",
       " 'crossed',\n",
       " 'the',\n",
       " 'border',\n",
       " 'to',\n",
       " 'get',\n",
       " 'drink',\n",
       " 'at',\n",
       " 'queanbeyan',\n",
       " 'hotels',\n",
       " 'when',\n",
       " 'the',\n",
       " 'parliament',\n",
       " 'moved',\n",
       " 'to',\n",
       " 'canberra',\n",
       " 'from',\n",
       " 'melbourne',\n",
       " 'in',\n",
       " 'canberra',\n",
       " 'got',\n",
       " 'it',\n",
       " 'first',\n",
       " 'hotel',\n",
       " 'queanbeyan',\n",
       " 'became',\n",
       " 'city',\n",
       " 'on',\n",
       " 'july',\n",
       " 'from',\n",
       " 'to',\n",
       " 'the',\n",
       " 'canberra',\n",
       " 'raiders',\n",
       " 'rugby',\n",
       " 'league',\n",
       " 'team',\n",
       " 'played',\n",
       " 'their',\n",
       " 'home',\n",
       " 'games',\n",
       " 'in',\n",
       " 'queanbeyan',\n",
       " 'at',\n",
       " 'seiffert',\n",
       " 'oval']"
      ]
     },
     "execution_count": 16,
     "metadata": {},
     "output_type": "execute_result"
    }
   ],
   "source": [
    "test_corpus[28072]"
   ]
  },
  {
   "cell_type": "code",
   "execution_count": 51,
   "metadata": {},
   "outputs": [
    {
     "data": {
      "text/plain": [
       "'models/simple_wiki_chunked_word_limited_english_doc2vec_300_vector_10_min_word_epoch_1000'"
      ]
     },
     "execution_count": 51,
     "metadata": {},
     "output_type": "execute_result"
    }
   ],
   "source": [
    "'models/simple_wiki_chunked_word_limited_english_doc2vec_' + str(vector_size) + '_vector_10_min_word_epoch_' + str(epochs)"
   ]
  },
  {
   "cell_type": "code",
   "execution_count": 3,
   "metadata": {},
   "outputs": [],
   "source": [
    "import pickle as p\n",
    "\n",
    "# with open('models/simple_wiki_chunked_corpus_english_only_10_count_cutoff.p', 'wb') as topick:\n",
    "#     p.dump(test_corpus, topick)\n",
    "\n",
    "with open('models/simple_wiki_chunked_corpus_english_only_10_count_cutoff.p', 'rb') as unpick:\n",
    "    test_corpus = p.load(unpick)"
   ]
  },
  {
   "cell_type": "markdown",
   "metadata": {},
   "source": [
    "# Testing number of epochs to use when inferring vector"
   ]
  },
  {
   "cell_type": "code",
   "execution_count": 240,
   "metadata": {},
   "outputs": [],
   "source": [
    "from itertools import combinations\n",
    "from sklearn.metrics.pairwise import cosine_similarity\n",
    "import seaborn as sns\n",
    "%matplotlib inline"
   ]
  },
  {
   "cell_type": "code",
   "execution_count": 248,
   "metadata": {},
   "outputs": [],
   "source": [
    "import pandas as pd"
   ]
  },
  {
   "cell_type": "code",
   "execution_count": 287,
   "metadata": {},
   "outputs": [],
   "source": [
    "cosine_data_frame = pd.DataFrame(columns=['vector_size', 'document', 'epochs', 'cosine'])"
   ]
  },
  {
   "cell_type": "code",
   "execution_count": 294,
   "metadata": {},
   "outputs": [],
   "source": [
    "vector_sizes = [50, 100, 150, 200, 250]\n",
    "vector_sizes.extend([25, 75, 125, 175, 225])\n",
    "\n",
    "dataframe_index = 0\n",
    "for vector_size in vector_sizes:\n",
    "    \n",
    "    model = gensim.models.Doc2Vec.load('models/simple_wiki_chunked_doc2vec_'+str(vector_size)+'_vector_10_min_word')\n",
    "    for epochs in [200]:\n",
    "        for topic_index, topic in enumerate([topics[0]]):\n",
    "            list_of_arrays = []\n",
    "            for i in range(10):\n",
    "                list_of_arrays.append(model.infer_vector(simple_preprocess(topic), epochs=epochs))\n",
    "            for vec1, vec2 in combinations(list_of_arrays, 2):\n",
    "#                 cosine_numbers.append(cosine_similarity([vec1], [vec2]))\n",
    "                cosine_data_frame.loc[dataframe_index] = [vector_size, topic_index, epochs, cosine_similarity([vec1], [vec2])]\n",
    "                dataframe_index += 1"
   ]
  },
  {
   "cell_type": "code",
   "execution_count": 295,
   "metadata": {},
   "outputs": [],
   "source": [
    "cosine_data_frame.cosine = cosine_data_frame.cosine.apply(lambda x: float(x))"
   ]
  },
  {
   "cell_type": "code",
   "execution_count": 296,
   "metadata": {},
   "outputs": [
    {
     "data": {
      "text/plain": [
       "<matplotlib.axes._subplots.AxesSubplot at 0x7f89359a9a90>"
      ]
     },
     "execution_count": 296,
     "metadata": {},
     "output_type": "execute_result"
    },
    {
     "data": {
      "image/png": "[encoded data removed]",
      "text/plain": [
       "<Figure size 432x288 with 1 Axes>"
      ]
     },
     "metadata": {},
     "output_type": "display_data"
    }
   ],
   "source": [
    "sns.boxplot(x='vector_size', hue='epochs', y='cosine', data=cosine_data_frame)"
   ]
  },
  {
   "cell_type": "markdown",
   "metadata": {},
   "source": [
    "# Investigating model training"
   ]
  },
  {
   "cell_type": "code",
   "execution_count": 3,
   "metadata": {},
   "outputs": [],
   "source": [
    "import gensim"
   ]
  },
  {
   "cell_type": "code",
   "execution_count": 302,
   "metadata": {},
   "outputs": [],
   "source": [
    "model.workers = 4"
   ]
  },
  {
   "cell_type": "code",
   "execution_count": 303,
   "metadata": {},
   "outputs": [
    {
     "data": {
      "text/plain": [
       "4"
      ]
     },
     "execution_count": 303,
     "metadata": {},
     "output_type": "execute_result"
    }
   ],
   "source": [
    "model.workers"
   ]
  },
  {
   "cell_type": "code",
   "execution_count": 304,
   "metadata": {},
   "outputs": [
    {
     "data": {
      "text/plain": [
       "2444.668396513989"
      ]
     },
     "execution_count": 304,
     "metadata": {},
     "output_type": "execute_result"
    }
   ],
   "source": [
    "model.total_train_time"
   ]
  },
  {
   "cell_type": "code",
   "execution_count": 307,
   "metadata": {},
   "outputs": [
    {
     "name": "stdout",
     "output_type": "stream",
     "text": [
      "CPU times: user 23min 44s, sys: 40.5 s, total: 24min 24s\n",
      "Wall time: 9min 19s\n"
     ]
    }
   ],
   "source": [
    "%time model.train(train_corpus, total_examples=model.corpus_count, epochs=9)"
   ]
  },
  {
   "cell_type": "code",
   "execution_count": 308,
   "metadata": {},
   "outputs": [
    {
     "data": {
      "text/plain": [
       "3058.171780727018"
      ]
     },
     "execution_count": 308,
     "metadata": {},
     "output_type": "execute_result"
    }
   ],
   "source": [
    "model.total_train_time"
   ]
  },
  {
   "cell_type": "code",
   "execution_count": 309,
   "metadata": {},
   "outputs": [],
   "source": [
    "model.save('models/simple_wiki_chunked_doc2vec_300_vector_10_min_word_50epochs')"
   ]
  },
  {
   "cell_type": "code",
   "execution_count": 310,
   "metadata": {},
   "outputs": [
    {
     "data": {
      "text/plain": [
       "300"
      ]
     },
     "execution_count": 310,
     "metadata": {},
     "output_type": "execute_result"
    }
   ],
   "source": [
    "model.vector_size"
   ]
  },
  {
   "cell_type": "code",
   "execution_count": 311,
   "metadata": {},
   "outputs": [
    {
     "name": "stdout",
     "output_type": "stream",
     "text": [
      "51\n",
      "52\n",
      "53\n",
      "54\n",
      "55\n",
      "56\n",
      "57\n",
      "58\n",
      "59\n",
      "60\n",
      "61\n",
      "62\n",
      "63\n",
      "64\n",
      "65\n",
      "66\n",
      "67\n",
      "68\n",
      "69\n",
      "70\n",
      "71\n",
      "72\n",
      "73\n",
      "74\n",
      "75\n",
      "76\n",
      "77\n",
      "78\n",
      "79\n",
      "80\n",
      "81\n",
      "82\n",
      "83\n",
      "84\n",
      "85\n",
      "86\n",
      "87\n",
      "88\n",
      "89\n",
      "90\n",
      "91\n",
      "92\n",
      "93\n",
      "94\n",
      "95\n",
      "96\n",
      "97\n",
      "98\n",
      "99\n",
      "100\n"
     ]
    }
   ],
   "source": [
    "epochs = 50 \n",
    "\n",
    "while epochs < 100:\n",
    "    epochs += 1\n",
    "    model.train(train_corpus, total_examples=model.corpus_count, epochs=1)\n",
    "    model.save('models/simple_wiki_chunked_doc2vec_300_vector_10_min_word_'+str(epochs) + 'epochs')\n",
    "    print(epochs)"
   ]
  },
  {
   "cell_type": "markdown",
   "metadata": {},
   "source": [
    "# looking at how vectors change with epochs"
   ]
  },
  {
   "cell_type": "code",
   "execution_count": 32,
   "metadata": {},
   "outputs": [],
   "source": [
    "import gensim\n",
    "import pandas as pd"
   ]
  },
  {
   "cell_type": "code",
   "execution_count": 28,
   "metadata": {},
   "outputs": [],
   "source": [
    "list_of_documents_to_test = list(range(10))\n",
    "\n",
    "from collections import defaultdict\n",
    "\n",
    "dict_of_arrays = defaultdict(list)\n",
    "\n",
    "for epoch in list(range(50, 101, 3)):\n",
    "    filname = 'models/simple_wiki_chunked_doc2vec_300_vector_10_min_word_'+str(epoch) + 'epochs'\n",
    "    model = gensim.models.Doc2Vec.load(filname)\n",
    "    for doc in list_of_documents_to_test:\n",
    "        dict_of_arrays[doc].append(model.docvecs[doc])\n",
    "    \n"
   ]
  },
  {
   "cell_type": "code",
   "execution_count": 41,
   "metadata": {},
   "outputs": [
    {
     "name": "stdout",
     "output_type": "stream",
     "text": [
      "[[1.]]\n",
      "[[0.9952266]]\n",
      "[[0.9891814]]\n",
      "[[0.98475707]]\n",
      "[[0.9832585]]\n",
      "[[0.9789617]]\n",
      "[[0.97666264]]\n",
      "[[0.972366]]\n",
      "[[0.968732]]\n",
      "[[0.96397537]]\n",
      "[[0.96265674]]\n",
      "[[0.95888954]]\n",
      "[[0.9557454]]\n",
      "[[0.9526125]]\n",
      "[[0.9497739]]\n",
      "[[0.9478444]]\n",
      "[[0.9438855]]\n"
     ]
    }
   ],
   "source": [
    "test = pd.DataFrame(columns=['epoch', 'cosine'])\n",
    "\n",
    "array_index = 0\n",
    "for epoch, i in zip(list(range(50, 101, 3)), dict_of_arrays[9]):\n",
    "    print(cosine_similarity([dict_of_arrays[9][0]], [i]))\n",
    "    test.loc[array_index] = [epoch, float(cosine_similarity([dict_of_arrays[9][0]], [i]))]\n",
    "    array_index += 1"
   ]
  },
  {
   "cell_type": "code",
   "execution_count": 42,
   "metadata": {},
   "outputs": [
    {
     "data": {
      "text/html": [
       "<div>\n",
       "<style scoped>\n",
       "    .dataframe tbody tr th:only-of-type {\n",
       "        vertical-align: middle;\n",
       "    }\n",
       "\n",
       "    .dataframe tbody tr th {\n",
       "        vertical-align: top;\n",
       "    }\n",
       "\n",
       "    .dataframe thead th {\n",
       "        text-align: right;\n",
       "    }\n",
       "</style>\n",
       "<table border=\"1\" class=\"dataframe\">\n",
       "  <thead>\n",
       "    <tr style=\"text-align: right;\">\n",
       "      <th></th>\n",
       "      <th>epoch</th>\n",
       "      <th>cosine</th>\n",
       "    </tr>\n",
       "  </thead>\n",
       "  <tbody>\n",
       "    <tr>\n",
       "      <th>0</th>\n",
       "      <td>50.0</td>\n",
       "      <td>1.000000</td>\n",
       "    </tr>\n",
       "    <tr>\n",
       "      <th>1</th>\n",
       "      <td>53.0</td>\n",
       "      <td>0.995227</td>\n",
       "    </tr>\n",
       "    <tr>\n",
       "      <th>2</th>\n",
       "      <td>56.0</td>\n",
       "      <td>0.989181</td>\n",
       "    </tr>\n",
       "    <tr>\n",
       "      <th>3</th>\n",
       "      <td>59.0</td>\n",
       "      <td>0.984757</td>\n",
       "    </tr>\n",
       "    <tr>\n",
       "      <th>4</th>\n",
       "      <td>62.0</td>\n",
       "      <td>0.983258</td>\n",
       "    </tr>\n",
       "    <tr>\n",
       "      <th>5</th>\n",
       "      <td>65.0</td>\n",
       "      <td>0.978962</td>\n",
       "    </tr>\n",
       "    <tr>\n",
       "      <th>6</th>\n",
       "      <td>68.0</td>\n",
       "      <td>0.976663</td>\n",
       "    </tr>\n",
       "    <tr>\n",
       "      <th>7</th>\n",
       "      <td>71.0</td>\n",
       "      <td>0.972366</td>\n",
       "    </tr>\n",
       "    <tr>\n",
       "      <th>8</th>\n",
       "      <td>74.0</td>\n",
       "      <td>0.968732</td>\n",
       "    </tr>\n",
       "    <tr>\n",
       "      <th>9</th>\n",
       "      <td>77.0</td>\n",
       "      <td>0.963975</td>\n",
       "    </tr>\n",
       "    <tr>\n",
       "      <th>10</th>\n",
       "      <td>80.0</td>\n",
       "      <td>0.962657</td>\n",
       "    </tr>\n",
       "    <tr>\n",
       "      <th>11</th>\n",
       "      <td>83.0</td>\n",
       "      <td>0.958890</td>\n",
       "    </tr>\n",
       "    <tr>\n",
       "      <th>12</th>\n",
       "      <td>86.0</td>\n",
       "      <td>0.955745</td>\n",
       "    </tr>\n",
       "    <tr>\n",
       "      <th>13</th>\n",
       "      <td>89.0</td>\n",
       "      <td>0.952613</td>\n",
       "    </tr>\n",
       "    <tr>\n",
       "      <th>14</th>\n",
       "      <td>92.0</td>\n",
       "      <td>0.949774</td>\n",
       "    </tr>\n",
       "    <tr>\n",
       "      <th>15</th>\n",
       "      <td>95.0</td>\n",
       "      <td>0.947844</td>\n",
       "    </tr>\n",
       "    <tr>\n",
       "      <th>16</th>\n",
       "      <td>98.0</td>\n",
       "      <td>0.943886</td>\n",
       "    </tr>\n",
       "  </tbody>\n",
       "</table>\n",
       "</div>"
      ],
      "text/plain": [
       "    epoch    cosine\n",
       "0    50.0  1.000000\n",
       "1    53.0  0.995227\n",
       "2    56.0  0.989181\n",
       "3    59.0  0.984757\n",
       "4    62.0  0.983258\n",
       "5    65.0  0.978962\n",
       "6    68.0  0.976663\n",
       "7    71.0  0.972366\n",
       "8    74.0  0.968732\n",
       "9    77.0  0.963975\n",
       "10   80.0  0.962657\n",
       "11   83.0  0.958890\n",
       "12   86.0  0.955745\n",
       "13   89.0  0.952613\n",
       "14   92.0  0.949774\n",
       "15   95.0  0.947844\n",
       "16   98.0  0.943886"
      ]
     },
     "execution_count": 42,
     "metadata": {},
     "output_type": "execute_result"
    }
   ],
   "source": [
    "test"
   ]
  },
  {
   "cell_type": "code",
   "execution_count": 43,
   "metadata": {},
   "outputs": [
    {
     "data": {
      "text/plain": [
       "<matplotlib.axes._subplots.AxesSubplot at 0x7ff7643feef0>"
      ]
     },
     "execution_count": 43,
     "metadata": {},
     "output_type": "execute_result"
    },
    {
     "data": {
      "image/png": "[encoded data removed]",
      "text/plain": [
       "<Figure size 432x288 with 1 Axes>"
      ]
     },
     "metadata": {},
     "output_type": "display_data"
    }
   ],
   "source": [
    "test.plot(x='epoch', y='cosine')"
   ]
  },
  {
   "cell_type": "code",
   "execution_count": 11,
   "metadata": {},
   "outputs": [],
   "source": [
    "from sklearn.metrics.pairwise import cosine_similarity"
   ]
  },
  {
   "cell_type": "code",
   "execution_count": 21,
   "metadata": {},
   "outputs": [
    {
     "name": "stdout",
     "output_type": "stream",
     "text": [
      "[[0.990417]]\n",
      "[[0.9903075]]\n",
      "[[0.99180174]]\n",
      "[[0.9945694]]\n",
      "[[0.99360144]]\n",
      "[[0.9950986]]\n",
      "[[0.9943913]]\n",
      "[[0.9958112]]\n",
      "[[0.99636346]]\n",
      "[[0.99647355]]\n"
     ]
    }
   ],
   "source": [
    "document_item = 14\n",
    "\n",
    "list_to_print = []\n",
    "for item1, item2 in list(zip(dict_of_arrays[document_item],dict_of_arrays[document_item][1:])):\n",
    "    print(cosine_similarity([item1], [item2]))\n",
    "    list_to_print.append(float(cosine_similarity([item1], [item2])))"
   ]
  },
  {
   "cell_type": "code",
   "execution_count": 23,
   "metadata": {},
   "outputs": [],
   "source": [
    "import seaborn as sns\n",
    "%matplotlib inline"
   ]
  },
  {
   "cell_type": "code",
   "execution_count": 27,
   "metadata": {},
   "outputs": [],
   "source": [
    "import matplotlib.pyplot as plt"
   ]
  },
  {
   "cell_type": "code",
   "execution_count": null,
   "metadata": {},
   "outputs": [],
   "source": [
    "plt"
   ]
  },
  {
   "cell_type": "code",
   "execution_count": 25,
   "metadata": {},
   "outputs": [
    {
     "data": {
      "text/plain": [
       "<matplotlib.axes._subplots.AxesSubplot at 0x7ff748550320>"
      ]
     },
     "execution_count": 25,
     "metadata": {},
     "output_type": "execute_result"
    },
    {
     "data": {
      "image/png": "[encoded data removed]",
      "text/plain": [
       "<Figure size 432x288 with 1 Axes>"
      ]
     },
     "metadata": {},
     "output_type": "display_data"
    }
   ],
   "source": [
    "sns.barplot(list_to_print)"
   ]
  },
  {
   "cell_type": "code",
   "execution_count": 2,
   "metadata": {},
   "outputs": [],
   "source": [
    "import numpy as np"
   ]
  },
  {
   "cell_type": "code",
   "execution_count": 16,
   "metadata": {},
   "outputs": [],
   "source": [
    "epochs_list = ['']\n",
    "epochs_list = []\n",
    "epochs_list.extend(list(range(50, 101)))\n",
    "epochs_list.extend(list(range(100, 851, 50)))\n",
    "\n",
    "list_of_documents_to_test = list(range(10))\n",
    "\n",
    "from collections import defaultdict\n",
    "\n",
    "# dict_of_arrays = defaultdict(list)\n",
    "output = None\n",
    "\n",
    "\n",
    "for epoch in epochs_list:\n",
    "    filname = 'models/simple_wiki_chunked_doc2vec_300_vector_10_min_word_'+str(epoch) + 'epochs'\n",
    "    model = gensim.models.Doc2Vec.load(filname)\n",
    "    for doc in [10]:\n",
    "        if output is not None:\n",
    "            try:\n",
    "                output = np.append([output], [model.docvecs[doc]], axis=0)\n",
    "            except:\n",
    "                output = np.append(output, [model.docvecs[doc]], axis=0)\n",
    "        else:\n",
    "            output = np.array(model.docvecs[doc])\n",
    "#         output.append(model.docvecs[doc])\n",
    "    del model"
   ]
  },
  {
   "cell_type": "code",
   "execution_count": 20,
   "metadata": {},
   "outputs": [],
   "source": [
    "import pandas as pd\n",
    "from sklearn.metrics.pairwise import cosine_similarity"
   ]
  },
  {
   "cell_type": "code",
   "execution_count": 24,
   "metadata": {},
   "outputs": [
    {
     "name": "stdout",
     "output_type": "stream",
     "text": [
      "[[0.9999999]]\n",
      "[[0.99800295]]\n",
      "[[0.9966716]]\n",
      "[[0.9948083]]\n",
      "[[0.9946049]]\n",
      "[[0.99237365]]\n",
      "[[0.9893937]]\n",
      "[[0.9899368]]\n",
      "[[0.9886581]]\n",
      "[[0.98773706]]\n",
      "[[0.9865179]]\n",
      "[[0.986983]]\n",
      "[[0.9855287]]\n",
      "[[0.9843553]]\n",
      "[[0.9835083]]\n",
      "[[0.98159224]]\n",
      "[[0.98158085]]\n",
      "[[0.9806148]]\n",
      "[[0.9795971]]\n",
      "[[0.9774846]]\n",
      "[[0.97732246]]\n",
      "[[0.9756546]]\n",
      "[[0.97369456]]\n",
      "[[0.9734365]]\n",
      "[[0.97264814]]\n",
      "[[0.9714664]]\n",
      "[[0.97075444]]\n",
      "[[0.9707972]]\n",
      "[[0.9693209]]\n",
      "[[0.9675426]]\n",
      "[[0.9674686]]\n",
      "[[0.9665442]]\n",
      "[[0.9641351]]\n",
      "[[0.9617697]]\n",
      "[[0.9599803]]\n",
      "[[0.9575818]]\n",
      "[[0.9578228]]\n",
      "[[0.95575124]]\n",
      "[[0.9545353]]\n",
      "[[0.9558728]]\n",
      "[[0.9559883]]\n",
      "[[0.9536794]]\n",
      "[[0.9540061]]\n",
      "[[0.9519363]]\n",
      "[[0.9518798]]\n",
      "[[0.95321715]]\n",
      "[[0.9503181]]\n",
      "[[0.9499104]]\n",
      "[[0.951043]]\n",
      "[[0.9501809]]\n",
      "[[0.95146835]]\n",
      "[[0.95146835]]\n",
      "[[0.9365027]]\n",
      "[[0.9299035]]\n",
      "[[0.92287934]]\n",
      "[[0.91481274]]\n",
      "[[0.89977175]]\n",
      "[[0.89308167]]\n",
      "[[0.8877939]]\n",
      "[[0.87942684]]\n",
      "[[0.8758034]]\n",
      "[[0.86993694]]\n",
      "[[0.86232036]]\n",
      "[[0.85841787]]\n",
      "[[0.8497493]]\n",
      "[[0.84622085]]\n",
      "[[0.8421024]]\n"
     ]
    }
   ],
   "source": [
    "test = pd.DataFrame(columns=['epoch', 'cosine'])\n",
    "\n",
    "array_index = 0\n",
    "for epoch, i in zip(epochs_list, output):\n",
    "    print(cosine_similarity([output[0]], [i]))\n",
    "    test.loc[array_index] = [epoch, float(cosine_similarity([output[0]], [i]))]\n",
    "    array_index += 1"
   ]
  },
  {
   "cell_type": "code",
   "execution_count": 30,
   "metadata": {},
   "outputs": [
    {
     "data": {
      "text/plain": [
       "<matplotlib.axes._subplots.AxesSubplot at 0x7fbb67fb2eb8>"
      ]
     },
     "execution_count": 30,
     "metadata": {},
     "output_type": "execute_result"
    },
    {
     "data": {
      "image/png": "[encoded data removed]",
      "text/plain": [
       "<Figure size 432x288 with 1 Axes>"
      ]
     },
     "metadata": {},
     "output_type": "display_data"
    }
   ],
   "source": [
    "%matplotlib inline\n",
    "import seaborn as sns\n",
    "test.plot.scatter(x='epoch', y='cosine')"
   ]
  },
  {
   "cell_type": "code",
   "execution_count": 23,
   "metadata": {},
   "outputs": [
    {
     "data": {
      "text/plain": [
       "[array([-0.09873271, -0.38445738, -0.11841913,  0.15415132, -0.6523824 ,\n",
       "         0.11224592, -0.35974038, -0.24351221, -0.94710666, -0.22751893,\n",
       "         0.10789845, -0.698158  ,  0.6245654 ,  0.00511736,  0.9365074 ,\n",
       "         0.5034717 ,  1.1449183 ,  0.0580245 ,  0.6188839 , -0.3746723 ,\n",
       "        -0.59429264, -0.4119914 , -0.7838709 ,  0.12741818,  0.743559  ,\n",
       "        -0.2930218 , -0.254785  ,  0.20689121,  0.06806126, -1.2452523 ,\n",
       "        -0.14102378, -0.01871628,  0.12427453,  0.8795282 ,  0.4701037 ,\n",
       "         0.00315543,  0.18903306, -0.57624084,  0.05506678, -0.14503291,\n",
       "         0.10938947,  0.41105354,  0.5317753 , -0.06573683, -0.6465584 ,\n",
       "         0.84541434,  0.6550027 ,  0.08956805, -0.09003133, -0.2111553 ,\n",
       "         0.04252867, -0.7158433 ,  0.13249995,  0.7015682 , -0.5330992 ,\n",
       "         0.65194   , -0.10077243, -0.35465536,  0.00540563,  0.10988909,\n",
       "        -0.22945848,  0.14482212, -0.1740423 , -0.1290046 , -1.3902265 ,\n",
       "        -0.3759748 ,  1.7233386 , -0.00926691, -0.18192357, -0.38504437,\n",
       "         0.7703093 ,  0.87069505,  0.8099487 , -1.0907799 ,  0.34716466,\n",
       "        -1.1005397 ,  0.32471305, -1.1290761 , -0.34504035, -1.3546449 ,\n",
       "         0.5232247 ,  1.1807079 , -1.1113421 ,  1.0839783 ,  0.6349535 ,\n",
       "         0.7671257 ,  1.2589854 , -0.28859732,  0.4205017 ,  1.0259389 ,\n",
       "        -0.80534405, -0.902722  , -0.6246018 ,  0.37907463,  0.65398973,\n",
       "        -0.02845957,  0.5124019 , -0.08976267,  0.37448743,  1.3483696 ,\n",
       "         0.22301137,  0.2683325 ,  0.79532427,  1.2930536 , -0.9844233 ,\n",
       "        -0.2571887 ,  0.15996706,  0.10632472, -1.6781642 , -0.23882541,\n",
       "        -0.01955615, -0.5783028 , -0.8200874 , -0.83673847, -1.0634763 ,\n",
       "        -0.20475979,  0.06114709, -0.31456292,  0.38856956,  1.0706372 ,\n",
       "         0.47333676, -0.09060856, -0.34042647,  1.787445  ,  0.6674544 ,\n",
       "        -0.4471809 ,  1.0153238 , -0.9231438 , -1.7870857 , -0.7454767 ,\n",
       "         0.05874861,  0.13237384,  0.57935804, -0.22557385,  0.8762578 ,\n",
       "         0.4375644 ,  0.18733011,  0.8407544 ,  0.08982901,  0.82435805,\n",
       "         0.08012936, -0.06685524, -0.09586426, -0.3665359 , -0.7743647 ,\n",
       "        -0.01277982,  0.3856222 ,  0.32242757,  1.1809385 , -0.84558123,\n",
       "        -0.9460839 ,  0.70475984,  0.35187578,  0.04391871, -0.8295955 ,\n",
       "         0.43288583, -0.14816223,  0.04361926,  0.19137846, -0.38405374,\n",
       "        -0.68053365, -0.5671983 ,  0.4251984 , -0.41696128, -0.43329936,\n",
       "         0.45307386, -0.45762536,  0.6021028 ,  0.43944037,  0.60679686,\n",
       "         0.4213227 ,  0.5779893 ,  0.3291794 , -0.12742923, -1.4846679 ,\n",
       "         0.69527084, -0.5277129 ,  0.19076948,  0.85407895, -1.0844277 ,\n",
       "         0.26010755, -0.550691  , -0.0157974 , -0.05549072, -0.7824095 ,\n",
       "        -0.2367107 , -0.4658499 ,  0.81762135, -0.97379154, -0.27863753,\n",
       "        -0.72694576, -1.1755888 ,  1.3353223 , -0.269959  , -0.09420834,\n",
       "        -0.31140792,  0.5920774 ,  0.27833068,  0.3184365 , -0.8835793 ,\n",
       "        -1.7909942 ,  0.6241565 , -0.61761844, -1.0206203 , -0.3433831 ,\n",
       "        -0.8247038 ,  1.233477  , -0.09375005,  0.01537927, -0.6999745 ,\n",
       "         0.03423724,  0.40754974,  0.86479014, -0.2166452 , -0.65327436,\n",
       "        -0.27888948, -0.05609301,  1.1111934 , -1.0998904 ,  1.7303629 ,\n",
       "        -0.6479589 ,  0.01483681,  0.450969  ,  0.05229024,  0.70077974,\n",
       "         0.2128358 , -0.59156495, -0.6577215 ,  0.4939938 , -0.8219128 ,\n",
       "        -0.14680997, -0.19359212, -0.80557394,  0.5547453 , -0.8038871 ,\n",
       "        -0.2569867 , -0.3887346 , -0.578984  , -0.39527234, -1.0506061 ,\n",
       "         0.91744983,  0.65585643, -0.44243568,  0.06344513,  0.13833204,\n",
       "         0.75581056,  0.29073277,  0.48621666,  1.4174043 ,  0.34703526,\n",
       "         0.03699236,  0.02761884, -0.28105542,  0.24597245, -0.3062338 ,\n",
       "        -0.01358215,  0.821097  , -1.1300875 , -0.5317347 , -0.8417461 ,\n",
       "        -0.23967203, -0.7802148 ,  0.35096225,  0.9080463 ,  0.60294664,\n",
       "         0.6955033 , -1.4460187 , -0.5485292 ,  0.6962328 , -0.6588325 ,\n",
       "        -0.1769812 ,  0.67480975,  0.33964595,  0.49690387,  1.2519555 ,\n",
       "        -0.85314417,  0.3780767 ,  0.49309698, -0.13966516, -0.11370989,\n",
       "         0.11972355,  0.27834344,  0.30224442,  0.75626904,  0.3004084 ,\n",
       "         0.56342936, -0.9032921 ,  0.07123913,  0.6665438 , -1.2558618 ,\n",
       "        -0.94167525,  0.7686766 , -0.38842148,  0.24550323, -0.5747345 ,\n",
       "        -0.2115079 ,  0.65288806,  0.32203597,  0.43673757,  0.02677625],\n",
       "       dtype=float32)]"
      ]
     },
     "execution_count": 23,
     "metadata": {},
     "output_type": "execute_result"
    }
   ],
   "source": []
  },
  {
   "cell_type": "code",
   "execution_count": null,
   "metadata": {},
   "outputs": [],
   "source": []
  }
 ],
 "metadata": {
  "kernelspec": {
   "display_name": "Python 3",
   "language": "python",
   "name": "python3"
  },
  "language_info": {
   "codemirror_mode": {
    "name": "ipython",
    "version": 3
   },
   "file_extension": ".py",
   "mimetype": "text/x-python",
   "name": "python",
   "nbconvert_exporter": "python",
   "pygments_lexer": "ipython3",
   "version": "3.6.5"
  }
 },
 "nbformat": 4,
 "nbformat_minor": 2
}
