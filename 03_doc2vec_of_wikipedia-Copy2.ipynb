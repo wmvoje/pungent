{
 "cells": [
  {
   "cell_type": "code",
   "execution_count": 1,
   "metadata": {},
   "outputs": [],
   "source": [
    "import gensim "
   ]
  },
  {
   "cell_type": "code",
   "execution_count": 2,
   "metadata": {},
   "outputs": [],
   "source": [
    "import pandas as pd"
   ]
  },
  {
   "cell_type": "code",
   "execution_count": 3,
   "metadata": {},
   "outputs": [],
   "source": [
    "wiki_data = pd.read_csv('data/wikipedia/cleaned_wiki_data_full_text_chunks.csv')"
   ]
  },
  {
   "cell_type": "code",
   "execution_count": 4,
   "metadata": {},
   "outputs": [
    {
     "data": {
      "text/plain": [
       "152895"
      ]
     },
     "execution_count": 4,
     "metadata": {},
     "output_type": "execute_result"
    }
   ],
   "source": [
    "len(wiki_data)"
   ]
  },
  {
   "cell_type": "code",
   "execution_count": 5,
   "metadata": {},
   "outputs": [],
   "source": [
    "wiki_data = wiki_data[wiki_data.text.apply(lambda x: len(x) > 500)]"
   ]
  },
  {
   "cell_type": "code",
   "execution_count": 6,
   "metadata": {},
   "outputs": [],
   "source": [
    "def read_corpus(list_of_docs, tokens_only=False):\n",
    "    for i, line in enumerate(list_of_docs):\n",
    "        if tokens_only:\n",
    "            yield gensim.utils.simple_preprocess(line)\n",
    "        else:\n",
    "            # For training data, add tags\n",
    "            yield gensim.models.doc2vec.TaggedDocument(gensim.utils.simple_preprocess(line), [i])"
   ]
  },
  {
   "cell_type": "code",
   "execution_count": 7,
   "metadata": {},
   "outputs": [],
   "source": [
    "removed_duplicates = wiki_data.text.drop_duplicates()"
   ]
  },
  {
   "cell_type": "code",
   "execution_count": 8,
   "metadata": {},
   "outputs": [
    {
     "data": {
      "text/plain": [
       "68415"
      ]
     },
     "execution_count": 8,
     "metadata": {},
     "output_type": "execute_result"
    }
   ],
   "source": [
    "len(removed_duplicates)"
   ]
  },
  {
   "cell_type": "code",
   "execution_count": 9,
   "metadata": {},
   "outputs": [],
   "source": [
    "train_corpus = list(read_corpus(removed_duplicates))\n",
    "test_corpus = list(read_corpus(removed_duplicates, tokens_only=True))"
   ]
  },
  {
   "cell_type": "code",
   "execution_count": null,
   "metadata": {},
   "outputs": [
    {
     "name": "stdout",
     "output_type": "stream",
     "text": [
      "300\n"
     ]
    }
   ],
   "source": [
    "for vector_size in [300]:\n",
    "    model = gensim.models.doc2vec.Doc2Vec(vector_size=vector_size, min_count=10, epochs=50, workers=4)\n",
    "    print(vector_size)\n",
    "    model.build_vocab(train_corpus)\n",
    "    model.train(train_corpus, total_examples=model.corpus_count, epochs=model.epochs)\n",
    "    print(vector_size, 'done')\n",
    "    model.save('models/simple_wiki_chunked_word_limited_doc2vec_' + str(vector_size) + '_vector_10_min_word_epoch_' + str(50))"
   ]
  },
  {
   "cell_type": "code",
   "execution_count": 165,
   "metadata": {},
   "outputs": [
    {
     "name": "stdout",
     "output_type": "stream",
     "text": [
      "100\n"
     ]
    },
    {
     "ename": "KeyboardInterrupt",
     "evalue": "",
     "output_type": "error",
     "traceback": [
      "\u001b[0;31m---------------------------------------------------------------------------\u001b[0m",
      "\u001b[0;31mKeyboardInterrupt\u001b[0m                         Traceback (most recent call last)",
      "\u001b[0;32m<ipython-input-165-d1f1e6a0106e>\u001b[0m in \u001b[0;36m<module>\u001b[0;34m()\u001b[0m\n\u001b[1;32m      3\u001b[0m \u001b[0;32mwhile\u001b[0m \u001b[0mepochs\u001b[0m \u001b[0;34m<\u001b[0m \u001b[0;36m1000\u001b[0m\u001b[0;34m:\u001b[0m\u001b[0;34m\u001b[0m\u001b[0m\n\u001b[1;32m      4\u001b[0m     \u001b[0mepochs\u001b[0m \u001b[0;34m+=\u001b[0m \u001b[0;36m50\u001b[0m\u001b[0;34m\u001b[0m\u001b[0m\n\u001b[0;32m----> 5\u001b[0;31m     \u001b[0mmodel\u001b[0m\u001b[0;34m.\u001b[0m\u001b[0mtrain\u001b[0m\u001b[0;34m(\u001b[0m\u001b[0mtrain_corpus\u001b[0m\u001b[0;34m,\u001b[0m \u001b[0mtotal_examples\u001b[0m\u001b[0;34m=\u001b[0m\u001b[0mmodel\u001b[0m\u001b[0;34m.\u001b[0m\u001b[0mcorpus_count\u001b[0m\u001b[0;34m,\u001b[0m \u001b[0mepochs\u001b[0m\u001b[0;34m=\u001b[0m\u001b[0;36m50\u001b[0m\u001b[0;34m)\u001b[0m\u001b[0;34m\u001b[0m\u001b[0m\n\u001b[0m\u001b[1;32m      6\u001b[0m     \u001b[0mmodel\u001b[0m\u001b[0;34m.\u001b[0m\u001b[0msave\u001b[0m\u001b[0;34m(\u001b[0m\u001b[0;34m'models/simple_wiki_chunked_word_limited_doc2vec_'\u001b[0m \u001b[0;34m+\u001b[0m \u001b[0mstr\u001b[0m\u001b[0;34m(\u001b[0m\u001b[0mvector_size\u001b[0m\u001b[0;34m)\u001b[0m \u001b[0;34m+\u001b[0m \u001b[0;34m'_vector_10_min_word_epoch_'\u001b[0m\u001b[0;34m+\u001b[0m\u001b[0mstr\u001b[0m\u001b[0;34m(\u001b[0m\u001b[0mepochs\u001b[0m\u001b[0;34m)\u001b[0m\u001b[0;34m)\u001b[0m\u001b[0;34m\u001b[0m\u001b[0m\n\u001b[1;32m      7\u001b[0m     \u001b[0mprint\u001b[0m\u001b[0;34m(\u001b[0m\u001b[0mepochs\u001b[0m\u001b[0;34m)\u001b[0m\u001b[0;34m\u001b[0m\u001b[0m\n",
      "\u001b[0;32m~/anaconda3/lib/python3.6/site-packages/gensim/models/doc2vec.py\u001b[0m in \u001b[0;36mtrain\u001b[0;34m(self, documents, total_examples, total_words, epochs, start_alpha, end_alpha, word_count, queue_factor, report_delay, callbacks)\u001b[0m\n\u001b[1;32m    715\u001b[0m             \u001b[0mdocuments\u001b[0m\u001b[0;34m,\u001b[0m \u001b[0mtotal_examples\u001b[0m\u001b[0;34m=\u001b[0m\u001b[0mtotal_examples\u001b[0m\u001b[0;34m,\u001b[0m \u001b[0mtotal_words\u001b[0m\u001b[0;34m=\u001b[0m\u001b[0mtotal_words\u001b[0m\u001b[0;34m,\u001b[0m\u001b[0;34m\u001b[0m\u001b[0m\n\u001b[1;32m    716\u001b[0m             \u001b[0mepochs\u001b[0m\u001b[0;34m=\u001b[0m\u001b[0mepochs\u001b[0m\u001b[0;34m,\u001b[0m \u001b[0mstart_alpha\u001b[0m\u001b[0;34m=\u001b[0m\u001b[0mstart_alpha\u001b[0m\u001b[0;34m,\u001b[0m \u001b[0mend_alpha\u001b[0m\u001b[0;34m=\u001b[0m\u001b[0mend_alpha\u001b[0m\u001b[0;34m,\u001b[0m \u001b[0mword_count\u001b[0m\u001b[0;34m=\u001b[0m\u001b[0mword_count\u001b[0m\u001b[0;34m,\u001b[0m\u001b[0;34m\u001b[0m\u001b[0m\n\u001b[0;32m--> 717\u001b[0;31m             queue_factor=queue_factor, report_delay=report_delay, callbacks=callbacks)\n\u001b[0m\u001b[1;32m    718\u001b[0m \u001b[0;34m\u001b[0m\u001b[0m\n\u001b[1;32m    719\u001b[0m     \u001b[0;32mdef\u001b[0m \u001b[0m_raw_word_count\u001b[0m\u001b[0;34m(\u001b[0m\u001b[0mself\u001b[0m\u001b[0;34m,\u001b[0m \u001b[0mjob\u001b[0m\u001b[0;34m)\u001b[0m\u001b[0;34m:\u001b[0m\u001b[0;34m\u001b[0m\u001b[0m\n",
      "\u001b[0;32m~/anaconda3/lib/python3.6/site-packages/gensim/models/base_any2vec.py\u001b[0m in \u001b[0;36mtrain\u001b[0;34m(self, sentences, total_examples, total_words, epochs, start_alpha, end_alpha, word_count, queue_factor, report_delay, compute_loss, callbacks)\u001b[0m\n\u001b[1;32m    936\u001b[0m             \u001b[0msentences\u001b[0m\u001b[0;34m,\u001b[0m \u001b[0mtotal_examples\u001b[0m\u001b[0;34m=\u001b[0m\u001b[0mtotal_examples\u001b[0m\u001b[0;34m,\u001b[0m \u001b[0mtotal_words\u001b[0m\u001b[0;34m=\u001b[0m\u001b[0mtotal_words\u001b[0m\u001b[0;34m,\u001b[0m\u001b[0;34m\u001b[0m\u001b[0m\n\u001b[1;32m    937\u001b[0m             \u001b[0mepochs\u001b[0m\u001b[0;34m=\u001b[0m\u001b[0mepochs\u001b[0m\u001b[0;34m,\u001b[0m \u001b[0mstart_alpha\u001b[0m\u001b[0;34m=\u001b[0m\u001b[0mstart_alpha\u001b[0m\u001b[0;34m,\u001b[0m \u001b[0mend_alpha\u001b[0m\u001b[0;34m=\u001b[0m\u001b[0mend_alpha\u001b[0m\u001b[0;34m,\u001b[0m \u001b[0mword_count\u001b[0m\u001b[0;34m=\u001b[0m\u001b[0mword_count\u001b[0m\u001b[0;34m,\u001b[0m\u001b[0;34m\u001b[0m\u001b[0m\n\u001b[0;32m--> 938\u001b[0;31m             queue_factor=queue_factor, report_delay=report_delay, compute_loss=compute_loss, callbacks=callbacks)\n\u001b[0m\u001b[1;32m    939\u001b[0m \u001b[0;34m\u001b[0m\u001b[0m\n\u001b[1;32m    940\u001b[0m     \u001b[0;32mdef\u001b[0m \u001b[0m_get_job_params\u001b[0m\u001b[0;34m(\u001b[0m\u001b[0mself\u001b[0m\u001b[0;34m,\u001b[0m \u001b[0mcur_epoch\u001b[0m\u001b[0;34m)\u001b[0m\u001b[0;34m:\u001b[0m\u001b[0;34m\u001b[0m\u001b[0m\n",
      "\u001b[0;32m~/anaconda3/lib/python3.6/site-packages/gensim/models/base_any2vec.py\u001b[0m in \u001b[0;36mtrain\u001b[0;34m(self, data_iterable, epochs, total_examples, total_words, queue_factor, report_delay, callbacks, **kwargs)\u001b[0m\n\u001b[1;32m    435\u001b[0m             trained_word_count_epoch, raw_word_count_epoch, job_tally_epoch = self._train_epoch(\n\u001b[1;32m    436\u001b[0m                 \u001b[0mdata_iterable\u001b[0m\u001b[0;34m,\u001b[0m \u001b[0mcur_epoch\u001b[0m\u001b[0;34m=\u001b[0m\u001b[0mcur_epoch\u001b[0m\u001b[0;34m,\u001b[0m \u001b[0mtotal_examples\u001b[0m\u001b[0;34m=\u001b[0m\u001b[0mtotal_examples\u001b[0m\u001b[0;34m,\u001b[0m \u001b[0mtotal_words\u001b[0m\u001b[0;34m=\u001b[0m\u001b[0mtotal_words\u001b[0m\u001b[0;34m,\u001b[0m\u001b[0;34m\u001b[0m\u001b[0m\n\u001b[0;32m--> 437\u001b[0;31m                 queue_factor=queue_factor, report_delay=report_delay)\n\u001b[0m\u001b[1;32m    438\u001b[0m             \u001b[0mtrained_word_count\u001b[0m \u001b[0;34m+=\u001b[0m \u001b[0mtrained_word_count_epoch\u001b[0m\u001b[0;34m\u001b[0m\u001b[0m\n\u001b[1;32m    439\u001b[0m             \u001b[0mraw_word_count\u001b[0m \u001b[0;34m+=\u001b[0m \u001b[0mraw_word_count_epoch\u001b[0m\u001b[0;34m\u001b[0m\u001b[0m\n",
      "\u001b[0;32m~/anaconda3/lib/python3.6/site-packages/gensim/models/base_any2vec.py\u001b[0m in \u001b[0;36m_train_epoch\u001b[0;34m(self, data_iterable, cur_epoch, total_examples, total_words, queue_factor, report_delay)\u001b[0m\n\u001b[1;32m    375\u001b[0m         trained_word_count, raw_word_count, job_tally = self._log_epoch_progress(\n\u001b[1;32m    376\u001b[0m             \u001b[0mprogress_queue\u001b[0m\u001b[0;34m,\u001b[0m \u001b[0mjob_queue\u001b[0m\u001b[0;34m,\u001b[0m \u001b[0mcur_epoch\u001b[0m\u001b[0;34m=\u001b[0m\u001b[0mcur_epoch\u001b[0m\u001b[0;34m,\u001b[0m \u001b[0mtotal_examples\u001b[0m\u001b[0;34m=\u001b[0m\u001b[0mtotal_examples\u001b[0m\u001b[0;34m,\u001b[0m \u001b[0mtotal_words\u001b[0m\u001b[0;34m=\u001b[0m\u001b[0mtotal_words\u001b[0m\u001b[0;34m,\u001b[0m\u001b[0;34m\u001b[0m\u001b[0m\n\u001b[0;32m--> 377\u001b[0;31m             report_delay=report_delay)\n\u001b[0m\u001b[1;32m    378\u001b[0m \u001b[0;34m\u001b[0m\u001b[0m\n\u001b[1;32m    379\u001b[0m         \u001b[0;32mreturn\u001b[0m \u001b[0mtrained_word_count\u001b[0m\u001b[0;34m,\u001b[0m \u001b[0mraw_word_count\u001b[0m\u001b[0;34m,\u001b[0m \u001b[0mjob_tally\u001b[0m\u001b[0;34m\u001b[0m\u001b[0m\n",
      "\u001b[0;32m~/anaconda3/lib/python3.6/site-packages/gensim/models/base_any2vec.py\u001b[0m in \u001b[0;36m_log_epoch_progress\u001b[0;34m(self, progress_queue, job_queue, cur_epoch, total_examples, total_words, report_delay)\u001b[0m\n\u001b[1;32m    295\u001b[0m \u001b[0;34m\u001b[0m\u001b[0m\n\u001b[1;32m    296\u001b[0m         \u001b[0;32mwhile\u001b[0m \u001b[0munfinished_worker_count\u001b[0m \u001b[0;34m>\u001b[0m \u001b[0;36m0\u001b[0m\u001b[0;34m:\u001b[0m\u001b[0;34m\u001b[0m\u001b[0m\n\u001b[0;32m--> 297\u001b[0;31m             \u001b[0mreport\u001b[0m \u001b[0;34m=\u001b[0m \u001b[0mprogress_queue\u001b[0m\u001b[0;34m.\u001b[0m\u001b[0mget\u001b[0m\u001b[0;34m(\u001b[0m\u001b[0;34m)\u001b[0m  \u001b[0;31m# blocks if workers too slow\u001b[0m\u001b[0;34m\u001b[0m\u001b[0m\n\u001b[0m\u001b[1;32m    298\u001b[0m             \u001b[0;32mif\u001b[0m \u001b[0mreport\u001b[0m \u001b[0;32mis\u001b[0m \u001b[0;32mNone\u001b[0m\u001b[0;34m:\u001b[0m  \u001b[0;31m# a thread reporting that it finished\u001b[0m\u001b[0;34m\u001b[0m\u001b[0m\n\u001b[1;32m    299\u001b[0m                 \u001b[0munfinished_worker_count\u001b[0m \u001b[0;34m-=\u001b[0m \u001b[0;36m1\u001b[0m\u001b[0;34m\u001b[0m\u001b[0m\n",
      "\u001b[0;32m~/anaconda3/lib/python3.6/queue.py\u001b[0m in \u001b[0;36mget\u001b[0;34m(self, block, timeout)\u001b[0m\n\u001b[1;32m    162\u001b[0m             \u001b[0;32melif\u001b[0m \u001b[0mtimeout\u001b[0m \u001b[0;32mis\u001b[0m \u001b[0;32mNone\u001b[0m\u001b[0;34m:\u001b[0m\u001b[0;34m\u001b[0m\u001b[0m\n\u001b[1;32m    163\u001b[0m                 \u001b[0;32mwhile\u001b[0m \u001b[0;32mnot\u001b[0m \u001b[0mself\u001b[0m\u001b[0;34m.\u001b[0m\u001b[0m_qsize\u001b[0m\u001b[0;34m(\u001b[0m\u001b[0;34m)\u001b[0m\u001b[0;34m:\u001b[0m\u001b[0;34m\u001b[0m\u001b[0m\n\u001b[0;32m--> 164\u001b[0;31m                     \u001b[0mself\u001b[0m\u001b[0;34m.\u001b[0m\u001b[0mnot_empty\u001b[0m\u001b[0;34m.\u001b[0m\u001b[0mwait\u001b[0m\u001b[0;34m(\u001b[0m\u001b[0;34m)\u001b[0m\u001b[0;34m\u001b[0m\u001b[0m\n\u001b[0m\u001b[1;32m    165\u001b[0m             \u001b[0;32melif\u001b[0m \u001b[0mtimeout\u001b[0m \u001b[0;34m<\u001b[0m \u001b[0;36m0\u001b[0m\u001b[0;34m:\u001b[0m\u001b[0;34m\u001b[0m\u001b[0m\n\u001b[1;32m    166\u001b[0m                 \u001b[0;32mraise\u001b[0m \u001b[0mValueError\u001b[0m\u001b[0;34m(\u001b[0m\u001b[0;34m\"'timeout' must be a non-negative number\"\u001b[0m\u001b[0;34m)\u001b[0m\u001b[0;34m\u001b[0m\u001b[0m\n",
      "\u001b[0;32m~/anaconda3/lib/python3.6/threading.py\u001b[0m in \u001b[0;36mwait\u001b[0;34m(self, timeout)\u001b[0m\n\u001b[1;32m    293\u001b[0m         \u001b[0;32mtry\u001b[0m\u001b[0;34m:\u001b[0m    \u001b[0;31m# restore state no matter what (e.g., KeyboardInterrupt)\u001b[0m\u001b[0;34m\u001b[0m\u001b[0m\n\u001b[1;32m    294\u001b[0m             \u001b[0;32mif\u001b[0m \u001b[0mtimeout\u001b[0m \u001b[0;32mis\u001b[0m \u001b[0;32mNone\u001b[0m\u001b[0;34m:\u001b[0m\u001b[0;34m\u001b[0m\u001b[0m\n\u001b[0;32m--> 295\u001b[0;31m                 \u001b[0mwaiter\u001b[0m\u001b[0;34m.\u001b[0m\u001b[0macquire\u001b[0m\u001b[0;34m(\u001b[0m\u001b[0;34m)\u001b[0m\u001b[0;34m\u001b[0m\u001b[0m\n\u001b[0m\u001b[1;32m    296\u001b[0m                 \u001b[0mgotit\u001b[0m \u001b[0;34m=\u001b[0m \u001b[0;32mTrue\u001b[0m\u001b[0;34m\u001b[0m\u001b[0m\n\u001b[1;32m    297\u001b[0m             \u001b[0;32melse\u001b[0m\u001b[0;34m:\u001b[0m\u001b[0;34m\u001b[0m\u001b[0m\n",
      "\u001b[0;31mKeyboardInterrupt\u001b[0m: "
     ]
    }
   ],
   "source": [
    "epochs = 50\n",
    "\n",
    "while epochs < 1000:\n",
    "    epochs += 50\n",
    "    model.train(train_corpus, total_examples=model.corpus_count, epochs=50)\n",
    "    model.save('models/simple_wiki_chunked_word_limited_doc2vec_' + str(vector_size) + '_vector_10_min_word_epoch_'+str(epochs))\n",
    "    print(epochs)"
   ]
  },
  {
   "cell_type": "code",
   "execution_count": 192,
   "metadata": {},
   "outputs": [
    {
     "name": "stdout",
     "output_type": "stream",
     "text": [
      "190\n",
      "210\n",
      "230\n",
      "250\n",
      "270\n",
      "290\n",
      "310\n",
      "330\n",
      "350\n",
      "370\n",
      "390\n",
      "410\n",
      "430\n",
      "450\n",
      "470\n",
      "490\n",
      "510\n",
      "530\n",
      "550\n",
      "570\n",
      "590\n",
      "610\n",
      "630\n",
      "650\n",
      "670\n",
      "690\n",
      "710\n",
      "730\n",
      "750\n",
      "770\n",
      "790\n",
      "810\n",
      "830\n",
      "850\n",
      "870\n",
      "890\n",
      "910\n",
      "930\n",
      "950\n",
      "970\n",
      "990\n",
      "1010\n"
     ]
    }
   ],
   "source": [
    "while epochs < 1000:\n",
    "    epochs += 20\n",
    "    model.train(train_corpus, total_examples=model.corpus_count, epochs=20)\n",
    "    model.save('models/simple_wiki_chunked_word_limited_doc2vec_' + str(vector_size) + '_vector_10_min_word_epoch_'+str(epochs))\n",
    "    print(epochs)"
   ]
  },
  {
   "cell_type": "code",
   "execution_count": 10,
   "metadata": {},
   "outputs": [],
   "source": [
    "import gensim"
   ]
  },
  {
   "cell_type": "code",
   "execution_count": 13,
   "metadata": {},
   "outputs": [],
   "source": [
    "del train_corpus"
   ]
  },
  {
   "cell_type": "markdown",
   "metadata": {},
   "source": [
    "# Looking at the consistency of these things"
   ]
  },
  {
   "cell_type": "code",
   "execution_count": 14,
   "metadata": {},
   "outputs": [],
   "source": [
    "topics = ['The domestic cat is a small, typically furry, carnivorous mammal. They are often called house cats[5] when kept as indoor pets or simply cats when there is no need to distinguish them from other felids and felines. They are often valued by humans for companionship and for their ability to hunt vermin. There are more than seventy cat breeds recognized by various cat registries.',\n",
    "          \"Association football, more commonly known as football or soccer,[a] is a team sport played between two teams of eleven players with a spherical ball. It is played by 250 million players in over 200 countries and dependencies, making it the world's most popular sport.[5][6][7][8] The game is played on a rectangular field with a goal at each end. The object of the game is to score by moving the ball beyond the goal line into the opposing goal.\",\n",
    "         \"Amazon.com Inc said on Tuesday it would raise its minimum wage to $15 per hour for U.S. employees from next month, giving ground to critics of poor pay and working conditions at the world’s second most valuable company.\",\n",
    "         \" France said on Tuesday there was no doubt Iran’s intelligence ministry was behind a June plot to attack an exiled opposition group’s rally outside Paris and it seized assets belonging to Tehran’s intelligence services and two Iranian nationals.\"]"
   ]
  },
  {
   "cell_type": "code",
   "execution_count": 15,
   "metadata": {},
   "outputs": [],
   "source": [
    "# topics = ['I love my mother she enjoys running and walking. She dreams of running a marathon one day.']"
   ]
  },
  {
   "cell_type": "code",
   "execution_count": 16,
   "metadata": {},
   "outputs": [],
   "source": [
    "# topics = [\"Breakfast is typically the first meal of a day, most often eaten in the early morning before undertaking the day's work.[1] The word in English refers to breaking the fasting period of the prior night.[2] There is a strong tendency for one or more 'typical', or 'traditional', breakfast menus to exist in most places, but the composition of this varies widely from place to place, and has varied over time, so that globally a very wide range of preparations and ingredients are now associated with breakfast.\"]"
   ]
  },
  {
   "cell_type": "code",
   "execution_count": null,
   "metadata": {},
   "outputs": [],
   "source": []
  },
  {
   "cell_type": "code",
   "execution_count": 17,
   "metadata": {},
   "outputs": [],
   "source": [
    "from gensim.utils import simple_preprocess"
   ]
  },
  {
   "cell_type": "code",
   "execution_count": 26,
   "metadata": {},
   "outputs": [
    {
     "data": {
      "text/plain": [
       "['amazon',\n",
       " 'com',\n",
       " 'inc',\n",
       " 'said',\n",
       " 'on',\n",
       " 'tuesday',\n",
       " 'it',\n",
       " 'would',\n",
       " 'raise',\n",
       " 'its',\n",
       " 'minimum',\n",
       " 'wage',\n",
       " 'to',\n",
       " 'per',\n",
       " 'hour',\n",
       " 'for',\n",
       " 'employees',\n",
       " 'from',\n",
       " 'next',\n",
       " 'month',\n",
       " 'giving',\n",
       " 'ground',\n",
       " 'to',\n",
       " 'critics',\n",
       " 'of',\n",
       " 'poor',\n",
       " 'pay',\n",
       " 'and',\n",
       " 'working',\n",
       " 'conditions',\n",
       " 'at',\n",
       " 'the',\n",
       " 'world',\n",
       " 'second',\n",
       " 'most',\n",
       " 'valuable',\n",
       " 'company']"
      ]
     },
     "execution_count": 26,
     "metadata": {},
     "output_type": "execute_result"
    }
   ],
   "source": [
    "simple_preprocess(topics[2])"
   ]
  },
  {
   "cell_type": "code",
   "execution_count": 19,
   "metadata": {},
   "outputs": [],
   "source": [
    "model = gensim.models.Doc2Vec.load('models/simple_wiki_chunked_word_limited_doc2vec_300_vector_10_min_word_epoch_770')\n"
   ]
  },
  {
   "cell_type": "code",
   "execution_count": 20,
   "metadata": {},
   "outputs": [
    {
     "name": "stderr",
     "output_type": "stream",
     "text": [
      "/home/wmvoje/anaconda3/lib/python3.6/site-packages/gensim/matutils.py:737: FutureWarning: Conversion of the second argument of issubdtype from `int` to `np.signedinteger` is deprecated. In future, it will be treated as `np.int64 == np.dtype(int).type`.\n",
      "  if np.issubdtype(vec.dtype, np.int):\n"
     ]
    },
    {
     "data": {
      "text/plain": [
       "[(68117, 0.33887067437171936),\n",
       " (65584, 0.30545514822006226),\n",
       " (21819, 0.30079221725463867),\n",
       " (25688, 0.29926803708076477),\n",
       " (61617, 0.29873985052108765),\n",
       " (36396, 0.29786285758018494),\n",
       " (48636, 0.29580384492874146),\n",
       " (21846, 0.29414331912994385),\n",
       " (21831, 0.287744402885437),\n",
       " (21525, 0.2833746671676636)]"
      ]
     },
     "execution_count": 20,
     "metadata": {},
     "output_type": "execute_result"
    }
   ],
   "source": [
    "vector = model.infer_vector(simple_preprocess(topics[2]), epochs=2000)\n",
    "model.docvecs.most_similar([vector])"
   ]
  },
  {
   "cell_type": "code",
   "execution_count": 27,
   "metadata": {},
   "outputs": [
    {
     "name": "stderr",
     "output_type": "stream",
     "text": [
      "/home/wmvoje/anaconda3/lib/python3.6/site-packages/gensim/matutils.py:737: FutureWarning: Conversion of the second argument of issubdtype from `int` to `np.signedinteger` is deprecated. In future, it will be treated as `np.int64 == np.dtype(int).type`.\n",
      "  if np.issubdtype(vec.dtype, np.int):\n"
     ]
    },
    {
     "data": {
      "text/plain": [
       "[(1, 0.8489087224006653),\n",
       " (417, 0.48484891653060913),\n",
       " (636, 0.4844936728477478),\n",
       " (362, 0.4770244359970093),\n",
       " (360, 0.4720984995365143),\n",
       " (521, 0.45553529262542725),\n",
       " (361, 0.45523908734321594),\n",
       " (520, 0.4535221755504608),\n",
       " (0, 0.4504185616970062),\n",
       " (500, 0.4459006190299988)]"
      ]
     },
     "execution_count": 27,
     "metadata": {},
     "output_type": "execute_result"
    }
   ],
   "source": [
    "vector = model.infer_vector(test_corpus[1], epochs=2000)\n",
    "model.docvecs.most_similar([vector])\n",
    "\n"
   ]
  },
  {
   "cell_type": "code",
   "execution_count": 29,
   "metadata": {},
   "outputs": [
    {
     "data": {
      "text/plain": [
       "['in',\n",
       " 'the',\n",
       " 'old',\n",
       " 'roman',\n",
       " 'calendar',\n",
       " 'september',\n",
       " 'was',\n",
       " 'the',\n",
       " 'seven',\n",
       " 'seventh',\n",
       " 'month',\n",
       " 'which',\n",
       " 'is',\n",
       " 'where',\n",
       " 'it',\n",
       " 'got',\n",
       " 'its',\n",
       " 'name',\n",
       " 'with',\n",
       " 'julius',\n",
       " 'caesar',\n",
       " 'calendar',\n",
       " 'reform',\n",
       " 'september',\n",
       " 'became',\n",
       " 'the',\n",
       " 'ninth',\n",
       " 'month',\n",
       " 'with',\n",
       " 'days',\n",
       " 'september',\n",
       " 'comes',\n",
       " 'after',\n",
       " 'august',\n",
       " 'and',\n",
       " 'before',\n",
       " 'october',\n",
       " 'september',\n",
       " 'begins',\n",
       " 'on',\n",
       " 'the',\n",
       " 'same',\n",
       " 'day',\n",
       " 'of',\n",
       " 'week',\n",
       " 'as',\n",
       " 'december',\n",
       " 'every',\n",
       " 'year',\n",
       " 'as',\n",
       " 'each',\n",
       " 'others',\n",
       " 'first',\n",
       " 'days',\n",
       " 'are',\n",
       " 'weeks',\n",
       " 'apart',\n",
       " 'no',\n",
       " 'other',\n",
       " 'month',\n",
       " 'in',\n",
       " 'any',\n",
       " 'year',\n",
       " 'common',\n",
       " 'year',\n",
       " 'common',\n",
       " 'or',\n",
       " 'leap',\n",
       " 'year',\n",
       " 'ends',\n",
       " 'on',\n",
       " 'the',\n",
       " 'same',\n",
       " 'day',\n",
       " 'of',\n",
       " 'the',\n",
       " 'week',\n",
       " 'as',\n",
       " 'september',\n",
       " 'in',\n",
       " 'common',\n",
       " 'years',\n",
       " 'september',\n",
       " 'starts',\n",
       " 'on',\n",
       " 'the',\n",
       " 'same',\n",
       " 'day',\n",
       " 'of',\n",
       " 'the',\n",
       " 'week',\n",
       " 'as',\n",
       " 'april',\n",
       " 'and',\n",
       " 'july',\n",
       " 'of',\n",
       " 'the',\n",
       " 'previous',\n",
       " 'year',\n",
       " 'and',\n",
       " 'in',\n",
       " 'leap',\n",
       " 'years',\n",
       " 'october',\n",
       " 'of',\n",
       " 'the',\n",
       " 'previous',\n",
       " 'year',\n",
       " 'in',\n",
       " 'common',\n",
       " 'years',\n",
       " 'september',\n",
       " 'finishes',\n",
       " 'on',\n",
       " 'the',\n",
       " 'same',\n",
       " 'day',\n",
       " 'of',\n",
       " 'the',\n",
       " 'week',\n",
       " 'as',\n",
       " 'april',\n",
       " 'and',\n",
       " 'december',\n",
       " 'of',\n",
       " 'the',\n",
       " 'previous',\n",
       " 'year',\n",
       " 'and',\n",
       " 'in',\n",
       " 'leap',\n",
       " 'years',\n",
       " 'july',\n",
       " 'of',\n",
       " 'the',\n",
       " 'previous',\n",
       " 'year',\n",
       " 'in',\n",
       " 'leap',\n",
       " 'years',\n",
       " 'and',\n",
       " 'years',\n",
       " 'immediately',\n",
       " 'after',\n",
       " 'that',\n",
       " 'september',\n",
       " 'starts',\n",
       " 'on',\n",
       " 'the',\n",
       " 'same',\n",
       " 'day',\n",
       " 'of',\n",
       " 'the',\n",
       " 'week',\n",
       " 'as',\n",
       " 'january',\n",
       " 'of',\n",
       " 'the',\n",
       " 'previous',\n",
       " 'year',\n",
       " 'in',\n",
       " 'years',\n",
       " 'immediately',\n",
       " 'before',\n",
       " 'common',\n",
       " 'years',\n",
       " 'september',\n",
       " 'starts',\n",
       " 'on',\n",
       " 'the',\n",
       " 'same',\n",
       " 'day',\n",
       " 'of',\n",
       " 'the',\n",
       " 'week',\n",
       " 'as',\n",
       " 'june',\n",
       " 'of',\n",
       " 'the',\n",
       " 'following',\n",
       " 'year',\n",
       " 'and',\n",
       " 'in',\n",
       " 'years',\n",
       " 'immediately',\n",
       " 'before',\n",
       " 'leap',\n",
       " 'years',\n",
       " 'march',\n",
       " 'and',\n",
       " 'november',\n",
       " 'of',\n",
       " 'the',\n",
       " 'following',\n",
       " 'year',\n",
       " 'in',\n",
       " 'years',\n",
       " 'immediately',\n",
       " 'before',\n",
       " 'common',\n",
       " 'years',\n",
       " 'september',\n",
       " 'finishes',\n",
       " 'on',\n",
       " 'the',\n",
       " 'same',\n",
       " 'day',\n",
       " 'of',\n",
       " 'the',\n",
       " 'week',\n",
       " 'as',\n",
       " 'march',\n",
       " 'and',\n",
       " 'june',\n",
       " 'of',\n",
       " 'the',\n",
       " 'following',\n",
       " 'year',\n",
       " 'and',\n",
       " 'in',\n",
       " 'years',\n",
       " 'immediately',\n",
       " 'before',\n",
       " 'leap',\n",
       " 'years',\n",
       " 'august',\n",
       " 'and',\n",
       " 'november',\n",
       " 'of',\n",
       " 'the',\n",
       " 'following',\n",
       " 'year',\n",
       " 'september',\n",
       " 'is',\n",
       " 'one',\n",
       " 'of',\n",
       " 'two',\n",
       " 'months',\n",
       " 'to',\n",
       " 'have',\n",
       " 'an',\n",
       " 'equinox',\n",
       " 'begins',\n",
       " 'in',\n",
       " 'this',\n",
       " 'month',\n",
       " 'while',\n",
       " 'in',\n",
       " 'the',\n",
       " 'southern',\n",
       " 'hemisphere',\n",
       " 'this',\n",
       " 'is',\n",
       " 'the',\n",
       " 'beginning',\n",
       " 'of',\n",
       " 'spring',\n",
       " 'for',\n",
       " 'meteorology',\n",
       " 'meteorologists',\n",
       " 'the',\n",
       " 'people',\n",
       " 'who',\n",
       " 'study',\n",
       " 'the',\n",
       " 'weather',\n",
       " 'these',\n",
       " 'seasons',\n",
       " 'begin',\n",
       " 'on',\n",
       " 'september',\n",
       " 'in',\n",
       " 'those',\n",
       " 'hemisphere',\n",
       " 'in',\n",
       " 'most',\n",
       " 'northern',\n",
       " 'hemisphere',\n",
       " 'countries',\n",
       " 'school',\n",
       " 'starts',\n",
       " 'in',\n",
       " 'this',\n",
       " 'month',\n",
       " 'following',\n",
       " 'the',\n",
       " 'summer',\n",
       " 'holidays',\n",
       " 'in',\n",
       " 'ancient',\n",
       " 'greece',\n",
       " 'september',\n",
       " 'was',\n",
       " 'called',\n",
       " 'boedromion',\n",
       " 'the',\n",
       " 'anglo',\n",
       " 'saxons',\n",
       " 'called',\n",
       " 'it',\n",
       " 'gerstmonath',\n",
       " 'meaning',\n",
       " 'barley',\n",
       " 'month',\n",
       " 'referring',\n",
       " 'to',\n",
       " 'the',\n",
       " 'harvest',\n",
       " 'in',\n",
       " 'other',\n",
       " 'countries',\n",
       " 'it',\n",
       " 'is',\n",
       " 'referred',\n",
       " 'to',\n",
       " 'as',\n",
       " 'autumn',\n",
       " 'month',\n",
       " 'such',\n",
       " 'as',\n",
       " 'in',\n",
       " 'finland',\n",
       " 'ethiopia',\n",
       " 'new',\n",
       " 'year',\n",
       " 'occurs',\n",
       " 'in',\n",
       " 'september',\n",
       " 'judaism',\n",
       " 'jewish',\n",
       " 'new',\n",
       " 'year',\n",
       " 'also',\n",
       " 'often',\n",
       " 'occurs',\n",
       " 'in',\n",
       " 'this',\n",
       " 'month']"
      ]
     },
     "execution_count": 29,
     "metadata": {},
     "output_type": "execute_result"
    }
   ],
   "source": [
    "test_corpus[636]"
   ]
  },
  {
   "cell_type": "code",
   "execution_count": null,
   "metadata": {},
   "outputs": [],
   "source": []
  },
  {
   "cell_type": "code",
   "execution_count": 19,
   "metadata": {},
   "outputs": [],
   "source": [
    "model = gensim.models.Doc2Vec.load('models/simple_wiki_chunked_doc2vec_50_vector_10_min_word')"
   ]
  },
  {
   "cell_type": "code",
   "execution_count": 240,
   "metadata": {},
   "outputs": [],
   "source": [
    "from itertools import combinations\n",
    "from sklearn.metrics.pairwise import cosine_similarity\n",
    "import seaborn as sns\n",
    "%matplotlib inline"
   ]
  },
  {
   "cell_type": "code",
   "execution_count": 248,
   "metadata": {},
   "outputs": [],
   "source": [
    "import pandas as pd"
   ]
  },
  {
   "cell_type": "code",
   "execution_count": 287,
   "metadata": {},
   "outputs": [],
   "source": [
    "cosine_data_frame = pd.DataFrame(columns=['vector_size', 'document', 'epochs', 'cosine'])"
   ]
  },
  {
   "cell_type": "code",
   "execution_count": 294,
   "metadata": {},
   "outputs": [],
   "source": [
    "vector_sizes = [50, 100, 150, 200, 250]\n",
    "vector_sizes.extend([25, 75, 125, 175, 225])\n",
    "\n",
    "dataframe_index = 0\n",
    "for vector_size in vector_sizes:\n",
    "    \n",
    "    model = gensim.models.Doc2Vec.load('models/simple_wiki_chunked_doc2vec_'+str(vector_size)+'_vector_10_min_word')\n",
    "    for epochs in [200]:\n",
    "        for topic_index, topic in enumerate([topics[0]]):\n",
    "            list_of_arrays = []\n",
    "            for i in range(10):\n",
    "                list_of_arrays.append(model.infer_vector(simple_preprocess(topic), epochs=epochs))\n",
    "            for vec1, vec2 in combinations(list_of_arrays, 2):\n",
    "#                 cosine_numbers.append(cosine_similarity([vec1], [vec2]))\n",
    "                cosine_data_frame.loc[dataframe_index] = [vector_size, topic_index, epochs, cosine_similarity([vec1], [vec2])]\n",
    "                dataframe_index += 1"
   ]
  },
  {
   "cell_type": "code",
   "execution_count": 295,
   "metadata": {},
   "outputs": [],
   "source": [
    "cosine_data_frame.cosine = cosine_data_frame.cosine.apply(lambda x: float(x))"
   ]
  },
  {
   "cell_type": "code",
   "execution_count": 296,
   "metadata": {},
   "outputs": [
    {
     "data": {
      "text/plain": [
       "<matplotlib.axes._subplots.AxesSubplot at 0x7f89359a9a90>"
      ]
     },
     "execution_count": 296,
     "metadata": {},
     "output_type": "execute_result"
    },
    {
     "data": {
      "image/png": "[encoded data removed]",
      "text/plain": [
       "<Figure size 432x288 with 1 Axes>"
      ]
     },
     "metadata": {},
     "output_type": "display_data"
    }
   ],
   "source": [
    "sns.boxplot(x='vector_size', hue='epochs', y='cosine', data=cosine_data_frame)"
   ]
  },
  {
   "cell_type": "code",
   "execution_count": 257,
   "metadata": {},
   "outputs": [
    {
     "data": {
      "text/html": [
       "<div>\n",
       "<style scoped>\n",
       "    .dataframe tbody tr th:only-of-type {\n",
       "        vertical-align: middle;\n",
       "    }\n",
       "\n",
       "    .dataframe tbody tr th {\n",
       "        vertical-align: top;\n",
       "    }\n",
       "\n",
       "    .dataframe thead th {\n",
       "        text-align: right;\n",
       "    }\n",
       "</style>\n",
       "<table border=\"1\" class=\"dataframe\">\n",
       "  <thead>\n",
       "    <tr style=\"text-align: right;\">\n",
       "      <th></th>\n",
       "      <th>vector_size</th>\n",
       "      <th>document</th>\n",
       "      <th>epochs</th>\n",
       "      <th>cosine</th>\n",
       "    </tr>\n",
       "  </thead>\n",
       "  <tbody>\n",
       "    <tr>\n",
       "      <th>0</th>\n",
       "      <td>50</td>\n",
       "      <td>0</td>\n",
       "      <td>10</td>\n",
       "      <td>[[0.9676578]]</td>\n",
       "    </tr>\n",
       "    <tr>\n",
       "      <th>1</th>\n",
       "      <td>50</td>\n",
       "      <td>0</td>\n",
       "      <td>10</td>\n",
       "      <td>[[0.97010106]]</td>\n",
       "    </tr>\n",
       "    <tr>\n",
       "      <th>2</th>\n",
       "      <td>50</td>\n",
       "      <td>0</td>\n",
       "      <td>10</td>\n",
       "      <td>[[0.9720862]]</td>\n",
       "    </tr>\n",
       "    <tr>\n",
       "      <th>3</th>\n",
       "      <td>50</td>\n",
       "      <td>0</td>\n",
       "      <td>10</td>\n",
       "      <td>[[0.9712106]]</td>\n",
       "    </tr>\n",
       "    <tr>\n",
       "      <th>4</th>\n",
       "      <td>50</td>\n",
       "      <td>0</td>\n",
       "      <td>10</td>\n",
       "      <td>[[0.9738838]]</td>\n",
       "    </tr>\n",
       "    <tr>\n",
       "      <th>5</th>\n",
       "      <td>50</td>\n",
       "      <td>0</td>\n",
       "      <td>10</td>\n",
       "      <td>[[0.96770406]]</td>\n",
       "    </tr>\n",
       "    <tr>\n",
       "      <th>6</th>\n",
       "      <td>50</td>\n",
       "      <td>0</td>\n",
       "      <td>10</td>\n",
       "      <td>[[0.9664415]]</td>\n",
       "    </tr>\n",
       "    <tr>\n",
       "      <th>7</th>\n",
       "      <td>50</td>\n",
       "      <td>0</td>\n",
       "      <td>10</td>\n",
       "      <td>[[0.9612445]]</td>\n",
       "    </tr>\n",
       "    <tr>\n",
       "      <th>8</th>\n",
       "      <td>50</td>\n",
       "      <td>0</td>\n",
       "      <td>10</td>\n",
       "      <td>[[0.96032673]]</td>\n",
       "    </tr>\n",
       "    <tr>\n",
       "      <th>9</th>\n",
       "      <td>50</td>\n",
       "      <td>0</td>\n",
       "      <td>10</td>\n",
       "      <td>[[0.9663466]]</td>\n",
       "    </tr>\n",
       "    <tr>\n",
       "      <th>10</th>\n",
       "      <td>50</td>\n",
       "      <td>0</td>\n",
       "      <td>10</td>\n",
       "      <td>[[0.96932477]]</td>\n",
       "    </tr>\n",
       "    <tr>\n",
       "      <th>11</th>\n",
       "      <td>50</td>\n",
       "      <td>0</td>\n",
       "      <td>10</td>\n",
       "      <td>[[0.97509044]]</td>\n",
       "    </tr>\n",
       "    <tr>\n",
       "      <th>12</th>\n",
       "      <td>50</td>\n",
       "      <td>0</td>\n",
       "      <td>10</td>\n",
       "      <td>[[0.9729752]]</td>\n",
       "    </tr>\n",
       "    <tr>\n",
       "      <th>13</th>\n",
       "      <td>50</td>\n",
       "      <td>0</td>\n",
       "      <td>10</td>\n",
       "      <td>[[0.9642773]]</td>\n",
       "    </tr>\n",
       "    <tr>\n",
       "      <th>14</th>\n",
       "      <td>50</td>\n",
       "      <td>0</td>\n",
       "      <td>10</td>\n",
       "      <td>[[0.95514864]]</td>\n",
       "    </tr>\n",
       "    <tr>\n",
       "      <th>15</th>\n",
       "      <td>50</td>\n",
       "      <td>0</td>\n",
       "      <td>10</td>\n",
       "      <td>[[0.967396]]</td>\n",
       "    </tr>\n",
       "    <tr>\n",
       "      <th>16</th>\n",
       "      <td>50</td>\n",
       "      <td>0</td>\n",
       "      <td>10</td>\n",
       "      <td>[[0.9544642]]</td>\n",
       "    </tr>\n",
       "    <tr>\n",
       "      <th>17</th>\n",
       "      <td>50</td>\n",
       "      <td>0</td>\n",
       "      <td>10</td>\n",
       "      <td>[[0.9584617]]</td>\n",
       "    </tr>\n",
       "    <tr>\n",
       "      <th>18</th>\n",
       "      <td>50</td>\n",
       "      <td>0</td>\n",
       "      <td>10</td>\n",
       "      <td>[[0.96281177]]</td>\n",
       "    </tr>\n",
       "    <tr>\n",
       "      <th>19</th>\n",
       "      <td>50</td>\n",
       "      <td>0</td>\n",
       "      <td>10</td>\n",
       "      <td>[[0.97025645]]</td>\n",
       "    </tr>\n",
       "    <tr>\n",
       "      <th>20</th>\n",
       "      <td>50</td>\n",
       "      <td>0</td>\n",
       "      <td>10</td>\n",
       "      <td>[[0.9671622]]</td>\n",
       "    </tr>\n",
       "    <tr>\n",
       "      <th>21</th>\n",
       "      <td>50</td>\n",
       "      <td>0</td>\n",
       "      <td>10</td>\n",
       "      <td>[[0.9676101]]</td>\n",
       "    </tr>\n",
       "    <tr>\n",
       "      <th>22</th>\n",
       "      <td>50</td>\n",
       "      <td>0</td>\n",
       "      <td>10</td>\n",
       "      <td>[[0.9788182]]</td>\n",
       "    </tr>\n",
       "    <tr>\n",
       "      <th>23</th>\n",
       "      <td>50</td>\n",
       "      <td>0</td>\n",
       "      <td>10</td>\n",
       "      <td>[[0.97037554]]</td>\n",
       "    </tr>\n",
       "    <tr>\n",
       "      <th>24</th>\n",
       "      <td>50</td>\n",
       "      <td>0</td>\n",
       "      <td>10</td>\n",
       "      <td>[[0.9597223]]</td>\n",
       "    </tr>\n",
       "    <tr>\n",
       "      <th>25</th>\n",
       "      <td>50</td>\n",
       "      <td>0</td>\n",
       "      <td>10</td>\n",
       "      <td>[[0.95989996]]</td>\n",
       "    </tr>\n",
       "    <tr>\n",
       "      <th>26</th>\n",
       "      <td>50</td>\n",
       "      <td>0</td>\n",
       "      <td>10</td>\n",
       "      <td>[[0.9524181]]</td>\n",
       "    </tr>\n",
       "    <tr>\n",
       "      <th>27</th>\n",
       "      <td>50</td>\n",
       "      <td>0</td>\n",
       "      <td>10</td>\n",
       "      <td>[[0.969903]]</td>\n",
       "    </tr>\n",
       "    <tr>\n",
       "      <th>28</th>\n",
       "      <td>50</td>\n",
       "      <td>0</td>\n",
       "      <td>10</td>\n",
       "      <td>[[0.9657442]]</td>\n",
       "    </tr>\n",
       "    <tr>\n",
       "      <th>29</th>\n",
       "      <td>50</td>\n",
       "      <td>0</td>\n",
       "      <td>10</td>\n",
       "      <td>[[0.9679167]]</td>\n",
       "    </tr>\n",
       "    <tr>\n",
       "      <th>...</th>\n",
       "      <td>...</td>\n",
       "      <td>...</td>\n",
       "      <td>...</td>\n",
       "      <td>...</td>\n",
       "    </tr>\n",
       "    <tr>\n",
       "      <th>24448</th>\n",
       "      <td>175</td>\n",
       "      <td>0</td>\n",
       "      <td>10</td>\n",
       "      <td>[[0.96123576]]</td>\n",
       "    </tr>\n",
       "    <tr>\n",
       "      <th>24449</th>\n",
       "      <td>175</td>\n",
       "      <td>0</td>\n",
       "      <td>10</td>\n",
       "      <td>[[0.9582856]]</td>\n",
       "    </tr>\n",
       "    <tr>\n",
       "      <th>24450</th>\n",
       "      <td>175</td>\n",
       "      <td>0</td>\n",
       "      <td>10</td>\n",
       "      <td>[[0.95289165]]</td>\n",
       "    </tr>\n",
       "    <tr>\n",
       "      <th>24451</th>\n",
       "      <td>175</td>\n",
       "      <td>0</td>\n",
       "      <td>10</td>\n",
       "      <td>[[0.9612961]]</td>\n",
       "    </tr>\n",
       "    <tr>\n",
       "      <th>24452</th>\n",
       "      <td>175</td>\n",
       "      <td>0</td>\n",
       "      <td>10</td>\n",
       "      <td>[[0.9541857]]</td>\n",
       "    </tr>\n",
       "    <tr>\n",
       "      <th>24453</th>\n",
       "      <td>175</td>\n",
       "      <td>0</td>\n",
       "      <td>10</td>\n",
       "      <td>[[0.9566215]]</td>\n",
       "    </tr>\n",
       "    <tr>\n",
       "      <th>24454</th>\n",
       "      <td>175</td>\n",
       "      <td>0</td>\n",
       "      <td>10</td>\n",
       "      <td>[[0.9697367]]</td>\n",
       "    </tr>\n",
       "    <tr>\n",
       "      <th>24455</th>\n",
       "      <td>175</td>\n",
       "      <td>0</td>\n",
       "      <td>10</td>\n",
       "      <td>[[0.95259625]]</td>\n",
       "    </tr>\n",
       "    <tr>\n",
       "      <th>24456</th>\n",
       "      <td>175</td>\n",
       "      <td>0</td>\n",
       "      <td>10</td>\n",
       "      <td>[[0.9363351]]</td>\n",
       "    </tr>\n",
       "    <tr>\n",
       "      <th>24457</th>\n",
       "      <td>175</td>\n",
       "      <td>0</td>\n",
       "      <td>10</td>\n",
       "      <td>[[0.9540194]]</td>\n",
       "    </tr>\n",
       "    <tr>\n",
       "      <th>24458</th>\n",
       "      <td>175</td>\n",
       "      <td>0</td>\n",
       "      <td>10</td>\n",
       "      <td>[[0.9431631]]</td>\n",
       "    </tr>\n",
       "    <tr>\n",
       "      <th>24459</th>\n",
       "      <td>175</td>\n",
       "      <td>0</td>\n",
       "      <td>10</td>\n",
       "      <td>[[0.9541367]]</td>\n",
       "    </tr>\n",
       "    <tr>\n",
       "      <th>24460</th>\n",
       "      <td>175</td>\n",
       "      <td>0</td>\n",
       "      <td>10</td>\n",
       "      <td>[[0.9511385]]</td>\n",
       "    </tr>\n",
       "    <tr>\n",
       "      <th>24461</th>\n",
       "      <td>175</td>\n",
       "      <td>0</td>\n",
       "      <td>10</td>\n",
       "      <td>[[0.95237255]]</td>\n",
       "    </tr>\n",
       "    <tr>\n",
       "      <th>24462</th>\n",
       "      <td>175</td>\n",
       "      <td>0</td>\n",
       "      <td>10</td>\n",
       "      <td>[[0.9393095]]</td>\n",
       "    </tr>\n",
       "    <tr>\n",
       "      <th>24463</th>\n",
       "      <td>175</td>\n",
       "      <td>0</td>\n",
       "      <td>10</td>\n",
       "      <td>[[0.93829894]]</td>\n",
       "    </tr>\n",
       "    <tr>\n",
       "      <th>24464</th>\n",
       "      <td>175</td>\n",
       "      <td>0</td>\n",
       "      <td>10</td>\n",
       "      <td>[[0.95125353]]</td>\n",
       "    </tr>\n",
       "    <tr>\n",
       "      <th>24465</th>\n",
       "      <td>175</td>\n",
       "      <td>0</td>\n",
       "      <td>10</td>\n",
       "      <td>[[0.9604613]]</td>\n",
       "    </tr>\n",
       "    <tr>\n",
       "      <th>24466</th>\n",
       "      <td>175</td>\n",
       "      <td>0</td>\n",
       "      <td>10</td>\n",
       "      <td>[[0.9673542]]</td>\n",
       "    </tr>\n",
       "    <tr>\n",
       "      <th>24467</th>\n",
       "      <td>175</td>\n",
       "      <td>0</td>\n",
       "      <td>10</td>\n",
       "      <td>[[0.97817266]]</td>\n",
       "    </tr>\n",
       "    <tr>\n",
       "      <th>24468</th>\n",
       "      <td>175</td>\n",
       "      <td>0</td>\n",
       "      <td>10</td>\n",
       "      <td>[[0.96170515]]</td>\n",
       "    </tr>\n",
       "    <tr>\n",
       "      <th>24469</th>\n",
       "      <td>175</td>\n",
       "      <td>0</td>\n",
       "      <td>10</td>\n",
       "      <td>[[0.9592644]]</td>\n",
       "    </tr>\n",
       "    <tr>\n",
       "      <th>24470</th>\n",
       "      <td>175</td>\n",
       "      <td>0</td>\n",
       "      <td>10</td>\n",
       "      <td>[[0.9611059]]</td>\n",
       "    </tr>\n",
       "    <tr>\n",
       "      <th>24471</th>\n",
       "      <td>175</td>\n",
       "      <td>0</td>\n",
       "      <td>10</td>\n",
       "      <td>[[0.9369353]]</td>\n",
       "    </tr>\n",
       "    <tr>\n",
       "      <th>24472</th>\n",
       "      <td>175</td>\n",
       "      <td>0</td>\n",
       "      <td>10</td>\n",
       "      <td>[[0.95170593]]</td>\n",
       "    </tr>\n",
       "    <tr>\n",
       "      <th>24473</th>\n",
       "      <td>175</td>\n",
       "      <td>0</td>\n",
       "      <td>10</td>\n",
       "      <td>[[0.96688247]]</td>\n",
       "    </tr>\n",
       "    <tr>\n",
       "      <th>24474</th>\n",
       "      <td>175</td>\n",
       "      <td>0</td>\n",
       "      <td>10</td>\n",
       "      <td>[[0.9572675]]</td>\n",
       "    </tr>\n",
       "    <tr>\n",
       "      <th>24475</th>\n",
       "      <td>175</td>\n",
       "      <td>0</td>\n",
       "      <td>10</td>\n",
       "      <td>[[0.9541806]]</td>\n",
       "    </tr>\n",
       "    <tr>\n",
       "      <th>24476</th>\n",
       "      <td>175</td>\n",
       "      <td>0</td>\n",
       "      <td>10</td>\n",
       "      <td>[[0.95458376]]</td>\n",
       "    </tr>\n",
       "    <tr>\n",
       "      <th>24477</th>\n",
       "      <td>175</td>\n",
       "      <td>0</td>\n",
       "      <td>10</td>\n",
       "      <td>[[0.9571398]]</td>\n",
       "    </tr>\n",
       "  </tbody>\n",
       "</table>\n",
       "<p>24478 rows × 4 columns</p>\n",
       "</div>"
      ],
      "text/plain": [
       "      vector_size document epochs          cosine\n",
       "0              50        0     10   [[0.9676578]]\n",
       "1              50        0     10  [[0.97010106]]\n",
       "2              50        0     10   [[0.9720862]]\n",
       "3              50        0     10   [[0.9712106]]\n",
       "4              50        0     10   [[0.9738838]]\n",
       "5              50        0     10  [[0.96770406]]\n",
       "6              50        0     10   [[0.9664415]]\n",
       "7              50        0     10   [[0.9612445]]\n",
       "8              50        0     10  [[0.96032673]]\n",
       "9              50        0     10   [[0.9663466]]\n",
       "10             50        0     10  [[0.96932477]]\n",
       "11             50        0     10  [[0.97509044]]\n",
       "12             50        0     10   [[0.9729752]]\n",
       "13             50        0     10   [[0.9642773]]\n",
       "14             50        0     10  [[0.95514864]]\n",
       "15             50        0     10    [[0.967396]]\n",
       "16             50        0     10   [[0.9544642]]\n",
       "17             50        0     10   [[0.9584617]]\n",
       "18             50        0     10  [[0.96281177]]\n",
       "19             50        0     10  [[0.97025645]]\n",
       "20             50        0     10   [[0.9671622]]\n",
       "21             50        0     10   [[0.9676101]]\n",
       "22             50        0     10   [[0.9788182]]\n",
       "23             50        0     10  [[0.97037554]]\n",
       "24             50        0     10   [[0.9597223]]\n",
       "25             50        0     10  [[0.95989996]]\n",
       "26             50        0     10   [[0.9524181]]\n",
       "27             50        0     10    [[0.969903]]\n",
       "28             50        0     10   [[0.9657442]]\n",
       "29             50        0     10   [[0.9679167]]\n",
       "...           ...      ...    ...             ...\n",
       "24448         175        0     10  [[0.96123576]]\n",
       "24449         175        0     10   [[0.9582856]]\n",
       "24450         175        0     10  [[0.95289165]]\n",
       "24451         175        0     10   [[0.9612961]]\n",
       "24452         175        0     10   [[0.9541857]]\n",
       "24453         175        0     10   [[0.9566215]]\n",
       "24454         175        0     10   [[0.9697367]]\n",
       "24455         175        0     10  [[0.95259625]]\n",
       "24456         175        0     10   [[0.9363351]]\n",
       "24457         175        0     10   [[0.9540194]]\n",
       "24458         175        0     10   [[0.9431631]]\n",
       "24459         175        0     10   [[0.9541367]]\n",
       "24460         175        0     10   [[0.9511385]]\n",
       "24461         175        0     10  [[0.95237255]]\n",
       "24462         175        0     10   [[0.9393095]]\n",
       "24463         175        0     10  [[0.93829894]]\n",
       "24464         175        0     10  [[0.95125353]]\n",
       "24465         175        0     10   [[0.9604613]]\n",
       "24466         175        0     10   [[0.9673542]]\n",
       "24467         175        0     10  [[0.97817266]]\n",
       "24468         175        0     10  [[0.96170515]]\n",
       "24469         175        0     10   [[0.9592644]]\n",
       "24470         175        0     10   [[0.9611059]]\n",
       "24471         175        0     10   [[0.9369353]]\n",
       "24472         175        0     10  [[0.95170593]]\n",
       "24473         175        0     10  [[0.96688247]]\n",
       "24474         175        0     10   [[0.9572675]]\n",
       "24475         175        0     10   [[0.9541806]]\n",
       "24476         175        0     10  [[0.95458376]]\n",
       "24477         175        0     10   [[0.9571398]]\n",
       "\n",
       "[24478 rows x 4 columns]"
      ]
     },
     "execution_count": 257,
     "metadata": {},
     "output_type": "execute_result"
    }
   ],
   "source": []
  },
  {
   "cell_type": "code",
   "execution_count": null,
   "metadata": {},
   "outputs": [],
   "source": []
  },
  {
   "cell_type": "code",
   "execution_count": 247,
   "metadata": {},
   "outputs": [
    {
     "data": {
      "text/plain": [
       "<matplotlib.axes._subplots.AxesSubplot at 0x7f893ea5d278>"
      ]
     },
     "execution_count": 247,
     "metadata": {},
     "output_type": "execute_result"
    },
    {
     "data": {
      "image/png": "[encoded data removed]",
      "text/plain": [
       "<Figure size 432x288 with 1 Axes>"
      ]
     },
     "metadata": {},
     "output_type": "display_data"
    }
   ],
   "source": [
    "list_of_arrays = []\n",
    "\n",
    "for i in range(100):\n",
    "    list_of_arrays.append(model.infer_vector(simple_preprocess(topics[0]), epochs=20))\n",
    "\n",
    "cosine_numbers = []\n",
    "\n",
    "for vec1, vec2 in combinations(list_of_arrays, 2):\n",
    "    cosine_numbers.append(cosine_similarity([vec1], [vec2]))\n",
    "\n",
    "sns.boxplot(cosine_numbers)"
   ]
  },
  {
   "cell_type": "code",
   "execution_count": 243,
   "metadata": {},
   "outputs": [
    {
     "data": {
      "text/plain": [
       "<matplotlib.axes._subplots.AxesSubplot at 0x7f893c1bb588>"
      ]
     },
     "execution_count": 243,
     "metadata": {},
     "output_type": "execute_result"
    },
    {
     "data": {
      "image/png": "[encoded data removed]",
      "text/plain": [
       "<Figure size 432x288 with 1 Axes>"
      ]
     },
     "metadata": {},
     "output_type": "display_data"
    }
   ],
   "source": [
    "list_of_arrays = []\n",
    "\n",
    "for i in range(100):\n",
    "    list_of_arrays.append(model.infer_vector(simple_preprocess(topics[0]), epochs=50))\n",
    "\n",
    "cosine_numbers = []\n",
    "\n",
    "for vec1, vec2 in combinations(list_of_arrays, 2):\n",
    "    cosine_numbers.append(cosine_similarity([vec1], [vec2]))\n",
    "\n",
    "sns.boxplot(cosine_numbers)"
   ]
  },
  {
   "cell_type": "code",
   "execution_count": 244,
   "metadata": {},
   "outputs": [
    {
     "data": {
      "text/plain": [
       "<matplotlib.axes._subplots.AxesSubplot at 0x7f893bebe048>"
      ]
     },
     "execution_count": 244,
     "metadata": {},
     "output_type": "execute_result"
    },
    {
     "data": {
      "image/png": "[encoded data removed]",
      "text/plain": [
       "<Figure size 432x288 with 1 Axes>"
      ]
     },
     "metadata": {},
     "output_type": "display_data"
    }
   ],
   "source": [
    "list_of_arrays = []\n",
    "\n",
    "for i in range(100):\n",
    "    list_of_arrays.append(model.infer_vector(simple_preprocess(topics[0]), epochs=200))\n",
    "\n",
    "cosine_numbers = []\n",
    "\n",
    "for vec1, vec2 in combinations(list_of_arrays, 2):\n",
    "    cosine_numbers.append(cosine_similarity([vec1], [vec2]))\n",
    "\n",
    "sns.boxplot(cosine_numbers)"
   ]
  },
  {
   "cell_type": "code",
   "execution_count": 234,
   "metadata": {},
   "outputs": [
    {
     "data": {
      "text/plain": [
       "[array([-2.1584649e+00, -2.4343686e+00, -6.5632123e-01,  9.6319973e-01,\n",
       "         1.7146591e+00,  1.0006605e+00, -1.7444296e-01,  1.1670431e+00,\n",
       "        -1.7088290e+00,  5.5822247e-01, -9.4999313e-02, -2.0626957e+00,\n",
       "         5.3528875e-01, -1.4526196e+00, -1.8666151e+00,  1.6763594e+00,\n",
       "         1.4133902e+00, -3.3130741e+00,  1.1484070e+00,  2.6769722e-01,\n",
       "        -2.1941266e+00, -2.4711480e+00, -1.6572566e-01,  1.7506654e+00,\n",
       "         2.7367008e-01,  7.5264551e-02,  5.3619987e-01, -2.0927219e+00,\n",
       "         1.9853265e+00, -2.6230881e+00, -1.0135396e+00,  2.1808861e-01,\n",
       "         2.2076702e+00,  1.9031648e-01, -1.7359418e+00,  6.0553414e-01,\n",
       "        -9.7841299e-01, -2.5083795e+00, -2.4846799e+00, -1.5047282e+00,\n",
       "        -2.2461982e+00,  2.8001532e-01,  1.1839809e+00,  7.2766978e-01,\n",
       "         2.6939554e+00,  2.2153552e+00, -2.9866855e+00,  1.1284432e+00,\n",
       "        -2.6358697e-01,  9.0872194e-04], dtype=float32)]"
      ]
     },
     "execution_count": 234,
     "metadata": {},
     "output_type": "execute_result"
    }
   ],
   "source": [
    "[vec2]"
   ]
  },
  {
   "cell_type": "code",
   "execution_count": 58,
   "metadata": {},
   "outputs": [
    {
     "name": "stdout",
     "output_type": "stream",
     "text": [
      "CPU times: user 1h 38min 16s, sys: 1min 51s, total: 1h 40min 7s\n",
      "Wall time: 18h 2min 9s\n"
     ]
    }
   ],
   "source": [
    "%time model.train(train_corpus, total_examples=model.corpus_count, epochs=model.epochs)"
   ]
  },
  {
   "cell_type": "code",
   "execution_count": 7,
   "metadata": {},
   "outputs": [],
   "source": [
    "statement = gensim.utils.simple_preprocess('The domestic cat (Felis silvestris catus or Felis catus)[1][4] is a small, typically furry, carnivorous mammal. They are often called house cats[5] when kept as indoor pets or simply cats when there is no need to distinguish them from other felids and felines. They are often valued by humans for companionship and for their ability to hunt vermin. There are more than seventy cat breeds recognized by various cat registries.')\n",
    "# statement = gensim.utils.simple_preprocess('Bouldering is a form of rock climbing that is performed on small rock formations or artificial rock walls, known as boulders, without the use of ropes or harnesses. While it can be done without any equipment, most climbers use climbing shoes to help secure footholds, chalk to keep their hands dry and provide a firmer grip, and bouldering mats to prevent injuries from falls. Unlike free solo climbing, which is also performed without ropes, bouldering problems (the sequence of moves that a climber performs to complete the climb) are usually less than 6 meters (20 ft.) tall. Traverses, which are a form of boulder problem, require the climber to climb horizontally from one end to another. [1]:3 Artificial climbing walls allow boulderers to train indoors in areas without natural boulders. In addition, Bouldering competitions take place in both indoor and outdoor settings')\n",
    "# statement = gensim.utils.simple_preprocess('Wrestling is a combat sport involving grappling type techniques such as clinch fighting, throws and takedowns, joint locks, pins and other grappling holds. The sport can either be theatrical for entertainment (see professional wrestling), or genuinely competitive. A wrestling bout is a physical competition, between two (occasionally more) competitors or sparring partners, who attempt to gain and maintain a superior position. There are a wide range of styles with varying rules with both traditional historic and modern styles. Wrestling techniques have been incorporated into other martial arts as well as military hand-to-hand combat systems.')\n",
    "test_vector = model.infer_vector(statement)"
   ]
  },
  {
   "cell_type": "code",
   "execution_count": 8,
   "metadata": {},
   "outputs": [
    {
     "name": "stderr",
     "output_type": "stream",
     "text": [
      "/home/wmvoje/anaconda3/lib/python3.6/site-packages/gensim/matutils.py:737: FutureWarning: Conversion of the second argument of issubdtype from `int` to `np.signedinteger` is deprecated. In future, it will be treated as `np.int64 == np.dtype(int).type`.\n",
      "  if np.issubdtype(vec.dtype, np.int):\n"
     ]
    },
    {
     "data": {
      "text/plain": [
       "[(1575, 0.4173692464828491),\n",
       " (37487, 0.3905678391456604),\n",
       " (8789, 0.38529694080352783),\n",
       " (1583, 0.3824729919433594),\n",
       " (1576, 0.3798247277736664),\n",
       " (120619, 0.37349677085876465),\n",
       " (151195, 0.36363717913627625),\n",
       " (130078, 0.36362260580062866),\n",
       " (126420, 0.3605639636516571),\n",
       " (20653, 0.3599125146865845)]"
      ]
     },
     "execution_count": 8,
     "metadata": {},
     "output_type": "execute_result"
    }
   ],
   "source": [
    "model.docvecs.most_similar([test_vector])"
   ]
  },
  {
   "cell_type": "code",
   "execution_count": 13,
   "metadata": {},
   "outputs": [
    {
     "data": {
      "text/plain": [
       "[('cats', 'NNS'),\n",
       " ('called', 'VBD'),\n",
       " ('cats', 'NNS'),\n",
       " ('family', 'NN'),\n",
       " ('cats', 'NNS'),\n",
       " ('domestication', 'VBP'),\n",
       " ('domesticated', 'VBN'),\n",
       " ('years', 'NNS'),\n",
       " ('pet', 'JJ'),\n",
       " ('world', 'NN'),\n",
       " ('origin', 'NN'),\n",
       " ('wildcat', 'NN'),\n",
       " ('cats', 'NNS'),\n",
       " ('kept', 'VBD'),\n",
       " ('mice', 'JJ'),\n",
       " ('job', 'NN'),\n",
       " ('farms', 'NNS'),\n",
       " ('world', 'NN'),\n",
       " ('kept', 'VBD'),\n",
       " ('companions', 'NNS'),\n",
       " ('cat', 'NN'),\n",
       " ('called', 'VBN'),\n",
       " ('cats', 'NNS'),\n",
       " ('called', 'VBD'),\n",
       " ('pussycat', 'NN'),\n",
       " ('cat', 'NN'),\n",
       " ('sex', 'NN'),\n",
       " ('organs', 'NNS'),\n",
       " ('removed', 'VBD'),\n",
       " ('called', 'VBN'),\n",
       " ('male', 'NN'),\n",
       " ('cat', 'NN'),\n",
       " ('sex', 'NN'),\n",
       " ('organs', 'NNS'),\n",
       " ('removed', 'VBD'),\n",
       " ('called', 'VBN'),\n",
       " ('tom', 'NN'),\n",
       " ('cats', 'NNS'),\n",
       " ('found', 'VBD'),\n",
       " ('hairless', 'JJ'),\n",
       " ('breeds', 'NNS'),\n",
       " ('cats', 'NNS'),\n",
       " ('breeds', 'NNS'),\n",
       " ('referred', 'VBD'),\n",
       " ('word', 'NN'),\n",
       " ('cat', 'NN'),\n",
       " ('used', 'VBN'),\n",
       " ('felines', 'NNS'),\n",
       " ('felines', 'NNS'),\n",
       " ('called', 'VBD'),\n",
       " ('either', 'CC'),\n",
       " ('cats', 'NNS'),\n",
       " ('cats', 'NNS'),\n",
       " ('cats', 'NNS'),\n",
       " ('known', 'VBN'),\n",
       " ('lion', 'NN'),\n",
       " ('tiger', 'NN'),\n",
       " ('leopard', 'NN'),\n",
       " ('jaguar', 'NN'),\n",
       " ('puma', 'NN'),\n",
       " ('cheetah', 'NN'),\n",
       " ('cats', 'NNS'),\n",
       " ('parts', 'NNS'),\n",
       " ('world', 'NN'),\n",
       " ('lynx', 'NN'),\n",
       " ('cats', 'NNS'),\n",
       " ('wild', 'VBP'),\n",
       " ('cats', 'NNS'),\n",
       " ('tame', 'VBP'),\n",
       " ('cat', 'JJ'),\n",
       " ('furry', 'NN'),\n",
       " ('mammal', 'JJ'),\n",
       " ('cats', 'NNS'),\n",
       " ('kept', 'VBD'),\n",
       " ('pets', 'NNS')]"
      ]
     },
     "execution_count": 13,
     "metadata": {},
     "output_type": "execute_result"
    }
   ],
   "source": [
    "test = clean(test_corpus[1575])\n",
    "pos_tag(test)"
   ]
  },
  {
   "cell_type": "code",
   "execution_count": 44,
   "metadata": {},
   "outputs": [
    {
     "data": {
      "text/plain": [
       "['bütgenbach',\n",
       " 'or',\n",
       " 'butgenbach',\n",
       " 'is',\n",
       " 'municipality',\n",
       " 'in',\n",
       " 'the',\n",
       " 'belgium',\n",
       " 'belgian',\n",
       " 'province',\n",
       " 'of',\n",
       " 'liège',\n",
       " 'liège',\n",
       " 'in',\n",
       " 'people',\n",
       " 'lived',\n",
       " 'there',\n",
       " 'werkelijke',\n",
       " 'bevolking',\n",
       " 'per',\n",
       " 'gemeente',\n",
       " 'op',\n",
       " 'januari',\n",
       " 'population',\n",
       " 'de',\n",
       " 'droit',\n",
       " 'par',\n",
       " 'commune',\n",
       " 'au',\n",
       " 'janvier',\n",
       " 'it',\n",
       " 'is',\n",
       " 'at',\n",
       " 'north',\n",
       " 'east',\n",
       " 'geografische',\n",
       " 'coördinaten',\n",
       " 'van',\n",
       " 'de',\n",
       " 'gemeenten']"
      ]
     },
     "execution_count": 44,
     "metadata": {},
     "output_type": "execute_result"
    }
   ],
   "source": [
    "test_corpus[46589]"
   ]
  },
  {
   "cell_type": "code",
   "execution_count": 43,
   "metadata": {},
   "outputs": [
    {
     "data": {
      "text/plain": [
       "['büllingen',\n",
       " 'or',\n",
       " 'bullange',\n",
       " 'is',\n",
       " 'municipality',\n",
       " 'in',\n",
       " 'the',\n",
       " 'belgium',\n",
       " 'belgian',\n",
       " 'province',\n",
       " 'of',\n",
       " 'liège',\n",
       " 'liège',\n",
       " 'in',\n",
       " 'people',\n",
       " 'lived',\n",
       " 'there',\n",
       " 'werkelijke',\n",
       " 'bevolking',\n",
       " 'per',\n",
       " 'gemeente',\n",
       " 'op',\n",
       " 'januari',\n",
       " 'population',\n",
       " 'de',\n",
       " 'droit',\n",
       " 'par',\n",
       " 'commune',\n",
       " 'au',\n",
       " 'janvier',\n",
       " 'it',\n",
       " 'is',\n",
       " 'at',\n",
       " 'north',\n",
       " 'east',\n",
       " 'geografische',\n",
       " 'coördinaten',\n",
       " 'van',\n",
       " 'de',\n",
       " 'gemeenten']"
      ]
     },
     "execution_count": 43,
     "metadata": {},
     "output_type": "execute_result"
    }
   ],
   "source": [
    "test_corpus[46586]"
   ]
  },
  {
   "cell_type": "code",
   "execution_count": 1,
   "metadata": {},
   "outputs": [],
   "source": [
    "import pickle as p\n",
    "\n",
    "# with open('models/simple_wiki_chunked_corpus_10_count_cutoff.p', 'wb') as topick:\n",
    "#     p.dump(test_corpus, topick)\n",
    "\n",
    "with open('models/simple_wiki_chunked_corpus_10_count_cutoff.p', 'rb') as unpick:\n",
    "    test_corpus = p.load(unpick)"
   ]
  },
  {
   "cell_type": "code",
   "execution_count": 10,
   "metadata": {},
   "outputs": [],
   "source": [
    "import os\n",
    "import random\n",
    "import codecs\n",
    "from collections import defaultdict\n",
    "\n",
    "from gensim.models.ldamodel import LdaModel as Lda\n",
    "from gensim import corpora\n",
    "from nltk.corpus import stopwords \n",
    "from nltk.stem.porter import PorterStemmer\n",
    "from nltk.stem.wordnet import WordNetLemmatizer\n",
    "from nltk import word_tokenize\n",
    "from nltk import pos_tag\n",
    "\n",
    "import enchant\n",
    "spelling_dict = enchant.Dict(\"en_US\")\n",
    "\n",
    "stop = set(stopwords.words('english'))\n",
    "lemma = WordNetLemmatizer()\n",
    "stemmer = PorterStemmer()\n",
    "\n",
    "stemmed_dict = defaultdict(set)\n",
    "\n",
    "def stem_and_update_stem_dict(tokens):\n",
    "    output_list = []\n",
    "    for token in tokens:\n",
    "        stemmed = stemmer.stem(token)\n",
    "        if stemmed != token:\n",
    "            stemmed_dict[stemmed].add(token)\n",
    "        output_list.append(stemmed)\n",
    "    return output_list\n",
    "        \n",
    "list_of_POS_to_ignore = ['WRB', 'WP$', 'WP',  'WDT', 'UH', \n",
    "                         'TO', 'RP', 'RBS', 'RB', 'RBR', 'PRP$', 'PRP', \n",
    "                        'MD', 'JJS', 'JJR', 'JJ', 'IN', 'FW', 'EX', \n",
    "                         'DT', 'CD']\n",
    "\n",
    "# Function to remove stop words from sentences & lemmatize verbs. \n",
    "def clean(doc):\n",
    "    #removing stop words \n",
    "    tokens = [i for i in doc if i not in stop]\n",
    "    \n",
    "    # removing pos data \n",
    "    tokens = [word for word, pos in pos_tag(tokens) if pos not in list_of_POS_to_ignore]\n",
    "    # Removing improperly spelled words (pronouns must be capitalized to be spelled right)\n",
    "    tokens = [word for word in tokens if spelling_dict.check(word)]\n",
    "    # lowercase\n",
    "    tokens = [word.lower() for word in tokens]\n",
    "    # lemmatized\n",
    "#     tokens = [lemma.lemmatize(word, 'v') for word in tokens]\n",
    "    # removing short words \n",
    "    tokens = [s for s in tokens if len(s) > 2]\n",
    "    # stemmed\n",
    "#     tokens = stem_and_update_stem_dict(tokens)\n",
    "    \n",
    "    return tokens"
   ]
  },
  {
   "cell_type": "code",
   "execution_count": 67,
   "metadata": {},
   "outputs": [],
   "source": [
    "model.save('models/simple_wiki_chunked_doc2vec_200_vector_10_min_word')"
   ]
  },
  {
   "cell_type": "code",
   "execution_count": 297,
   "metadata": {},
   "outputs": [],
   "source": [
    "model = gensim.models.Doc2Vec.load('models/simple_wiki_chunked_doc2vec_300_vector_10_min_word')"
   ]
  },
  {
   "cell_type": "markdown",
   "metadata": {},
   "source": [
    "# Investigating model training"
   ]
  },
  {
   "cell_type": "code",
   "execution_count": 3,
   "metadata": {},
   "outputs": [],
   "source": [
    "import gensim"
   ]
  },
  {
   "cell_type": "code",
   "execution_count": 302,
   "metadata": {},
   "outputs": [],
   "source": [
    "model.workers = 4"
   ]
  },
  {
   "cell_type": "code",
   "execution_count": 303,
   "metadata": {},
   "outputs": [
    {
     "data": {
      "text/plain": [
       "4"
      ]
     },
     "execution_count": 303,
     "metadata": {},
     "output_type": "execute_result"
    }
   ],
   "source": [
    "model.workers"
   ]
  },
  {
   "cell_type": "code",
   "execution_count": 304,
   "metadata": {},
   "outputs": [
    {
     "data": {
      "text/plain": [
       "2444.668396513989"
      ]
     },
     "execution_count": 304,
     "metadata": {},
     "output_type": "execute_result"
    }
   ],
   "source": [
    "model.total_train_time"
   ]
  },
  {
   "cell_type": "code",
   "execution_count": 307,
   "metadata": {},
   "outputs": [
    {
     "name": "stdout",
     "output_type": "stream",
     "text": [
      "CPU times: user 23min 44s, sys: 40.5 s, total: 24min 24s\n",
      "Wall time: 9min 19s\n"
     ]
    }
   ],
   "source": [
    "%time model.train(train_corpus, total_examples=model.corpus_count, epochs=9)"
   ]
  },
  {
   "cell_type": "code",
   "execution_count": 308,
   "metadata": {},
   "outputs": [
    {
     "data": {
      "text/plain": [
       "3058.171780727018"
      ]
     },
     "execution_count": 308,
     "metadata": {},
     "output_type": "execute_result"
    }
   ],
   "source": [
    "model.total_train_time"
   ]
  },
  {
   "cell_type": "code",
   "execution_count": 309,
   "metadata": {},
   "outputs": [],
   "source": [
    "model.save('models/simple_wiki_chunked_doc2vec_300_vector_10_min_word_50epochs')"
   ]
  },
  {
   "cell_type": "code",
   "execution_count": 310,
   "metadata": {},
   "outputs": [
    {
     "data": {
      "text/plain": [
       "300"
      ]
     },
     "execution_count": 310,
     "metadata": {},
     "output_type": "execute_result"
    }
   ],
   "source": [
    "model.vector_size"
   ]
  },
  {
   "cell_type": "code",
   "execution_count": 311,
   "metadata": {},
   "outputs": [
    {
     "name": "stdout",
     "output_type": "stream",
     "text": [
      "51\n",
      "52\n",
      "53\n",
      "54\n",
      "55\n",
      "56\n",
      "57\n",
      "58\n",
      "59\n",
      "60\n",
      "61\n",
      "62\n",
      "63\n",
      "64\n",
      "65\n",
      "66\n",
      "67\n",
      "68\n",
      "69\n",
      "70\n",
      "71\n",
      "72\n",
      "73\n",
      "74\n",
      "75\n",
      "76\n",
      "77\n",
      "78\n",
      "79\n",
      "80\n",
      "81\n",
      "82\n",
      "83\n",
      "84\n",
      "85\n",
      "86\n",
      "87\n",
      "88\n",
      "89\n",
      "90\n",
      "91\n",
      "92\n",
      "93\n",
      "94\n",
      "95\n",
      "96\n",
      "97\n",
      "98\n",
      "99\n",
      "100\n"
     ]
    }
   ],
   "source": [
    "epochs = 50 \n",
    "\n",
    "while epochs < 100:\n",
    "    epochs += 1\n",
    "    model.train(train_corpus, total_examples=model.corpus_count, epochs=1)\n",
    "    model.save('models/simple_wiki_chunked_doc2vec_300_vector_10_min_word_'+str(epochs) + 'epochs')\n",
    "    print(epochs)"
   ]
  },
  {
   "cell_type": "markdown",
   "metadata": {},
   "source": [
    "# looking at how vectors change with epochs"
   ]
  },
  {
   "cell_type": "code",
   "execution_count": 32,
   "metadata": {},
   "outputs": [],
   "source": [
    "import gensim\n",
    "import pandas as pd"
   ]
  },
  {
   "cell_type": "code",
   "execution_count": 28,
   "metadata": {},
   "outputs": [],
   "source": [
    "list_of_documents_to_test = list(range(10))\n",
    "\n",
    "from collections import defaultdict\n",
    "\n",
    "dict_of_arrays = defaultdict(list)\n",
    "\n",
    "for epoch in list(range(50, 101, 3)):\n",
    "    filname = 'models/simple_wiki_chunked_doc2vec_300_vector_10_min_word_'+str(epoch) + 'epochs'\n",
    "    model = gensim.models.Doc2Vec.load(filname)\n",
    "    for doc in list_of_documents_to_test:\n",
    "        dict_of_arrays[doc].append(model.docvecs[doc])\n",
    "    \n"
   ]
  },
  {
   "cell_type": "code",
   "execution_count": 41,
   "metadata": {},
   "outputs": [
    {
     "name": "stdout",
     "output_type": "stream",
     "text": [
      "[[1.]]\n",
      "[[0.9952266]]\n",
      "[[0.9891814]]\n",
      "[[0.98475707]]\n",
      "[[0.9832585]]\n",
      "[[0.9789617]]\n",
      "[[0.97666264]]\n",
      "[[0.972366]]\n",
      "[[0.968732]]\n",
      "[[0.96397537]]\n",
      "[[0.96265674]]\n",
      "[[0.95888954]]\n",
      "[[0.9557454]]\n",
      "[[0.9526125]]\n",
      "[[0.9497739]]\n",
      "[[0.9478444]]\n",
      "[[0.9438855]]\n"
     ]
    }
   ],
   "source": [
    "test = pd.DataFrame(columns=['epoch', 'cosine'])\n",
    "\n",
    "array_index = 0\n",
    "for epoch, i in zip(list(range(50, 101, 3)), dict_of_arrays[9]):\n",
    "    print(cosine_similarity([dict_of_arrays[9][0]], [i]))\n",
    "    test.loc[array_index] = [epoch, float(cosine_similarity([dict_of_arrays[9][0]], [i]))]\n",
    "    array_index += 1"
   ]
  },
  {
   "cell_type": "code",
   "execution_count": 42,
   "metadata": {},
   "outputs": [
    {
     "data": {
      "text/html": [
       "<div>\n",
       "<style scoped>\n",
       "    .dataframe tbody tr th:only-of-type {\n",
       "        vertical-align: middle;\n",
       "    }\n",
       "\n",
       "    .dataframe tbody tr th {\n",
       "        vertical-align: top;\n",
       "    }\n",
       "\n",
       "    .dataframe thead th {\n",
       "        text-align: right;\n",
       "    }\n",
       "</style>\n",
       "<table border=\"1\" class=\"dataframe\">\n",
       "  <thead>\n",
       "    <tr style=\"text-align: right;\">\n",
       "      <th></th>\n",
       "      <th>epoch</th>\n",
       "      <th>cosine</th>\n",
       "    </tr>\n",
       "  </thead>\n",
       "  <tbody>\n",
       "    <tr>\n",
       "      <th>0</th>\n",
       "      <td>50.0</td>\n",
       "      <td>1.000000</td>\n",
       "    </tr>\n",
       "    <tr>\n",
       "      <th>1</th>\n",
       "      <td>53.0</td>\n",
       "      <td>0.995227</td>\n",
       "    </tr>\n",
       "    <tr>\n",
       "      <th>2</th>\n",
       "      <td>56.0</td>\n",
       "      <td>0.989181</td>\n",
       "    </tr>\n",
       "    <tr>\n",
       "      <th>3</th>\n",
       "      <td>59.0</td>\n",
       "      <td>0.984757</td>\n",
       "    </tr>\n",
       "    <tr>\n",
       "      <th>4</th>\n",
       "      <td>62.0</td>\n",
       "      <td>0.983258</td>\n",
       "    </tr>\n",
       "    <tr>\n",
       "      <th>5</th>\n",
       "      <td>65.0</td>\n",
       "      <td>0.978962</td>\n",
       "    </tr>\n",
       "    <tr>\n",
       "      <th>6</th>\n",
       "      <td>68.0</td>\n",
       "      <td>0.976663</td>\n",
       "    </tr>\n",
       "    <tr>\n",
       "      <th>7</th>\n",
       "      <td>71.0</td>\n",
       "      <td>0.972366</td>\n",
       "    </tr>\n",
       "    <tr>\n",
       "      <th>8</th>\n",
       "      <td>74.0</td>\n",
       "      <td>0.968732</td>\n",
       "    </tr>\n",
       "    <tr>\n",
       "      <th>9</th>\n",
       "      <td>77.0</td>\n",
       "      <td>0.963975</td>\n",
       "    </tr>\n",
       "    <tr>\n",
       "      <th>10</th>\n",
       "      <td>80.0</td>\n",
       "      <td>0.962657</td>\n",
       "    </tr>\n",
       "    <tr>\n",
       "      <th>11</th>\n",
       "      <td>83.0</td>\n",
       "      <td>0.958890</td>\n",
       "    </tr>\n",
       "    <tr>\n",
       "      <th>12</th>\n",
       "      <td>86.0</td>\n",
       "      <td>0.955745</td>\n",
       "    </tr>\n",
       "    <tr>\n",
       "      <th>13</th>\n",
       "      <td>89.0</td>\n",
       "      <td>0.952613</td>\n",
       "    </tr>\n",
       "    <tr>\n",
       "      <th>14</th>\n",
       "      <td>92.0</td>\n",
       "      <td>0.949774</td>\n",
       "    </tr>\n",
       "    <tr>\n",
       "      <th>15</th>\n",
       "      <td>95.0</td>\n",
       "      <td>0.947844</td>\n",
       "    </tr>\n",
       "    <tr>\n",
       "      <th>16</th>\n",
       "      <td>98.0</td>\n",
       "      <td>0.943886</td>\n",
       "    </tr>\n",
       "  </tbody>\n",
       "</table>\n",
       "</div>"
      ],
      "text/plain": [
       "    epoch    cosine\n",
       "0    50.0  1.000000\n",
       "1    53.0  0.995227\n",
       "2    56.0  0.989181\n",
       "3    59.0  0.984757\n",
       "4    62.0  0.983258\n",
       "5    65.0  0.978962\n",
       "6    68.0  0.976663\n",
       "7    71.0  0.972366\n",
       "8    74.0  0.968732\n",
       "9    77.0  0.963975\n",
       "10   80.0  0.962657\n",
       "11   83.0  0.958890\n",
       "12   86.0  0.955745\n",
       "13   89.0  0.952613\n",
       "14   92.0  0.949774\n",
       "15   95.0  0.947844\n",
       "16   98.0  0.943886"
      ]
     },
     "execution_count": 42,
     "metadata": {},
     "output_type": "execute_result"
    }
   ],
   "source": [
    "test"
   ]
  },
  {
   "cell_type": "code",
   "execution_count": 43,
   "metadata": {},
   "outputs": [
    {
     "data": {
      "text/plain": [
       "<matplotlib.axes._subplots.AxesSubplot at 0x7ff7643feef0>"
      ]
     },
     "execution_count": 43,
     "metadata": {},
     "output_type": "execute_result"
    },
    {
     "data": {
      "image/png": "[encoded data removed]",
      "text/plain": [
       "<Figure size 432x288 with 1 Axes>"
      ]
     },
     "metadata": {},
     "output_type": "display_data"
    }
   ],
   "source": [
    "test.plot(x='epoch', y='cosine')"
   ]
  },
  {
   "cell_type": "code",
   "execution_count": 11,
   "metadata": {},
   "outputs": [],
   "source": [
    "from sklearn.metrics.pairwise import cosine_similarity"
   ]
  },
  {
   "cell_type": "code",
   "execution_count": 21,
   "metadata": {},
   "outputs": [
    {
     "name": "stdout",
     "output_type": "stream",
     "text": [
      "[[0.990417]]\n",
      "[[0.9903075]]\n",
      "[[0.99180174]]\n",
      "[[0.9945694]]\n",
      "[[0.99360144]]\n",
      "[[0.9950986]]\n",
      "[[0.9943913]]\n",
      "[[0.9958112]]\n",
      "[[0.99636346]]\n",
      "[[0.99647355]]\n"
     ]
    }
   ],
   "source": [
    "document_item = 14\n",
    "\n",
    "list_to_print = []\n",
    "for item1, item2 in list(zip(dict_of_arrays[document_item],dict_of_arrays[document_item][1:])):\n",
    "    print(cosine_similarity([item1], [item2]))\n",
    "    list_to_print.append(float(cosine_similarity([item1], [item2])))"
   ]
  },
  {
   "cell_type": "code",
   "execution_count": 23,
   "metadata": {},
   "outputs": [],
   "source": [
    "import seaborn as sns\n",
    "%matplotlib inline"
   ]
  },
  {
   "cell_type": "code",
   "execution_count": 27,
   "metadata": {},
   "outputs": [],
   "source": [
    "import matplotlib.pyplot as plt"
   ]
  },
  {
   "cell_type": "code",
   "execution_count": null,
   "metadata": {},
   "outputs": [],
   "source": [
    "plt"
   ]
  },
  {
   "cell_type": "code",
   "execution_count": 25,
   "metadata": {},
   "outputs": [
    {
     "data": {
      "text/plain": [
       "<matplotlib.axes._subplots.AxesSubplot at 0x7ff748550320>"
      ]
     },
     "execution_count": 25,
     "metadata": {},
     "output_type": "execute_result"
    },
    {
     "data": {
      "image/png": "[encoded data removed]",
      "text/plain": [
       "<Figure size 432x288 with 1 Axes>"
      ]
     },
     "metadata": {},
     "output_type": "display_data"
    }
   ],
   "source": [
    "sns.barplot(list_to_print)"
   ]
  },
  {
   "cell_type": "code",
   "execution_count": 11,
   "metadata": {},
   "outputs": [],
   "source": [
    "import gensim"
   ]
  },
  {
   "cell_type": "code",
   "execution_count": 12,
   "metadata": {},
   "outputs": [],
   "source": [
    "model = gensim.models.Doc2Vec.load('models/simple_wiki_chunked_doc2vec_300_vector_10_min_word_100epochs')\n",
    "model.workers = 4"
   ]
  },
  {
   "cell_type": "code",
   "execution_count": 13,
   "metadata": {},
   "outputs": [
    {
     "name": "stdout",
     "output_type": "stream",
     "text": [
      "110\n",
      "120\n",
      "130\n",
      "140\n",
      "150\n",
      "160\n",
      "170\n",
      "180\n",
      "190\n",
      "200\n"
     ]
    }
   ],
   "source": [
    "epochs = 100 \n",
    "\n",
    "while epochs < 200:\n",
    "    epochs += 10\n",
    "    model.train(train_corpus, total_examples=model.corpus_count, epochs=10)\n",
    "    model.save('models/simple_wiki_chunked_doc2vec_300_vector_10_min_word_'+str(epochs) + 'epochs')\n",
    "    print(epochs)"
   ]
  },
  {
   "cell_type": "code",
   "execution_count": 14,
   "metadata": {},
   "outputs": [
    {
     "name": "stdout",
     "output_type": "stream",
     "text": [
      "250\n",
      "300\n",
      "350\n",
      "400\n",
      "450\n",
      "500\n",
      "550\n",
      "600\n",
      "650\n",
      "700\n",
      "750\n",
      "800\n",
      "850\n"
     ]
    },
    {
     "ename": "KeyboardInterrupt",
     "evalue": "",
     "output_type": "error",
     "traceback": [
      "\u001b[0;31m---------------------------------------------------------------------------\u001b[0m",
      "\u001b[0;31mKeyboardInterrupt\u001b[0m                         Traceback (most recent call last)",
      "\u001b[0;32m<ipython-input-14-94d5a762195f>\u001b[0m in \u001b[0;36m<module>\u001b[0;34m()\u001b[0m\n\u001b[1;32m      1\u001b[0m \u001b[0;32mwhile\u001b[0m \u001b[0mepochs\u001b[0m \u001b[0;34m<\u001b[0m \u001b[0;36m1000\u001b[0m\u001b[0;34m:\u001b[0m\u001b[0;34m\u001b[0m\u001b[0m\n\u001b[1;32m      2\u001b[0m     \u001b[0mepochs\u001b[0m \u001b[0;34m+=\u001b[0m \u001b[0;36m50\u001b[0m\u001b[0;34m\u001b[0m\u001b[0m\n\u001b[0;32m----> 3\u001b[0;31m     \u001b[0mmodel\u001b[0m\u001b[0;34m.\u001b[0m\u001b[0mtrain\u001b[0m\u001b[0;34m(\u001b[0m\u001b[0mtrain_corpus\u001b[0m\u001b[0;34m,\u001b[0m \u001b[0mtotal_examples\u001b[0m\u001b[0;34m=\u001b[0m\u001b[0mmodel\u001b[0m\u001b[0;34m.\u001b[0m\u001b[0mcorpus_count\u001b[0m\u001b[0;34m,\u001b[0m \u001b[0mepochs\u001b[0m\u001b[0;34m=\u001b[0m\u001b[0;36m50\u001b[0m\u001b[0;34m)\u001b[0m\u001b[0;34m\u001b[0m\u001b[0m\n\u001b[0m\u001b[1;32m      4\u001b[0m     \u001b[0mmodel\u001b[0m\u001b[0;34m.\u001b[0m\u001b[0msave\u001b[0m\u001b[0;34m(\u001b[0m\u001b[0;34m'models/simple_wiki_chunked_doc2vec_300_vector_10_min_word_'\u001b[0m\u001b[0;34m+\u001b[0m\u001b[0mstr\u001b[0m\u001b[0;34m(\u001b[0m\u001b[0mepochs\u001b[0m\u001b[0;34m)\u001b[0m \u001b[0;34m+\u001b[0m \u001b[0;34m'epochs'\u001b[0m\u001b[0;34m)\u001b[0m\u001b[0;34m\u001b[0m\u001b[0m\n\u001b[1;32m      5\u001b[0m     \u001b[0mprint\u001b[0m\u001b[0;34m(\u001b[0m\u001b[0mepochs\u001b[0m\u001b[0;34m)\u001b[0m\u001b[0;34m\u001b[0m\u001b[0m\n",
      "\u001b[0;32m~/anaconda3/lib/python3.6/site-packages/gensim/models/doc2vec.py\u001b[0m in \u001b[0;36mtrain\u001b[0;34m(self, documents, total_examples, total_words, epochs, start_alpha, end_alpha, word_count, queue_factor, report_delay, callbacks)\u001b[0m\n\u001b[1;32m    715\u001b[0m             \u001b[0mdocuments\u001b[0m\u001b[0;34m,\u001b[0m \u001b[0mtotal_examples\u001b[0m\u001b[0;34m=\u001b[0m\u001b[0mtotal_examples\u001b[0m\u001b[0;34m,\u001b[0m \u001b[0mtotal_words\u001b[0m\u001b[0;34m=\u001b[0m\u001b[0mtotal_words\u001b[0m\u001b[0;34m,\u001b[0m\u001b[0;34m\u001b[0m\u001b[0m\n\u001b[1;32m    716\u001b[0m             \u001b[0mepochs\u001b[0m\u001b[0;34m=\u001b[0m\u001b[0mepochs\u001b[0m\u001b[0;34m,\u001b[0m \u001b[0mstart_alpha\u001b[0m\u001b[0;34m=\u001b[0m\u001b[0mstart_alpha\u001b[0m\u001b[0;34m,\u001b[0m \u001b[0mend_alpha\u001b[0m\u001b[0;34m=\u001b[0m\u001b[0mend_alpha\u001b[0m\u001b[0;34m,\u001b[0m \u001b[0mword_count\u001b[0m\u001b[0;34m=\u001b[0m\u001b[0mword_count\u001b[0m\u001b[0;34m,\u001b[0m\u001b[0;34m\u001b[0m\u001b[0m\n\u001b[0;32m--> 717\u001b[0;31m             queue_factor=queue_factor, report_delay=report_delay, callbacks=callbacks)\n\u001b[0m\u001b[1;32m    718\u001b[0m \u001b[0;34m\u001b[0m\u001b[0m\n\u001b[1;32m    719\u001b[0m     \u001b[0;32mdef\u001b[0m \u001b[0m_raw_word_count\u001b[0m\u001b[0;34m(\u001b[0m\u001b[0mself\u001b[0m\u001b[0;34m,\u001b[0m \u001b[0mjob\u001b[0m\u001b[0;34m)\u001b[0m\u001b[0;34m:\u001b[0m\u001b[0;34m\u001b[0m\u001b[0m\n",
      "\u001b[0;32m~/anaconda3/lib/python3.6/site-packages/gensim/models/base_any2vec.py\u001b[0m in \u001b[0;36mtrain\u001b[0;34m(self, sentences, total_examples, total_words, epochs, start_alpha, end_alpha, word_count, queue_factor, report_delay, compute_loss, callbacks)\u001b[0m\n\u001b[1;32m    936\u001b[0m             \u001b[0msentences\u001b[0m\u001b[0;34m,\u001b[0m \u001b[0mtotal_examples\u001b[0m\u001b[0;34m=\u001b[0m\u001b[0mtotal_examples\u001b[0m\u001b[0;34m,\u001b[0m \u001b[0mtotal_words\u001b[0m\u001b[0;34m=\u001b[0m\u001b[0mtotal_words\u001b[0m\u001b[0;34m,\u001b[0m\u001b[0;34m\u001b[0m\u001b[0m\n\u001b[1;32m    937\u001b[0m             \u001b[0mepochs\u001b[0m\u001b[0;34m=\u001b[0m\u001b[0mepochs\u001b[0m\u001b[0;34m,\u001b[0m \u001b[0mstart_alpha\u001b[0m\u001b[0;34m=\u001b[0m\u001b[0mstart_alpha\u001b[0m\u001b[0;34m,\u001b[0m \u001b[0mend_alpha\u001b[0m\u001b[0;34m=\u001b[0m\u001b[0mend_alpha\u001b[0m\u001b[0;34m,\u001b[0m \u001b[0mword_count\u001b[0m\u001b[0;34m=\u001b[0m\u001b[0mword_count\u001b[0m\u001b[0;34m,\u001b[0m\u001b[0;34m\u001b[0m\u001b[0m\n\u001b[0;32m--> 938\u001b[0;31m             queue_factor=queue_factor, report_delay=report_delay, compute_loss=compute_loss, callbacks=callbacks)\n\u001b[0m\u001b[1;32m    939\u001b[0m \u001b[0;34m\u001b[0m\u001b[0m\n\u001b[1;32m    940\u001b[0m     \u001b[0;32mdef\u001b[0m \u001b[0m_get_job_params\u001b[0m\u001b[0;34m(\u001b[0m\u001b[0mself\u001b[0m\u001b[0;34m,\u001b[0m \u001b[0mcur_epoch\u001b[0m\u001b[0;34m)\u001b[0m\u001b[0;34m:\u001b[0m\u001b[0;34m\u001b[0m\u001b[0m\n",
      "\u001b[0;32m~/anaconda3/lib/python3.6/site-packages/gensim/models/base_any2vec.py\u001b[0m in \u001b[0;36mtrain\u001b[0;34m(self, data_iterable, epochs, total_examples, total_words, queue_factor, report_delay, callbacks, **kwargs)\u001b[0m\n\u001b[1;32m    435\u001b[0m             trained_word_count_epoch, raw_word_count_epoch, job_tally_epoch = self._train_epoch(\n\u001b[1;32m    436\u001b[0m                 \u001b[0mdata_iterable\u001b[0m\u001b[0;34m,\u001b[0m \u001b[0mcur_epoch\u001b[0m\u001b[0;34m=\u001b[0m\u001b[0mcur_epoch\u001b[0m\u001b[0;34m,\u001b[0m \u001b[0mtotal_examples\u001b[0m\u001b[0;34m=\u001b[0m\u001b[0mtotal_examples\u001b[0m\u001b[0;34m,\u001b[0m \u001b[0mtotal_words\u001b[0m\u001b[0;34m=\u001b[0m\u001b[0mtotal_words\u001b[0m\u001b[0;34m,\u001b[0m\u001b[0;34m\u001b[0m\u001b[0m\n\u001b[0;32m--> 437\u001b[0;31m                 queue_factor=queue_factor, report_delay=report_delay)\n\u001b[0m\u001b[1;32m    438\u001b[0m             \u001b[0mtrained_word_count\u001b[0m \u001b[0;34m+=\u001b[0m \u001b[0mtrained_word_count_epoch\u001b[0m\u001b[0;34m\u001b[0m\u001b[0m\n\u001b[1;32m    439\u001b[0m             \u001b[0mraw_word_count\u001b[0m \u001b[0;34m+=\u001b[0m \u001b[0mraw_word_count_epoch\u001b[0m\u001b[0;34m\u001b[0m\u001b[0m\n",
      "\u001b[0;32m~/anaconda3/lib/python3.6/site-packages/gensim/models/base_any2vec.py\u001b[0m in \u001b[0;36m_train_epoch\u001b[0;34m(self, data_iterable, cur_epoch, total_examples, total_words, queue_factor, report_delay)\u001b[0m\n\u001b[1;32m    375\u001b[0m         trained_word_count, raw_word_count, job_tally = self._log_epoch_progress(\n\u001b[1;32m    376\u001b[0m             \u001b[0mprogress_queue\u001b[0m\u001b[0;34m,\u001b[0m \u001b[0mjob_queue\u001b[0m\u001b[0;34m,\u001b[0m \u001b[0mcur_epoch\u001b[0m\u001b[0;34m=\u001b[0m\u001b[0mcur_epoch\u001b[0m\u001b[0;34m,\u001b[0m \u001b[0mtotal_examples\u001b[0m\u001b[0;34m=\u001b[0m\u001b[0mtotal_examples\u001b[0m\u001b[0;34m,\u001b[0m \u001b[0mtotal_words\u001b[0m\u001b[0;34m=\u001b[0m\u001b[0mtotal_words\u001b[0m\u001b[0;34m,\u001b[0m\u001b[0;34m\u001b[0m\u001b[0m\n\u001b[0;32m--> 377\u001b[0;31m             report_delay=report_delay)\n\u001b[0m\u001b[1;32m    378\u001b[0m \u001b[0;34m\u001b[0m\u001b[0m\n\u001b[1;32m    379\u001b[0m         \u001b[0;32mreturn\u001b[0m \u001b[0mtrained_word_count\u001b[0m\u001b[0;34m,\u001b[0m \u001b[0mraw_word_count\u001b[0m\u001b[0;34m,\u001b[0m \u001b[0mjob_tally\u001b[0m\u001b[0;34m\u001b[0m\u001b[0m\n",
      "\u001b[0;32m~/anaconda3/lib/python3.6/site-packages/gensim/models/base_any2vec.py\u001b[0m in \u001b[0;36m_log_epoch_progress\u001b[0;34m(self, progress_queue, job_queue, cur_epoch, total_examples, total_words, report_delay)\u001b[0m\n\u001b[1;32m    295\u001b[0m \u001b[0;34m\u001b[0m\u001b[0m\n\u001b[1;32m    296\u001b[0m         \u001b[0;32mwhile\u001b[0m \u001b[0munfinished_worker_count\u001b[0m \u001b[0;34m>\u001b[0m \u001b[0;36m0\u001b[0m\u001b[0;34m:\u001b[0m\u001b[0;34m\u001b[0m\u001b[0m\n\u001b[0;32m--> 297\u001b[0;31m             \u001b[0mreport\u001b[0m \u001b[0;34m=\u001b[0m \u001b[0mprogress_queue\u001b[0m\u001b[0;34m.\u001b[0m\u001b[0mget\u001b[0m\u001b[0;34m(\u001b[0m\u001b[0;34m)\u001b[0m  \u001b[0;31m# blocks if workers too slow\u001b[0m\u001b[0;34m\u001b[0m\u001b[0m\n\u001b[0m\u001b[1;32m    298\u001b[0m             \u001b[0;32mif\u001b[0m \u001b[0mreport\u001b[0m \u001b[0;32mis\u001b[0m \u001b[0;32mNone\u001b[0m\u001b[0;34m:\u001b[0m  \u001b[0;31m# a thread reporting that it finished\u001b[0m\u001b[0;34m\u001b[0m\u001b[0m\n\u001b[1;32m    299\u001b[0m                 \u001b[0munfinished_worker_count\u001b[0m \u001b[0;34m-=\u001b[0m \u001b[0;36m1\u001b[0m\u001b[0;34m\u001b[0m\u001b[0m\n",
      "\u001b[0;32m~/anaconda3/lib/python3.6/queue.py\u001b[0m in \u001b[0;36mget\u001b[0;34m(self, block, timeout)\u001b[0m\n\u001b[1;32m    162\u001b[0m             \u001b[0;32melif\u001b[0m \u001b[0mtimeout\u001b[0m \u001b[0;32mis\u001b[0m \u001b[0;32mNone\u001b[0m\u001b[0;34m:\u001b[0m\u001b[0;34m\u001b[0m\u001b[0m\n\u001b[1;32m    163\u001b[0m                 \u001b[0;32mwhile\u001b[0m \u001b[0;32mnot\u001b[0m \u001b[0mself\u001b[0m\u001b[0;34m.\u001b[0m\u001b[0m_qsize\u001b[0m\u001b[0;34m(\u001b[0m\u001b[0;34m)\u001b[0m\u001b[0;34m:\u001b[0m\u001b[0;34m\u001b[0m\u001b[0m\n\u001b[0;32m--> 164\u001b[0;31m                     \u001b[0mself\u001b[0m\u001b[0;34m.\u001b[0m\u001b[0mnot_empty\u001b[0m\u001b[0;34m.\u001b[0m\u001b[0mwait\u001b[0m\u001b[0;34m(\u001b[0m\u001b[0;34m)\u001b[0m\u001b[0;34m\u001b[0m\u001b[0m\n\u001b[0m\u001b[1;32m    165\u001b[0m             \u001b[0;32melif\u001b[0m \u001b[0mtimeout\u001b[0m \u001b[0;34m<\u001b[0m \u001b[0;36m0\u001b[0m\u001b[0;34m:\u001b[0m\u001b[0;34m\u001b[0m\u001b[0m\n\u001b[1;32m    166\u001b[0m                 \u001b[0;32mraise\u001b[0m \u001b[0mValueError\u001b[0m\u001b[0;34m(\u001b[0m\u001b[0;34m\"'timeout' must be a non-negative number\"\u001b[0m\u001b[0;34m)\u001b[0m\u001b[0;34m\u001b[0m\u001b[0m\n",
      "\u001b[0;32m~/anaconda3/lib/python3.6/threading.py\u001b[0m in \u001b[0;36mwait\u001b[0;34m(self, timeout)\u001b[0m\n\u001b[1;32m    293\u001b[0m         \u001b[0;32mtry\u001b[0m\u001b[0;34m:\u001b[0m    \u001b[0;31m# restore state no matter what (e.g., KeyboardInterrupt)\u001b[0m\u001b[0;34m\u001b[0m\u001b[0m\n\u001b[1;32m    294\u001b[0m             \u001b[0;32mif\u001b[0m \u001b[0mtimeout\u001b[0m \u001b[0;32mis\u001b[0m \u001b[0;32mNone\u001b[0m\u001b[0;34m:\u001b[0m\u001b[0;34m\u001b[0m\u001b[0m\n\u001b[0;32m--> 295\u001b[0;31m                 \u001b[0mwaiter\u001b[0m\u001b[0;34m.\u001b[0m\u001b[0macquire\u001b[0m\u001b[0;34m(\u001b[0m\u001b[0;34m)\u001b[0m\u001b[0;34m\u001b[0m\u001b[0m\n\u001b[0m\u001b[1;32m    296\u001b[0m                 \u001b[0mgotit\u001b[0m \u001b[0;34m=\u001b[0m \u001b[0;32mTrue\u001b[0m\u001b[0;34m\u001b[0m\u001b[0m\n\u001b[1;32m    297\u001b[0m             \u001b[0;32melse\u001b[0m\u001b[0;34m:\u001b[0m\u001b[0;34m\u001b[0m\u001b[0m\n",
      "\u001b[0;31mKeyboardInterrupt\u001b[0m: "
     ]
    }
   ],
   "source": [
    "while epochs < 1000:\n",
    "    epochs += 50\n",
    "    model.train(train_corpus, total_examples=model.corpus_count, epochs=50)\n",
    "    model.save('models/simple_wiki_chunked_doc2vec_300_vector_10_min_word_'+str(epochs) + 'epochs')\n",
    "    print(epochs)"
   ]
  },
  {
   "cell_type": "code",
   "execution_count": 1,
   "metadata": {},
   "outputs": [],
   "source": [
    "import gensim"
   ]
  },
  {
   "cell_type": "code",
   "execution_count": 2,
   "metadata": {},
   "outputs": [],
   "source": [
    "# epochs_list = ['']\n",
    "\n",
    "# list_of_documents_to_test = list(range(10))\n",
    "\n",
    "# from collections import defaultdict\n",
    "\n",
    "# dict_of_arrays = defaultdict(list)\n",
    "\n",
    "# for epoch in list(range(50, 101, 3)):\n",
    "#     filname = 'models/simple_wiki_chunked_doc2vec_300_vector_10_min_word_'+str(epoch) + 'epochs'\n",
    "#     model = gensim.models.Doc2Vec.load(filname)\n",
    "#     for doc in list_of_documents_to_test:\n",
    "#         dict_of_arrays[doc].append(model.docvecs[doc])\n",
    "    "
   ]
  },
  {
   "cell_type": "code",
   "execution_count": 2,
   "metadata": {},
   "outputs": [],
   "source": [
    "import numpy as np"
   ]
  },
  {
   "cell_type": "code",
   "execution_count": 16,
   "metadata": {},
   "outputs": [],
   "source": [
    "epochs_list = ['']\n",
    "epochs_list = []\n",
    "epochs_list.extend(list(range(50, 101)))\n",
    "epochs_list.extend(list(range(100, 851, 50)))\n",
    "\n",
    "list_of_documents_to_test = list(range(10))\n",
    "\n",
    "from collections import defaultdict\n",
    "\n",
    "# dict_of_arrays = defaultdict(list)\n",
    "output = None\n",
    "\n",
    "\n",
    "for epoch in epochs_list:\n",
    "    filname = 'models/simple_wiki_chunked_doc2vec_300_vector_10_min_word_'+str(epoch) + 'epochs'\n",
    "    model = gensim.models.Doc2Vec.load(filname)\n",
    "    for doc in [10]:\n",
    "        if output is not None:\n",
    "            try:\n",
    "                output = np.append([output], [model.docvecs[doc]], axis=0)\n",
    "            except:\n",
    "                output = np.append(output, [model.docvecs[doc]], axis=0)\n",
    "        else:\n",
    "            output = np.array(model.docvecs[doc])\n",
    "#         output.append(model.docvecs[doc])\n",
    "    del model"
   ]
  },
  {
   "cell_type": "code",
   "execution_count": 20,
   "metadata": {},
   "outputs": [],
   "source": [
    "import pandas as pd\n",
    "from sklearn.metrics.pairwise import cosine_similarity"
   ]
  },
  {
   "cell_type": "code",
   "execution_count": 24,
   "metadata": {},
   "outputs": [
    {
     "name": "stdout",
     "output_type": "stream",
     "text": [
      "[[0.9999999]]\n",
      "[[0.99800295]]\n",
      "[[0.9966716]]\n",
      "[[0.9948083]]\n",
      "[[0.9946049]]\n",
      "[[0.99237365]]\n",
      "[[0.9893937]]\n",
      "[[0.9899368]]\n",
      "[[0.9886581]]\n",
      "[[0.98773706]]\n",
      "[[0.9865179]]\n",
      "[[0.986983]]\n",
      "[[0.9855287]]\n",
      "[[0.9843553]]\n",
      "[[0.9835083]]\n",
      "[[0.98159224]]\n",
      "[[0.98158085]]\n",
      "[[0.9806148]]\n",
      "[[0.9795971]]\n",
      "[[0.9774846]]\n",
      "[[0.97732246]]\n",
      "[[0.9756546]]\n",
      "[[0.97369456]]\n",
      "[[0.9734365]]\n",
      "[[0.97264814]]\n",
      "[[0.9714664]]\n",
      "[[0.97075444]]\n",
      "[[0.9707972]]\n",
      "[[0.9693209]]\n",
      "[[0.9675426]]\n",
      "[[0.9674686]]\n",
      "[[0.9665442]]\n",
      "[[0.9641351]]\n",
      "[[0.9617697]]\n",
      "[[0.9599803]]\n",
      "[[0.9575818]]\n",
      "[[0.9578228]]\n",
      "[[0.95575124]]\n",
      "[[0.9545353]]\n",
      "[[0.9558728]]\n",
      "[[0.9559883]]\n",
      "[[0.9536794]]\n",
      "[[0.9540061]]\n",
      "[[0.9519363]]\n",
      "[[0.9518798]]\n",
      "[[0.95321715]]\n",
      "[[0.9503181]]\n",
      "[[0.9499104]]\n",
      "[[0.951043]]\n",
      "[[0.9501809]]\n",
      "[[0.95146835]]\n",
      "[[0.95146835]]\n",
      "[[0.9365027]]\n",
      "[[0.9299035]]\n",
      "[[0.92287934]]\n",
      "[[0.91481274]]\n",
      "[[0.89977175]]\n",
      "[[0.89308167]]\n",
      "[[0.8877939]]\n",
      "[[0.87942684]]\n",
      "[[0.8758034]]\n",
      "[[0.86993694]]\n",
      "[[0.86232036]]\n",
      "[[0.85841787]]\n",
      "[[0.8497493]]\n",
      "[[0.84622085]]\n",
      "[[0.8421024]]\n"
     ]
    }
   ],
   "source": [
    "test = pd.DataFrame(columns=['epoch', 'cosine'])\n",
    "\n",
    "array_index = 0\n",
    "for epoch, i in zip(epochs_list, output):\n",
    "    print(cosine_similarity([output[0]], [i]))\n",
    "    test.loc[array_index] = [epoch, float(cosine_similarity([output[0]], [i]))]\n",
    "    array_index += 1"
   ]
  },
  {
   "cell_type": "code",
   "execution_count": 30,
   "metadata": {},
   "outputs": [
    {
     "data": {
      "text/plain": [
       "<matplotlib.axes._subplots.AxesSubplot at 0x7fbb67fb2eb8>"
      ]
     },
     "execution_count": 30,
     "metadata": {},
     "output_type": "execute_result"
    },
    {
     "data": {
      "image/png": "[encoded data removed]",
      "text/plain": [
       "<Figure size 432x288 with 1 Axes>"
      ]
     },
     "metadata": {},
     "output_type": "display_data"
    }
   ],
   "source": [
    "%matplotlib inline\n",
    "import seaborn as sns\n",
    "test.plot.scatter(x='epoch', y='cosine')"
   ]
  },
  {
   "cell_type": "code",
   "execution_count": 23,
   "metadata": {},
   "outputs": [
    {
     "data": {
      "text/plain": [
       "[array([-0.09873271, -0.38445738, -0.11841913,  0.15415132, -0.6523824 ,\n",
       "         0.11224592, -0.35974038, -0.24351221, -0.94710666, -0.22751893,\n",
       "         0.10789845, -0.698158  ,  0.6245654 ,  0.00511736,  0.9365074 ,\n",
       "         0.5034717 ,  1.1449183 ,  0.0580245 ,  0.6188839 , -0.3746723 ,\n",
       "        -0.59429264, -0.4119914 , -0.7838709 ,  0.12741818,  0.743559  ,\n",
       "        -0.2930218 , -0.254785  ,  0.20689121,  0.06806126, -1.2452523 ,\n",
       "        -0.14102378, -0.01871628,  0.12427453,  0.8795282 ,  0.4701037 ,\n",
       "         0.00315543,  0.18903306, -0.57624084,  0.05506678, -0.14503291,\n",
       "         0.10938947,  0.41105354,  0.5317753 , -0.06573683, -0.6465584 ,\n",
       "         0.84541434,  0.6550027 ,  0.08956805, -0.09003133, -0.2111553 ,\n",
       "         0.04252867, -0.7158433 ,  0.13249995,  0.7015682 , -0.5330992 ,\n",
       "         0.65194   , -0.10077243, -0.35465536,  0.00540563,  0.10988909,\n",
       "        -0.22945848,  0.14482212, -0.1740423 , -0.1290046 , -1.3902265 ,\n",
       "        -0.3759748 ,  1.7233386 , -0.00926691, -0.18192357, -0.38504437,\n",
       "         0.7703093 ,  0.87069505,  0.8099487 , -1.0907799 ,  0.34716466,\n",
       "        -1.1005397 ,  0.32471305, -1.1290761 , -0.34504035, -1.3546449 ,\n",
       "         0.5232247 ,  1.1807079 , -1.1113421 ,  1.0839783 ,  0.6349535 ,\n",
       "         0.7671257 ,  1.2589854 , -0.28859732,  0.4205017 ,  1.0259389 ,\n",
       "        -0.80534405, -0.902722  , -0.6246018 ,  0.37907463,  0.65398973,\n",
       "        -0.02845957,  0.5124019 , -0.08976267,  0.37448743,  1.3483696 ,\n",
       "         0.22301137,  0.2683325 ,  0.79532427,  1.2930536 , -0.9844233 ,\n",
       "        -0.2571887 ,  0.15996706,  0.10632472, -1.6781642 , -0.23882541,\n",
       "        -0.01955615, -0.5783028 , -0.8200874 , -0.83673847, -1.0634763 ,\n",
       "        -0.20475979,  0.06114709, -0.31456292,  0.38856956,  1.0706372 ,\n",
       "         0.47333676, -0.09060856, -0.34042647,  1.787445  ,  0.6674544 ,\n",
       "        -0.4471809 ,  1.0153238 , -0.9231438 , -1.7870857 , -0.7454767 ,\n",
       "         0.05874861,  0.13237384,  0.57935804, -0.22557385,  0.8762578 ,\n",
       "         0.4375644 ,  0.18733011,  0.8407544 ,  0.08982901,  0.82435805,\n",
       "         0.08012936, -0.06685524, -0.09586426, -0.3665359 , -0.7743647 ,\n",
       "        -0.01277982,  0.3856222 ,  0.32242757,  1.1809385 , -0.84558123,\n",
       "        -0.9460839 ,  0.70475984,  0.35187578,  0.04391871, -0.8295955 ,\n",
       "         0.43288583, -0.14816223,  0.04361926,  0.19137846, -0.38405374,\n",
       "        -0.68053365, -0.5671983 ,  0.4251984 , -0.41696128, -0.43329936,\n",
       "         0.45307386, -0.45762536,  0.6021028 ,  0.43944037,  0.60679686,\n",
       "         0.4213227 ,  0.5779893 ,  0.3291794 , -0.12742923, -1.4846679 ,\n",
       "         0.69527084, -0.5277129 ,  0.19076948,  0.85407895, -1.0844277 ,\n",
       "         0.26010755, -0.550691  , -0.0157974 , -0.05549072, -0.7824095 ,\n",
       "        -0.2367107 , -0.4658499 ,  0.81762135, -0.97379154, -0.27863753,\n",
       "        -0.72694576, -1.1755888 ,  1.3353223 , -0.269959  , -0.09420834,\n",
       "        -0.31140792,  0.5920774 ,  0.27833068,  0.3184365 , -0.8835793 ,\n",
       "        -1.7909942 ,  0.6241565 , -0.61761844, -1.0206203 , -0.3433831 ,\n",
       "        -0.8247038 ,  1.233477  , -0.09375005,  0.01537927, -0.6999745 ,\n",
       "         0.03423724,  0.40754974,  0.86479014, -0.2166452 , -0.65327436,\n",
       "        -0.27888948, -0.05609301,  1.1111934 , -1.0998904 ,  1.7303629 ,\n",
       "        -0.6479589 ,  0.01483681,  0.450969  ,  0.05229024,  0.70077974,\n",
       "         0.2128358 , -0.59156495, -0.6577215 ,  0.4939938 , -0.8219128 ,\n",
       "        -0.14680997, -0.19359212, -0.80557394,  0.5547453 , -0.8038871 ,\n",
       "        -0.2569867 , -0.3887346 , -0.578984  , -0.39527234, -1.0506061 ,\n",
       "         0.91744983,  0.65585643, -0.44243568,  0.06344513,  0.13833204,\n",
       "         0.75581056,  0.29073277,  0.48621666,  1.4174043 ,  0.34703526,\n",
       "         0.03699236,  0.02761884, -0.28105542,  0.24597245, -0.3062338 ,\n",
       "        -0.01358215,  0.821097  , -1.1300875 , -0.5317347 , -0.8417461 ,\n",
       "        -0.23967203, -0.7802148 ,  0.35096225,  0.9080463 ,  0.60294664,\n",
       "         0.6955033 , -1.4460187 , -0.5485292 ,  0.6962328 , -0.6588325 ,\n",
       "        -0.1769812 ,  0.67480975,  0.33964595,  0.49690387,  1.2519555 ,\n",
       "        -0.85314417,  0.3780767 ,  0.49309698, -0.13966516, -0.11370989,\n",
       "         0.11972355,  0.27834344,  0.30224442,  0.75626904,  0.3004084 ,\n",
       "         0.56342936, -0.9032921 ,  0.07123913,  0.6665438 , -1.2558618 ,\n",
       "        -0.94167525,  0.7686766 , -0.38842148,  0.24550323, -0.5747345 ,\n",
       "        -0.2115079 ,  0.65288806,  0.32203597,  0.43673757,  0.02677625],\n",
       "       dtype=float32)]"
      ]
     },
     "execution_count": 23,
     "metadata": {},
     "output_type": "execute_result"
    }
   ],
   "source": []
  },
  {
   "cell_type": "code",
   "execution_count": null,
   "metadata": {},
   "outputs": [],
   "source": []
  }
 ],
 "metadata": {
  "kernelspec": {
   "display_name": "Python 3",
   "language": "python",
   "name": "python3"
  },
  "language_info": {
   "codemirror_mode": {
    "name": "ipython",
    "version": 3
   },
   "file_extension": ".py",
   "mimetype": "text/x-python",
   "name": "python",
   "nbconvert_exporter": "python",
   "pygments_lexer": "ipython3",
   "version": "3.6.5"
  }
 },
 "nbformat": 4,
 "nbformat_minor": 2
}
