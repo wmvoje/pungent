{
 "cells": [
  {
   "cell_type": "code",
   "execution_count": 3,
   "metadata": {},
   "outputs": [],
   "source": [
    "import gensim "
   ]
  },
  {
   "cell_type": "code",
   "execution_count": 5,
   "metadata": {},
   "outputs": [],
   "source": [
    "import pandas as pd"
   ]
  },
  {
   "cell_type": "code",
   "execution_count": 6,
   "metadata": {},
   "outputs": [],
   "source": [
    "wiki_data = pd.read_csv('data/wikipedia/cleaned_wiki_data_full_text_chunks.csv')"
   ]
  },
  {
   "cell_type": "code",
   "execution_count": 23,
   "metadata": {},
   "outputs": [],
   "source": [
    "def read_corpus(list_of_docs, tokens_only=False):\n",
    "    for i, line in enumerate(list_of_docs):\n",
    "        if tokens_only:\n",
    "            yield gensim.utils.simple_preprocess(line)\n",
    "        else:\n",
    "            # For training data, add tags\n",
    "            yield gensim.models.doc2vec.TaggedDocument(gensim.utils.simple_preprocess(line), [i])"
   ]
  },
  {
   "cell_type": "code",
   "execution_count": 24,
   "metadata": {},
   "outputs": [],
   "source": [
    "train_corpus = list(read_corpus(wiki_data.text))\n",
    "test_corpus = list(read_corpus(wiki_data.text, tokens_only=True))"
   ]
  },
  {
   "cell_type": "code",
   "execution_count": 25,
   "metadata": {},
   "outputs": [],
   "source": [
    "model = gensim.models.doc2vec.Doc2Vec(vector_size=50, min_count=2, epochs=40)"
   ]
  },
  {
   "cell_type": "code",
   "execution_count": 26,
   "metadata": {},
   "outputs": [],
   "source": [
    "model.build_vocab(train_corpus)"
   ]
  },
  {
   "cell_type": "code",
   "execution_count": 27,
   "metadata": {},
   "outputs": [
    {
     "name": "stdout",
     "output_type": "stream",
     "text": [
      "CPU times: user 50min 40s, sys: 1min 25s, total: 52min 6s\n",
      "Wall time: 20min 14s\n"
     ]
    }
   ],
   "source": [
    "%time model.train(train_corpus, total_examples=model.corpus_count, epochs=model.epochs)"
   ]
  },
  {
   "cell_type": "code",
   "execution_count": 68,
   "metadata": {},
   "outputs": [],
   "source": [
    "statement = gensim.utils.simple_preprocess('The domestic cat (Felis silvestris catus or Felis catus)[1][4] is a small, typically furry, carnivorous mammal. They are often called house cats[5] when kept as indoor pets or simply cats when there is no need to distinguish them from other felids and felines. They are often valued by humans for companionship and for their ability to hunt vermin. There are more than seventy cat breeds recognized by various cat registries.')\n",
    "statement = gensim.utils.simple_preprocess('Bouldering is a form of rock climbing that is performed on small rock formations or artificial rock walls, known as boulders, without the use of ropes or harnesses. While it can be done without any equipment, most climbers use climbing shoes to help secure footholds, chalk to keep their hands dry and provide a firmer grip, and bouldering mats to prevent injuries from falls. Unlike free solo climbing, which is also performed without ropes, bouldering problems (the sequence of moves that a climber performs to complete the climb) are usually less than 6 meters (20 ft.) tall. Traverses, which are a form of boulder problem, require the climber to climb horizontally from one end to another. [1]:3 Artificial climbing walls allow boulderers to train indoors in areas without natural boulders. In addition, Bouldering competitions take place in both indoor and outdoor settings')\n",
    "statement = gensim.utils.simple_preprocess('Wrestling is a combat sport involving grappling type techniques such as clinch fighting, throws and takedowns, joint locks, pins and other grappling holds. The sport can either be theatrical for entertainment (see professional wrestling), or genuinely competitive. A wrestling bout is a physical competition, between two (occasionally more) competitors or sparring partners, who attempt to gain and maintain a superior position. There are a wide range of styles with varying rules with both traditional historic and modern styles. Wrestling techniques have been incorporated into other martial arts as well as military hand-to-hand combat systems.')\n",
    "test_vector = model.infer_vector(statement)"
   ]
  },
  {
   "cell_type": "code",
   "execution_count": 69,
   "metadata": {},
   "outputs": [
    {
     "name": "stderr",
     "output_type": "stream",
     "text": [
      "/home/wmvoje/anaconda3/lib/python3.6/site-packages/gensim/matutils.py:737: FutureWarning: Conversion of the second argument of issubdtype from `int` to `np.signedinteger` is deprecated. In future, it will be treated as `np.int64 == np.dtype(int).type`.\n",
      "  if np.issubdtype(vec.dtype, np.int):\n"
     ]
    },
    {
     "data": {
      "text/plain": [
       "[(17651, 0.7430974841117859),\n",
       " (90981, 0.7396022081375122),\n",
       " (67709, 0.7319555282592773),\n",
       " (47976, 0.7282230854034424),\n",
       " (39991, 0.7220035791397095),\n",
       " (44991, 0.7101404070854187),\n",
       " (15456, 0.7101379632949829),\n",
       " (96825, 0.6990391612052917),\n",
       " (96150, 0.6983598470687866),\n",
       " (135050, 0.6983575820922852)]"
      ]
     },
     "execution_count": 69,
     "metadata": {},
     "output_type": "execute_result"
    }
   ],
   "source": [
    "model.docvecs.most_similar([test_vector])"
   ]
  },
  {
   "cell_type": "code",
   "execution_count": 76,
   "metadata": {},
   "outputs": [
    {
     "data": {
      "text/plain": [
       "[('sports', 'NNS'),\n",
       " ('japan', 'VBP'),\n",
       " ('part', 'NN'),\n",
       " ('culture', 'NN'),\n",
       " ('japan', 'NN'),\n",
       " ('sports', 'NNS'),\n",
       " ('sumo', 'VBP'),\n",
       " ('judo', 'JJ'),\n",
       " ('karate', 'NN'),\n",
       " ('sports', 'NNS'),\n",
       " ('imported', 'VBN'),\n",
       " ('baseball', 'NN'),\n",
       " ('soccer', 'NN'),\n",
       " ('golf', 'NN'),\n",
       " ('skiing', 'VBG'),\n",
       " ('sports', 'NNS'),\n",
       " ('japan', 'NN'),\n",
       " ('encyclopedia', 'VBP'),\n",
       " ('sports', 'NNS'),\n",
       " ('participant', 'JJ'),\n",
       " ('participants', 'NNS'),\n",
       " ('onlooker', 'NN'),\n",
       " ('onlookers', 'NNS')]"
      ]
     },
     "execution_count": 76,
     "metadata": {},
     "output_type": "execute_result"
    }
   ],
   "source": [
    "test = clean(test_corpus[90981])\n",
    "pos_tag(test)"
   ]
  },
  {
   "cell_type": "code",
   "execution_count": 83,
   "metadata": {},
   "outputs": [],
   "source": [
    "import pickle as p\n",
    "\n",
    "with open('models/simple_wiki_chunked_corpus.p', 'wb') as topick:\n",
    "    p.dump(test_corpus, topick)\n"
   ]
  },
  {
   "cell_type": "code",
   "execution_count": 65,
   "metadata": {},
   "outputs": [],
   "source": [
    "import os\n",
    "import random\n",
    "import codecs\n",
    "from collections import defaultdict\n",
    "\n",
    "from gensim.models.ldamodel import LdaModel as Lda\n",
    "from gensim import corpora\n",
    "from nltk.corpus import stopwords \n",
    "from nltk.stem.porter import PorterStemmer\n",
    "from nltk.stem.wordnet import WordNetLemmatizer\n",
    "from nltk import word_tokenize\n",
    "from nltk import pos_tag\n",
    "\n",
    "import enchant\n",
    "spelling_dict = enchant.Dict(\"en_US\")\n",
    "\n",
    "stop = set(stopwords.words('english'))\n",
    "lemma = WordNetLemmatizer()\n",
    "stemmer = PorterStemmer()\n",
    "\n",
    "stemmed_dict = defaultdict(set)\n",
    "\n",
    "def stem_and_update_stem_dict(tokens):\n",
    "    output_list = []\n",
    "    for token in tokens:\n",
    "        stemmed = stemmer.stem(token)\n",
    "        if stemmed != token:\n",
    "            stemmed_dict[stemmed].add(token)\n",
    "        output_list.append(stemmed)\n",
    "    return output_list\n",
    "        \n",
    "list_of_POS_to_ignore = ['WRB', 'WP$', 'WP',  'WDT', 'UH', \n",
    "                         'TO', 'RP', 'RBS', 'RB', 'RBR', 'PRP$', 'PRP', \n",
    "                        'MD', 'JJS', 'JJR', 'JJ', 'IN', 'FW', 'EX', \n",
    "                         'DT', 'CD']\n",
    "\n",
    "# Function to remove stop words from sentences & lemmatize verbs. \n",
    "def clean(doc):\n",
    "    #removing stop words \n",
    "    tokens = [i for i in doc if i not in stop]\n",
    "    \n",
    "    # removing pos data \n",
    "    tokens = [word for word, pos in pos_tag(tokens) if pos not in list_of_POS_to_ignore]\n",
    "    # Removing improperly spelled words (pronouns must be capitalized to be spelled right)\n",
    "    tokens = [word for word in tokens if spelling_dict.check(word)]\n",
    "    # lowercase\n",
    "    tokens = [word.lower() for word in tokens]\n",
    "    # lemmatized\n",
    "#     tokens = [lemma.lemmatize(word, 'v') for word in tokens]\n",
    "    # removing short words \n",
    "    tokens = [s for s in tokens if len(s) > 2]\n",
    "    # stemmed\n",
    "#     tokens = stem_and_update_stem_dict(tokens)\n",
    "    \n",
    "    return tokens"
   ]
  },
  {
   "cell_type": "code",
   "execution_count": 75,
   "metadata": {},
   "outputs": [],
   "source": [
    "model.save('models/simple_wiki_chunked_doc2vec')"
   ]
  },
  {
   "cell_type": "code",
   "execution_count": null,
   "metadata": {},
   "outputs": [],
   "source": []
  }
 ],
 "metadata": {
  "kernelspec": {
   "display_name": "Python 3",
   "language": "python",
   "name": "python3"
  },
  "language_info": {
   "codemirror_mode": {
    "name": "ipython",
    "version": 3
   },
   "file_extension": ".py",
   "mimetype": "text/x-python",
   "name": "python",
   "nbconvert_exporter": "python",
   "pygments_lexer": "ipython3",
   "version": "3.6.5"
  }
 },
 "nbformat": 4,
 "nbformat_minor": 2
}
